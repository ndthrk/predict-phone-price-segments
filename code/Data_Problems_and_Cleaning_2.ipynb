{
 "cells": [
  {
   "cell_type": "markdown",
   "id": "fdda8a1c",
   "metadata": {},
   "source": [
    "Tiếp tục xử lý dữ liệu"
   ]
  },
  {
   "cell_type": "markdown",
   "id": "f86a9471",
   "metadata": {},
   "source": [
    "# Khai báo thư viện"
   ]
  },
  {
   "cell_type": "code",
   "execution_count": 1,
   "id": "e8f60158",
   "metadata": {},
   "outputs": [],
   "source": [
    "import pandas as pd\n",
    "import numpy as np\n",
    "import matplotlib.pyplot as plt\n",
    "import re\n",
    "import datetime"
   ]
  },
  {
   "cell_type": "markdown",
   "id": "33a2127a",
   "metadata": {},
   "source": [
    "# Đọc dữ liệu"
   ]
  },
  {
   "cell_type": "code",
   "execution_count": 2,
   "id": "6ace4405",
   "metadata": {
    "scrolled": true
   },
   "outputs": [
    {
     "data": {
      "text/html": [
       "<div>\n",
       "<style scoped>\n",
       "    .dataframe tbody tr th:only-of-type {\n",
       "        vertical-align: middle;\n",
       "    }\n",
       "\n",
       "    .dataframe tbody tr th {\n",
       "        vertical-align: top;\n",
       "    }\n",
       "\n",
       "    .dataframe thead th {\n",
       "        text-align: right;\n",
       "    }\n",
       "</style>\n",
       "<table border=\"1\" class=\"dataframe\">\n",
       "  <thead>\n",
       "    <tr style=\"text-align: right;\">\n",
       "      <th></th>\n",
       "      <th>Unnamed: 0</th>\n",
       "      <th>Name</th>\n",
       "      <th>Brand</th>\n",
       "      <th>Announced</th>\n",
       "      <th>Status</th>\n",
       "      <th>Size</th>\n",
       "      <th>Resolution</th>\n",
       "      <th>OS</th>\n",
       "      <th>Chipset</th>\n",
       "      <th>Card slot</th>\n",
       "      <th>...</th>\n",
       "      <th>RAM</th>\n",
       "      <th>Num of MC</th>\n",
       "      <th>Pic MC</th>\n",
       "      <th>Video MC</th>\n",
       "      <th>Num of SC</th>\n",
       "      <th>Pic SC</th>\n",
       "      <th>Loudspeaker</th>\n",
       "      <th>3.5mm jack</th>\n",
       "      <th>Battery</th>\n",
       "      <th>Price</th>\n",
       "    </tr>\n",
       "  </thead>\n",
       "  <tbody>\n",
       "    <tr>\n",
       "      <th>0</th>\n",
       "      <td>0</td>\n",
       "      <td>1T 7</td>\n",
       "      <td>alcatel</td>\n",
       "      <td>2018, February</td>\n",
       "      <td>Available. Released 2018, June</td>\n",
       "      <td>7.0 inches, 137.9 cm2 (~65.6% screen-to-body r...</td>\n",
       "      <td>600 x 1024 pixels, 16:9 ratio (~170 ppi density)</td>\n",
       "      <td>Android 8.1 (Oreo)</td>\n",
       "      <td>Mediatek MT8321A/D (28 nm)</td>\n",
       "      <td>microSDXC (dedicated slot)</td>\n",
       "      <td>...</td>\n",
       "      <td>1.0</td>\n",
       "      <td>1.0</td>\n",
       "      <td>2</td>\n",
       "      <td>720p@30fps</td>\n",
       "      <td>1.0</td>\n",
       "      <td>0.3</td>\n",
       "      <td>Yes</td>\n",
       "      <td>Yes</td>\n",
       "      <td>2580.0</td>\n",
       "      <td>About 70 EUR</td>\n",
       "    </tr>\n",
       "    <tr>\n",
       "      <th>1</th>\n",
       "      <td>1</td>\n",
       "      <td>Idol 5s</td>\n",
       "      <td>alcatel</td>\n",
       "      <td>2017, September</td>\n",
       "      <td>Available. Released 2017, September</td>\n",
       "      <td>5.2 inches, 74.5 cm2 (~69.7% screen-to-body ra...</td>\n",
       "      <td>1080 x 1920 pixels, 16:9 ratio (~424 ppi density)</td>\n",
       "      <td>Android 7.1 (Nougat)</td>\n",
       "      <td>Mediatek MT6757 Helio P20 (16 nm)</td>\n",
       "      <td>microSDXC (dedicated slot)</td>\n",
       "      <td>...</td>\n",
       "      <td>3.0</td>\n",
       "      <td>1.0</td>\n",
       "      <td>12</td>\n",
       "      <td>1080p@30fps</td>\n",
       "      <td>1.0</td>\n",
       "      <td>8</td>\n",
       "      <td>Yes, with stereo speakers</td>\n",
       "      <td>Yes</td>\n",
       "      <td>2850.0</td>\n",
       "      <td>About 140 EUR</td>\n",
       "    </tr>\n",
       "  </tbody>\n",
       "</table>\n",
       "<p>2 rows × 21 columns</p>\n",
       "</div>"
      ],
      "text/plain": [
       "   Unnamed: 0     Name    Brand        Announced  \\\n",
       "0           0     1T 7  alcatel   2018, February   \n",
       "1           1  Idol 5s  alcatel  2017, September   \n",
       "\n",
       "                                Status  \\\n",
       "0       Available. Released 2018, June   \n",
       "1  Available. Released 2017, September   \n",
       "\n",
       "                                                Size  \\\n",
       "0  7.0 inches, 137.9 cm2 (~65.6% screen-to-body r...   \n",
       "1  5.2 inches, 74.5 cm2 (~69.7% screen-to-body ra...   \n",
       "\n",
       "                                          Resolution                    OS  \\\n",
       "0   600 x 1024 pixels, 16:9 ratio (~170 ppi density)    Android 8.1 (Oreo)   \n",
       "1  1080 x 1920 pixels, 16:9 ratio (~424 ppi density)  Android 7.1 (Nougat)   \n",
       "\n",
       "                             Chipset                   Card slot  ...  RAM  \\\n",
       "0         Mediatek MT8321A/D (28 nm)  microSDXC (dedicated slot)  ...  1.0   \n",
       "1  Mediatek MT6757 Helio P20 (16 nm)  microSDXC (dedicated slot)  ...  3.0   \n",
       "\n",
       "  Num of MC Pic MC     Video MC Num of SC Pic SC                Loudspeaker  \\\n",
       "0       1.0      2   720p@30fps       1.0    0.3                        Yes   \n",
       "1       1.0     12  1080p@30fps       1.0      8  Yes, with stereo speakers   \n",
       "\n",
       "  3.5mm jack Battery          Price  \n",
       "0        Yes  2580.0   About 70 EUR  \n",
       "1        Yes  2850.0  About 140 EUR  \n",
       "\n",
       "[2 rows x 21 columns]"
      ]
     },
     "execution_count": 2,
     "metadata": {},
     "output_type": "execute_result"
    }
   ],
   "source": [
    "df = pd.read_csv('data4884.csv')\n",
    "df.head(2)"
   ]
  },
  {
   "cell_type": "code",
   "execution_count": 3,
   "id": "5e03e5f1",
   "metadata": {},
   "outputs": [
    {
     "data": {
      "text/plain": [
       "(4884, 21)"
      ]
     },
     "execution_count": 3,
     "metadata": {},
     "output_type": "execute_result"
    }
   ],
   "source": [
    "df.shape"
   ]
  },
  {
   "cell_type": "markdown",
   "id": "416198da",
   "metadata": {},
   "source": [
    "Số lượng bản ghi còn 4884, cột mất đi ``Video SC`` tuy nhiên vẫn để lại cột chứa index là ``Unnamed: 0`` để lấy chỉ số và cào dữ liệu lại nếu cần "
   ]
  },
  {
   "cell_type": "markdown",
   "id": "22e5e4bf",
   "metadata": {},
   "source": [
    "# Các vấn đề về dữ liệu\n",
    "Đã xử lý xong trùng lặp và giá trị bị thiếu\n",
    "\n",
    "Thay tên cột ``Unnamed: 0`` thành ``ID``"
   ]
  },
  {
   "cell_type": "code",
   "execution_count": 4,
   "id": "1a5c4e53",
   "metadata": {},
   "outputs": [],
   "source": [
    "df.rename(columns = {'Unnamed: 0':'ID'},inplace=True)"
   ]
  },
  {
   "cell_type": "markdown",
   "id": "18339a94",
   "metadata": {},
   "source": [
    "## Kiểu dữ liệu"
   ]
  },
  {
   "cell_type": "code",
   "execution_count": 5,
   "id": "32a44ef7",
   "metadata": {},
   "outputs": [
    {
     "data": {
      "text/plain": [
       "ID              int64\n",
       "Name           object\n",
       "Brand          object\n",
       "Announced      object\n",
       "Status         object\n",
       "Size           object\n",
       "Resolution     object\n",
       "OS             object\n",
       "Chipset        object\n",
       "Card slot      object\n",
       "ROM            object\n",
       "RAM            object\n",
       "Num of MC      object\n",
       "Pic MC         object\n",
       "Video MC       object\n",
       "Num of SC      object\n",
       "Pic SC         object\n",
       "Loudspeaker    object\n",
       "3.5mm jack     object\n",
       "Battery        object\n",
       "Price          object\n",
       "dtype: object"
      ]
     },
     "execution_count": 5,
     "metadata": {},
     "output_type": "execute_result"
    }
   ],
   "source": [
    "df.dtypes"
   ]
  },
  {
   "cell_type": "markdown",
   "id": "0eb423ad",
   "metadata": {},
   "source": [
    "- ``ROM, RAM, Num of MC/SC, Pic MC/SC, Video MC, Battery, Price`` cần xử lý để chuyển về kiểu số nguyên hoặc số thực\n",
    "- ``Status, Card slot, Loudspeaker, 3.5mm jack`` cũng có thể chuyển về dạng 0,1 nếu cần"
   ]
  },
  {
   "cell_type": "markdown",
   "id": "b89ed462",
   "metadata": {},
   "source": [
    "### Announced và Status\n",
    "2 cột này xuất hiện thêm thời gian phát hành (Released)"
   ]
  },
  {
   "cell_type": "code",
   "execution_count": 6,
   "id": "bfbc1af4",
   "metadata": {},
   "outputs": [
    {
     "data": {
      "text/plain": [
       "2018, February                                          38\n",
       "2019, September                                         35\n",
       "2018, May                                               35\n",
       "2014, September. Released 2014, September               35\n",
       "2018, October                                           33\n",
       "                                                        ..\n",
       "2019, February 07                                        1\n",
       "2012, May. Released 2012, July                           1\n",
       "2011, September. Released Exp. release 2011, October     1\n",
       "2019, May 15                                             1\n",
       "2011, December. Released 2012, February                  1\n",
       "Name: Announced, Length: 1407, dtype: int64"
      ]
     },
     "execution_count": 6,
     "metadata": {},
     "output_type": "execute_result"
    }
   ],
   "source": [
    "df.Announced.value_counts()"
   ]
  },
  {
   "cell_type": "markdown",
   "id": "4108bd6b",
   "metadata": {},
   "source": [
    "- Cột ``Announced`` khá nhiều thông tin dư thừa (năm, quý, ngày tháng, thời gian phát hành (Released) , ... ) \n",
    "- Nên xử lý bằng cách chỉnh về dạng format <năm>, <quý>"
   ]
  },
  {
   "cell_type": "code",
   "execution_count": 7,
   "id": "dc5d7f95",
   "metadata": {},
   "outputs": [
    {
     "data": {
      "text/plain": [
       "Discontinued                           2143\n",
       "Available. Released 2018, April          41\n",
       "Available. Released 2019, September      41\n",
       "Available. Released 2018, May            39\n",
       "Available. Released 2018, June           37\n",
       "                                       ... \n",
       "Available. Released 2020, June 04         1\n",
       "Available. Released 2020, March 15        1\n",
       "Available. Released 2020, May 01          1\n",
       "Available. Released 2020, March 23        1\n",
       "Available. Released 2016, April           1\n",
       "Name: Status, Length: 927, dtype: int64"
      ]
     },
     "execution_count": 7,
     "metadata": {},
     "output_type": "execute_result"
    }
   ],
   "source": [
    "df.Status.value_counts()"
   ]
  },
  {
   "cell_type": "markdown",
   "id": "b28211e8",
   "metadata": {},
   "source": [
    "- Cột ``Status`` lưu thông tin về tình trạng sản phẩm. Tuy nhiên giá trị *Available* có thêm thời gian phát hành"
   ]
  },
  {
   "cell_type": "markdown",
   "id": "f5c9e126",
   "metadata": {},
   "source": [
    "Cần loại bỏ thông tin thời gian phát hành khỏi 2 cột"
   ]
  },
  {
   "cell_type": "markdown",
   "id": "ce338f9b",
   "metadata": {},
   "source": [
    "### Size"
   ]
  },
  {
   "cell_type": "code",
   "execution_count": 8,
   "id": "de3eed39",
   "metadata": {},
   "outputs": [
    {
     "data": {
      "text/plain": [
       "5.0 inches, 68.9 cm2                                    19\n",
       "6.51 inches, 102.3 cm2 (~81.6% screen-to-body ratio)    18\n",
       "5.0 inches, 68.9 cm2 (~66.7% screen-to-body ratio)      18\n",
       "6.5 inches, 102.0 cm2 (~81.6% screen-to-body ratio)     17\n",
       "5.0 inches, 68.9 cm2 (~66.0% screen-to-body ratio)      17\n",
       "                                                        ..\n",
       "4.0 inches, 45.5 cm2 (~63.7% screen-to-body ratio)       1\n",
       "5.3 inches, 77.4 cm2                                     1\n",
       "5.5 inches, 83.4 cm2 (~80.5% screen-to-body ratio)       1\n",
       "5.45 inches, 76.7 cm2 (~71.5% screen-to-body ratio)      1\n",
       "7.0 inches, 137.9 cm2 (~56.0% screen-to-body ratio)      1\n",
       "Name: Size, Length: 2493, dtype: int64"
      ]
     },
     "execution_count": 8,
     "metadata": {},
     "output_type": "execute_result"
    }
   ],
   "source": [
    "df.Size.value_counts()"
   ]
  },
  {
   "cell_type": "markdown",
   "id": "6e152a04",
   "metadata": {},
   "source": [
    "Có chứa 3 thông tin: Kích thước màn hình, Diện tích màn hình và Phần trăm diện tích màn hình so với diện tích thân máy. Tuy nhiên 2 thông tin đầu có thể mọi máy đều có. Vì vậy có thể tách làm 2 cột nếu không xảy ra tình trạng missing value hoặc chỉ lấy giá trị không bị missing value"
   ]
  },
  {
   "cell_type": "code",
   "execution_count": 9,
   "id": "9bbcf481",
   "metadata": {},
   "outputs": [
    {
     "name": "stdout",
     "output_type": "stream",
     "text": [
      "2621\n"
     ]
    },
    {
     "data": {
      "text/plain": [
       "(4883, 4883)"
      ]
     },
     "execution_count": 9,
     "metadata": {},
     "output_type": "execute_result"
    }
   ],
   "source": [
    "inches = []\n",
    "area = []\n",
    "idx = 0\n",
    "for x in df.Size:\n",
    "    try:\n",
    "        # Lấy thông tin số trong chuỗi\n",
    "        i,s = x.split(' inches')\n",
    "        a = re.findall(r\"(\\d*\\.*\\d) cm2\", s)[0]\n",
    "        inches.append(i)\n",
    "        area.append(a)\n",
    "    except:\n",
    "        # In ra vị trí bị lỗi\n",
    "        print(idx)\n",
    "    idx+=1\n",
    "len(inches), len(area)"
   ]
  },
  {
   "cell_type": "markdown",
   "id": "413bcc25",
   "metadata": {},
   "source": [
    "- 4883 bản ghi đều có đủ kích thước và diện tích màn hình.\n",
    "- Tiến hành kiểm tra dòng 2621."
   ]
  },
  {
   "cell_type": "code",
   "execution_count": 10,
   "id": "be7b7fc8",
   "metadata": {},
   "outputs": [
    {
     "data": {
      "text/html": [
       "<div>\n",
       "<style scoped>\n",
       "    .dataframe tbody tr th:only-of-type {\n",
       "        vertical-align: middle;\n",
       "    }\n",
       "\n",
       "    .dataframe tbody tr th {\n",
       "        vertical-align: top;\n",
       "    }\n",
       "\n",
       "    .dataframe thead th {\n",
       "        text-align: right;\n",
       "    }\n",
       "</style>\n",
       "<table border=\"1\" class=\"dataframe\">\n",
       "  <thead>\n",
       "    <tr style=\"text-align: right;\">\n",
       "      <th></th>\n",
       "      <th>ID</th>\n",
       "      <th>Name</th>\n",
       "      <th>Brand</th>\n",
       "      <th>Announced</th>\n",
       "      <th>Status</th>\n",
       "      <th>Size</th>\n",
       "      <th>Resolution</th>\n",
       "      <th>OS</th>\n",
       "      <th>Chipset</th>\n",
       "      <th>Card slot</th>\n",
       "      <th>...</th>\n",
       "      <th>RAM</th>\n",
       "      <th>Num of MC</th>\n",
       "      <th>Pic MC</th>\n",
       "      <th>Video MC</th>\n",
       "      <th>Num of SC</th>\n",
       "      <th>Pic SC</th>\n",
       "      <th>Loudspeaker</th>\n",
       "      <th>3.5mm jack</th>\n",
       "      <th>Battery</th>\n",
       "      <th>Price</th>\n",
       "    </tr>\n",
       "  </thead>\n",
       "  <tbody>\n",
       "    <tr>\n",
       "      <th>2621</th>\n",
       "      <td>7000</td>\n",
       "      <td>Name</td>\n",
       "      <td>Brand</td>\n",
       "      <td>Announced</td>\n",
       "      <td>Status</td>\n",
       "      <td>Size</td>\n",
       "      <td>Resolution</td>\n",
       "      <td>OS</td>\n",
       "      <td>Chipset</td>\n",
       "      <td>Card slot</td>\n",
       "      <td>...</td>\n",
       "      <td>RAM</td>\n",
       "      <td>Num of MC</td>\n",
       "      <td>Pic MC</td>\n",
       "      <td>Video MC</td>\n",
       "      <td>Num of SC</td>\n",
       "      <td>Pic SC</td>\n",
       "      <td>Loudspeaker</td>\n",
       "      <td>3.5mm jack</td>\n",
       "      <td>Battery</td>\n",
       "      <td>Price</td>\n",
       "    </tr>\n",
       "  </tbody>\n",
       "</table>\n",
       "<p>1 rows × 21 columns</p>\n",
       "</div>"
      ],
      "text/plain": [
       "        ID  Name  Brand  Announced  Status  Size  Resolution  OS  Chipset  \\\n",
       "2621  7000  Name  Brand  Announced  Status  Size  Resolution  OS  Chipset   \n",
       "\n",
       "      Card slot  ...  RAM  Num of MC  Pic MC  Video MC  Num of SC  Pic SC  \\\n",
       "2621  Card slot  ...  RAM  Num of MC  Pic MC  Video MC  Num of SC  Pic SC   \n",
       "\n",
       "      Loudspeaker  3.5mm jack  Battery  Price  \n",
       "2621  Loudspeaker  3.5mm jack  Battery  Price  \n",
       "\n",
       "[1 rows x 21 columns]"
      ]
     },
     "execution_count": 10,
     "metadata": {},
     "output_type": "execute_result"
    }
   ],
   "source": [
    "df.loc[[2621]]"
   ]
  },
  {
   "cell_type": "markdown",
   "id": "26470722",
   "metadata": {},
   "source": [
    "Xuất hiện 1 dòng có ID là 7000 có tất cả giá trị trùng với tên cột. Đây có thể là do quá trình đọc ghi file dữ liệu. Cần xoá bỏ bản ghi này"
   ]
  },
  {
   "cell_type": "markdown",
   "id": "5991ee04",
   "metadata": {},
   "source": [
    "### Resolution\n",
    "Cột này mang 3 thông tin là độ phân giải, tỉ lệ màn hình và mật độ điểm ảnh. Tỉ lệ màn hình có thể tính dựa vào độ phân giải."
   ]
  },
  {
   "cell_type": "code",
   "execution_count": 11,
   "id": "159df588",
   "metadata": {},
   "outputs": [
    {
     "data": {
      "text/plain": [
       "720 x 1280 pixels, 16:9 ratio (~294 ppi density)         321\n",
       "1080 x 1920 pixels, 16:9 ratio (~401 ppi density)        176\n",
       "720 x 1600 pixels, 20:9 ratio (~270 ppi density)         158\n",
       "480 x 800 pixels, 5:3 ratio (~233 ppi density)           153\n",
       "720 x 1280 pixels, 16:9 ratio (~267 ppi density)         136\n",
       "                                                        ... \n",
       "1080 x 2340 pixels, 19.5:9 ratio (~413 ppi density)        1\n",
       "1080 x 2400 pixels, 20:9 ratio (~415 ppi density)          1\n",
       "1080 x 2400 pixels, 20:9 ratio (~429 ppi density)          1\n",
       "1080 x 2400 pixels, 20:9 ratio (~416 ppi density)          1\n",
       "540 x 960 pixels (TBC), 16:9 ratio (~245 ppi density)      1\n",
       "Name: Resolution, Length: 623, dtype: int64"
      ]
     },
     "execution_count": 11,
     "metadata": {},
     "output_type": "execute_result"
    }
   ],
   "source": [
    "df.Resolution.value_counts()"
   ]
  },
  {
   "cell_type": "code",
   "execution_count": 12,
   "id": "a0bdab3c",
   "metadata": {},
   "outputs": [
    {
     "data": {
      "text/plain": [
       "(4878, 4878, 6)"
      ]
     },
     "execution_count": 12,
     "metadata": {},
     "output_type": "execute_result"
    }
   ],
   "source": [
    "pixels = []\n",
    "ppi = []\n",
    "error = []\n",
    "idx = 0\n",
    "for x in df.Resolution:\n",
    "    try:\n",
    "        p,s = x.split(' pixels')\n",
    "        i = re.findall(r\"(\\d*\\.*\\d) ppi density\", s)[0]\n",
    "        pixels.append(p)\n",
    "        ppi.append(i)\n",
    "    except:\n",
    "        # In ra vị trí bị lỗi\n",
    "        error.append(idx)\n",
    "    idx+=1\n",
    "len(pixels), len(ppi), len(error)"
   ]
  },
  {
   "cell_type": "markdown",
   "id": "bf47c65b",
   "metadata": {},
   "source": [
    "Có 6 giá trị bị lỗi "
   ]
  },
  {
   "cell_type": "code",
   "execution_count": 13,
   "id": "aff3037c",
   "metadata": {},
   "outputs": [
    {
     "data": {
      "text/plain": [
       "[584, 864, 869, 888, 2412, 2621]"
      ]
     },
     "execution_count": 13,
     "metadata": {},
     "output_type": "execute_result"
    }
   ],
   "source": [
    "error"
   ]
  },
  {
   "cell_type": "markdown",
   "id": "ab6bc121",
   "metadata": {},
   "source": [
    "Dòng 2621 là dòng bị lỗi trước đó"
   ]
  },
  {
   "cell_type": "code",
   "execution_count": 14,
   "id": "4f9d7c22",
   "metadata": {},
   "outputs": [
    {
     "name": "stdout",
     "output_type": "stream",
     "text": [
      "584: 1080 x 1920 pixels720 x 1280 pixels - K550 model, 16:9 ratio (~386 ppi density)\n",
      "864: 540 x 960, 16:9 ratio (~220 ppi density)\n",
      "869: 540 x 960, 16:9 ratio (~220 ppi density)\n",
      "888: 320 x 480 pixels, 3:2 ratio\n",
      "2412: 1080 x 1920 pixels (KNT-AL10, KNT-TL10) (~386 ppi pixel density) 1440 x 2560 pixels (KNT-AL20), 16:9 ratio (~515 ppi density)\n",
      "2621: Resolution\n"
     ]
    }
   ],
   "source": [
    "i=0\n",
    "for v in df.Resolution.loc[error]:\n",
    "    print(error[i],v,sep=': ')\n",
    "    i+=1"
   ]
  },
  {
   "cell_type": "markdown",
   "id": "ebb6ef95",
   "metadata": {},
   "source": [
    "- 584 và 2412 có 2 phiên bản. Tuy nhiên chỉ lấy phiên bản đầu tiên\n",
    "- 864 và 869 không có từ khoá pixels \n",
    "- 888 không có ppi"
   ]
  },
  {
   "cell_type": "code",
   "execution_count": 15,
   "id": "fe38532f",
   "metadata": {},
   "outputs": [
    {
     "data": {
      "text/html": [
       "<div>\n",
       "<style scoped>\n",
       "    .dataframe tbody tr th:only-of-type {\n",
       "        vertical-align: middle;\n",
       "    }\n",
       "\n",
       "    .dataframe tbody tr th {\n",
       "        vertical-align: top;\n",
       "    }\n",
       "\n",
       "    .dataframe thead th {\n",
       "        text-align: right;\n",
       "    }\n",
       "</style>\n",
       "<table border=\"1\" class=\"dataframe\">\n",
       "  <thead>\n",
       "    <tr style=\"text-align: right;\">\n",
       "      <th></th>\n",
       "      <th>ID</th>\n",
       "      <th>Name</th>\n",
       "      <th>Brand</th>\n",
       "      <th>Announced</th>\n",
       "      <th>Status</th>\n",
       "      <th>Size</th>\n",
       "      <th>Resolution</th>\n",
       "      <th>OS</th>\n",
       "      <th>Chipset</th>\n",
       "      <th>Card slot</th>\n",
       "      <th>...</th>\n",
       "      <th>RAM</th>\n",
       "      <th>Num of MC</th>\n",
       "      <th>Pic MC</th>\n",
       "      <th>Video MC</th>\n",
       "      <th>Num of SC</th>\n",
       "      <th>Pic SC</th>\n",
       "      <th>Loudspeaker</th>\n",
       "      <th>3.5mm jack</th>\n",
       "      <th>Battery</th>\n",
       "      <th>Price</th>\n",
       "    </tr>\n",
       "  </thead>\n",
       "  <tbody>\n",
       "    <tr>\n",
       "      <th>888</th>\n",
       "      <td>2139</td>\n",
       "      <td>A80</td>\n",
       "      <td>Micromax</td>\n",
       "      <td>2012, August. Released 2012, August</td>\n",
       "      <td>Discontinued</td>\n",
       "      <td>3.75 inches, 41.9 cm2 (~50.5% screen-to-body r...</td>\n",
       "      <td>320 x 480 pixels, 3:2 ratio</td>\n",
       "      <td>Android 2.3.4 (Gingerbread)</td>\n",
       "      <td>Mediatek MT6573 (65 nm)</td>\n",
       "      <td>microSDHC (dedicated slot)</td>\n",
       "      <td>...</td>\n",
       "      <td>0.0</td>\n",
       "      <td>1.0</td>\n",
       "      <td>5</td>\n",
       "      <td>Yes</td>\n",
       "      <td>1.0</td>\n",
       "      <td>0.3</td>\n",
       "      <td>Yes</td>\n",
       "      <td>Yes</td>\n",
       "      <td>2500.0</td>\n",
       "      <td>About 120 EUR</td>\n",
       "    </tr>\n",
       "  </tbody>\n",
       "</table>\n",
       "<p>1 rows × 21 columns</p>\n",
       "</div>"
      ],
      "text/plain": [
       "       ID Name     Brand                            Announced        Status  \\\n",
       "888  2139  A80  Micromax  2012, August. Released 2012, August  Discontinued   \n",
       "\n",
       "                                                  Size  \\\n",
       "888  3.75 inches, 41.9 cm2 (~50.5% screen-to-body r...   \n",
       "\n",
       "                      Resolution                           OS  \\\n",
       "888  320 x 480 pixels, 3:2 ratio  Android 2.3.4 (Gingerbread)   \n",
       "\n",
       "                     Chipset                   Card slot  ...  RAM Num of MC  \\\n",
       "888  Mediatek MT6573 (65 nm)  microSDHC (dedicated slot)  ...  0.0       1.0   \n",
       "\n",
       "    Pic MC Video MC Num of SC Pic SC Loudspeaker 3.5mm jack Battery  \\\n",
       "888      5      Yes       1.0    0.3         Yes        Yes  2500.0   \n",
       "\n",
       "             Price  \n",
       "888  About 120 EUR  \n",
       "\n",
       "[1 rows x 21 columns]"
      ]
     },
     "execution_count": 15,
     "metadata": {},
     "output_type": "execute_result"
    }
   ],
   "source": [
    "df.loc[[888]]"
   ]
  },
  {
   "cell_type": "markdown",
   "id": "53b79380",
   "metadata": {},
   "source": [
    "Dòng 888 có ppi là 156"
   ]
  },
  {
   "cell_type": "markdown",
   "id": "d19c9d44",
   "metadata": {},
   "source": [
    "### Card slot"
   ]
  },
  {
   "cell_type": "code",
   "execution_count": 16,
   "id": "c0854c69",
   "metadata": {},
   "outputs": [
    {
     "data": {
      "text/plain": [
       "microSDXC (dedicated slot)                                                                               1541\n",
       "No                                                                                                        936\n",
       "microSDXC (uses shared SIM slot)                                                                          774\n",
       "microSDHC (dedicated slot)                                                                                754\n",
       "microSDXC                                                                                                 396\n",
       "microSDHC                                                                                                 202\n",
       "NM (Nano Memory), up to 256GB (uses shared SIM slot)                                                       62\n",
       "microSDXC (uses shared SIM slot) - dual SIM model only                                                     39\n",
       "microSDHC (dedicated slot), 8 GB included                                                                  27\n",
       "microSDHC (uses shared SIM slot)                                                                           21\n",
       "Unspecified                                                                                                21\n",
       "microSDHC (dedicated slot), 2 GB included                                                                  20\n",
       "microSD (dedicated slot)                                                                                   19\n",
       "microSDHC (dedicated slot), 16 GB included                                                                 14\n",
       "microSD                                                                                                    13\n",
       "microSDHC (dedicated slot), 4 GB included                                                                   5\n",
       "microSDXC (dedicated slot) - single-SIM modelmicroSDXC (uses shared SIM slot) - dual-SIM model              5\n",
       "microSDXC (uses shared SIM slot) - dual-SIM model                                                           4\n",
       "NM (Nano Memory), up to 256GB (dedicated slot)                                                              3\n",
       "microSDXC (dedicated slot) - single-SIM model                                                               3\n",
       "SD, up to 32 GB                                                                                             2\n",
       "microSDXC (dedicated slot), 2 GB included                                                                   2\n",
       "RS-DV-MMC, 64 MB included                                                                                   2\n",
       "microSDXC (dedicated slot); microSDHC (SGP351)                                                              1\n",
       "microSD, up to 128 GB (dedicated slot) - non microSDXC compliant                                            1\n",
       "microSDXC (dedicated slot) - single-SIM model No microSDXC - dual-SIM model                                 1\n",
       "Yes, up to 64 GB (dedicated slot)                                                                           1\n",
       "Card slot                                                                                                   1\n",
       "microSDXC (dedicated slot) - Chinese version only                                                           1\n",
       "microSDXC (6GB model only)                                                                                  1\n",
       "microSDXC (dedicated slot) - single & dual SIM models                                                       1\n",
       "miniSD                                                                                                      1\n",
       "microSD (dedicated slot), SD 2.0 compatible                                                                 1\n",
       "microSDHC (dedicated slot), 32 GB included                                                                  1\n",
       "microSDXC (dedicated slot) - single-SIM model microSDXC (uses shared SIM slot) - dual-SIM model             1\n",
       "microSDXC (uses shared SIM slot) - USA onlymicroSDXC (dedicated slot) - International                       1\n",
       "microSDXC (dedicated slot) - LTE modelmicroSDHC (dedicated slot) - 3G model                                 1\n",
       "SD/microSDHC (dedicated slot)                                                                               1\n",
       "microSDXC (dedicated slot), 16 GB included                                                                  1\n",
       "microSDXC (dedicated slot) - F620SmicroSDHC (dedicated slot) - H650E                                        1\n",
       "microSDXC (only single sim model)                                                                           1\n",
       "microSDHC (uses shared SIM slot) - mediatek model microSDXC (uses shared SIM slot) - snapdragon model       1\n",
       "Name: Card slot, dtype: int64"
      ]
     },
     "execution_count": 16,
     "metadata": {},
     "output_type": "execute_result"
    }
   ],
   "source": [
    "df['Card slot'].value_counts()"
   ]
  },
  {
   "cell_type": "markdown",
   "id": "c1e9d872",
   "metadata": {},
   "source": [
    "- Có 21 giá trị Unspecified \n",
    "- Có 1 dòng Yes nhưng không rõ là loại thẻ nhớ nào\n",
    "- Gồm có các loại thẻ sau: SD,miniSD,microSD,microSDHC,microSDXC,microSDUC, NM(của hãng Huawei)\n",
    "- Ngoài ra, RS-DV-MMC là loại thẻ nhớ cũ (MultiMediaCard và các kiểu cùng loại)"
   ]
  },
  {
   "cell_type": "code",
   "execution_count": 17,
   "id": "06550bb6",
   "metadata": {},
   "outputs": [
    {
     "data": {
      "text/html": [
       "<div>\n",
       "<style scoped>\n",
       "    .dataframe tbody tr th:only-of-type {\n",
       "        vertical-align: middle;\n",
       "    }\n",
       "\n",
       "    .dataframe tbody tr th {\n",
       "        vertical-align: top;\n",
       "    }\n",
       "\n",
       "    .dataframe thead th {\n",
       "        text-align: right;\n",
       "    }\n",
       "</style>\n",
       "<table border=\"1\" class=\"dataframe\">\n",
       "  <thead>\n",
       "    <tr style=\"text-align: right;\">\n",
       "      <th></th>\n",
       "      <th>ID</th>\n",
       "      <th>Name</th>\n",
       "      <th>Brand</th>\n",
       "      <th>Announced</th>\n",
       "      <th>Status</th>\n",
       "      <th>Size</th>\n",
       "      <th>Resolution</th>\n",
       "      <th>OS</th>\n",
       "      <th>Chipset</th>\n",
       "      <th>Card slot</th>\n",
       "      <th>...</th>\n",
       "      <th>RAM</th>\n",
       "      <th>Num of MC</th>\n",
       "      <th>Pic MC</th>\n",
       "      <th>Video MC</th>\n",
       "      <th>Num of SC</th>\n",
       "      <th>Pic SC</th>\n",
       "      <th>Loudspeaker</th>\n",
       "      <th>3.5mm jack</th>\n",
       "      <th>Battery</th>\n",
       "      <th>Price</th>\n",
       "    </tr>\n",
       "  </thead>\n",
       "  <tbody>\n",
       "    <tr>\n",
       "      <th>1253</th>\n",
       "      <td>3365</td>\n",
       "      <td>Bold N2</td>\n",
       "      <td>BLU</td>\n",
       "      <td>2022, August 11</td>\n",
       "      <td>Available. Released 2022, August 11</td>\n",
       "      <td>6.6 inches, 106.9 cm2 (~90.9% screen-to-body r...</td>\n",
       "      <td>1080 x 2340 pixels, 19.5:9 ratio (~390 ppi den...</td>\n",
       "      <td>Android 11</td>\n",
       "      <td>Mediatek MT6833P Dimensity 810 (6 nm)</td>\n",
       "      <td>Unspecified</td>\n",
       "      <td>...</td>\n",
       "      <td>8.0</td>\n",
       "      <td>4.0</td>\n",
       "      <td>64,5,2,2</td>\n",
       "      <td>1080p@30fps</td>\n",
       "      <td>2.0</td>\n",
       "      <td>16,2</td>\n",
       "      <td>Yes</td>\n",
       "      <td>No</td>\n",
       "      <td>4200.0</td>\n",
       "      <td>About 230 EUR</td>\n",
       "    </tr>\n",
       "    <tr>\n",
       "      <th>1390</th>\n",
       "      <td>4007</td>\n",
       "      <td>C12</td>\n",
       "      <td>Nokia</td>\n",
       "      <td>2023, January 18</td>\n",
       "      <td>Available. Released 2023, February 02</td>\n",
       "      <td>6.3 inches, 95.8 cm2 (~80.3% screen-to-body ra...</td>\n",
       "      <td>720 x 1600 pixels, 20:9 ratio (~278 ppi density)</td>\n",
       "      <td>Android 12 (Go edition)</td>\n",
       "      <td>Unisoc SC9863A1 (28nm)</td>\n",
       "      <td>Unspecified</td>\n",
       "      <td>...</td>\n",
       "      <td>2.0</td>\n",
       "      <td>1.0</td>\n",
       "      <td>8</td>\n",
       "      <td>Yes</td>\n",
       "      <td>1.0</td>\n",
       "      <td>5.0</td>\n",
       "      <td>Yes</td>\n",
       "      <td>Yes</td>\n",
       "      <td>3000.0</td>\n",
       "      <td>About 90 EUR</td>\n",
       "    </tr>\n",
       "    <tr>\n",
       "      <th>1562</th>\n",
       "      <td>4689</td>\n",
       "      <td>A97</td>\n",
       "      <td>Oppo</td>\n",
       "      <td>2022, July 12</td>\n",
       "      <td>Available. Released 2022, July 15</td>\n",
       "      <td>6.6 inches, 104.9 cm2</td>\n",
       "      <td>1080 x 2408 pixels, 20:9 ratio (~400 ppi density)</td>\n",
       "      <td>Android 12, ColorOS 12</td>\n",
       "      <td>Mediatek MT6833P Dimensity 810 (6 nm)</td>\n",
       "      <td>Unspecified</td>\n",
       "      <td>...</td>\n",
       "      <td>12.0</td>\n",
       "      <td>2.0</td>\n",
       "      <td>48,2</td>\n",
       "      <td>1080p@30fps</td>\n",
       "      <td>1.0</td>\n",
       "      <td>12</td>\n",
       "      <td>Yes, with stereo speakers</td>\n",
       "      <td>Yes</td>\n",
       "      <td>5000.0</td>\n",
       "      <td>About 310 EUR</td>\n",
       "    </tr>\n",
       "    <tr>\n",
       "      <th>1600</th>\n",
       "      <td>4727</td>\n",
       "      <td>A54s</td>\n",
       "      <td>Oppo</td>\n",
       "      <td>2021, October 27</td>\n",
       "      <td>Available. Released 2021, November 18</td>\n",
       "      <td>6.52 inches, 102.6 cm2 (~82.9% screen-to-body ...</td>\n",
       "      <td>720 x 1600 pixels, 20:9 ratio (~269 ppi density)</td>\n",
       "      <td>Android 11, ColorOS 11.1</td>\n",
       "      <td>Mediatek MT6765G Helio G35 (12 nm)</td>\n",
       "      <td>Unspecified</td>\n",
       "      <td>...</td>\n",
       "      <td>4.0</td>\n",
       "      <td>3.0</td>\n",
       "      <td>50,2,2</td>\n",
       "      <td>1080p@30fps</td>\n",
       "      <td>1.0</td>\n",
       "      <td>8</td>\n",
       "      <td>Yes</td>\n",
       "      <td>Yes</td>\n",
       "      <td>5000.0</td>\n",
       "      <td>$ 199.99 / € 186.80 / £ 199.99 / C$ 243.50</td>\n",
       "    </tr>\n",
       "    <tr>\n",
       "      <th>1968</th>\n",
       "      <td>5751</td>\n",
       "      <td>Q3t</td>\n",
       "      <td>Realme</td>\n",
       "      <td>2021, November 10</td>\n",
       "      <td>Available. Released 2021, November 15</td>\n",
       "      <td>6.6 inches, 104.8 cm2</td>\n",
       "      <td>1080 x 2412 pixels, 20:9 ratio (~400 ppi density)</td>\n",
       "      <td>Android 11, Realme UI 2.0</td>\n",
       "      <td>Qualcomm SM7325 Snapdragon 778G 5G (6 nm)</td>\n",
       "      <td>Unspecified</td>\n",
       "      <td>...</td>\n",
       "      <td>8.0</td>\n",
       "      <td>3.0</td>\n",
       "      <td>48,2,2</td>\n",
       "      <td>4K@30fps, 1080p@30/60fps</td>\n",
       "      <td>1.0</td>\n",
       "      <td>16</td>\n",
       "      <td>Yes</td>\n",
       "      <td>Yes</td>\n",
       "      <td>5000.0</td>\n",
       "      <td>About 290 EUR</td>\n",
       "    </tr>\n",
       "    <tr>\n",
       "      <th>2023</th>\n",
       "      <td>5812</td>\n",
       "      <td>V3</td>\n",
       "      <td>Realme</td>\n",
       "      <td>2020, September 01</td>\n",
       "      <td>Available. Released 2020, September 10</td>\n",
       "      <td>6.5 inches, 102.0 cm2 (~81.6% screen-to-body r...</td>\n",
       "      <td>720 x 1600 pixels, 20:9 ratio (~270 ppi density)</td>\n",
       "      <td>Android 10, Realme UI</td>\n",
       "      <td>Mediatek MT6853V Dimensity 720 (7 nm)</td>\n",
       "      <td>Unspecified</td>\n",
       "      <td>...</td>\n",
       "      <td>6.0</td>\n",
       "      <td>3.0</td>\n",
       "      <td>13,2,2</td>\n",
       "      <td>4K@30/60fps, 1080p@30/60fps</td>\n",
       "      <td>1.0</td>\n",
       "      <td>8</td>\n",
       "      <td>Yes</td>\n",
       "      <td>Yes</td>\n",
       "      <td>5000.0</td>\n",
       "      <td>About 120 EUR</td>\n",
       "    </tr>\n",
       "    <tr>\n",
       "      <th>2138</th>\n",
       "      <td>6092</td>\n",
       "      <td>V11</td>\n",
       "      <td>Doogee</td>\n",
       "      <td>2022, July 15</td>\n",
       "      <td>Available. Released 2022, July</td>\n",
       "      <td>6.39 inches, 100.2 cm2 (~72.9% screen-to-body ...</td>\n",
       "      <td>720 x 1560 pixels, 19.5:9 ratio (~269 ppi dens...</td>\n",
       "      <td>Android 11</td>\n",
       "      <td>Mediatek MT6833 Dimensity 700 (7 nm)</td>\n",
       "      <td>Unspecified</td>\n",
       "      <td>...</td>\n",
       "      <td>8</td>\n",
       "      <td>3.0</td>\n",
       "      <td>48,8,2</td>\n",
       "      <td>1440p, 1080p</td>\n",
       "      <td>1.0</td>\n",
       "      <td>16</td>\n",
       "      <td>Yes</td>\n",
       "      <td>No</td>\n",
       "      <td>8500</td>\n",
       "      <td>About 350 EUR</td>\n",
       "    </tr>\n",
       "    <tr>\n",
       "      <th>2148</th>\n",
       "      <td>6105</td>\n",
       "      <td>V10</td>\n",
       "      <td>Doogee</td>\n",
       "      <td>2021, August 02</td>\n",
       "      <td>Available. Released 2021, August</td>\n",
       "      <td>6.39 inches, 100.2 cm2 (~72.9% screen-to-body ...</td>\n",
       "      <td>720 x 1560 pixels, 19.5:9 ratio (~269 ppi dens...</td>\n",
       "      <td>Android 11</td>\n",
       "      <td>Mediatek MT6833 Dimensity 700 (7 nm)</td>\n",
       "      <td>Unspecified</td>\n",
       "      <td>...</td>\n",
       "      <td>8</td>\n",
       "      <td>3.0</td>\n",
       "      <td>48,8,2</td>\n",
       "      <td>1440p, 1080p</td>\n",
       "      <td>1.0</td>\n",
       "      <td>16</td>\n",
       "      <td>Yes</td>\n",
       "      <td>No</td>\n",
       "      <td>8500</td>\n",
       "      <td>About 350 EUR</td>\n",
       "    </tr>\n",
       "    <tr>\n",
       "      <th>2207</th>\n",
       "      <td>6338</td>\n",
       "      <td>G13 Pro</td>\n",
       "      <td>Gionee</td>\n",
       "      <td>2022, January 28</td>\n",
       "      <td>Available. Released 2022, January 30</td>\n",
       "      <td>6.26 inches, 94.6 cm2 (~78.8% screen-to-body r...</td>\n",
       "      <td>720 x 1600 pixels, 20:9 ratio (~280 ppi density)</td>\n",
       "      <td>HarmonyOS</td>\n",
       "      <td>Unisoc Tiger T310 (12nm)</td>\n",
       "      <td>Unspecified</td>\n",
       "      <td>...</td>\n",
       "      <td>4</td>\n",
       "      <td>2.0</td>\n",
       "      <td>13,2</td>\n",
       "      <td>1080p@30fps</td>\n",
       "      <td>1.0</td>\n",
       "      <td>5</td>\n",
       "      <td>Yes</td>\n",
       "      <td>Yes</td>\n",
       "      <td>3500</td>\n",
       "      <td>About 80 EUR</td>\n",
       "    </tr>\n",
       "    <tr>\n",
       "      <th>2341</th>\n",
       "      <td>6572</td>\n",
       "      <td>Play5 5G</td>\n",
       "      <td>Honor</td>\n",
       "      <td>2021, May 18</td>\n",
       "      <td>Available. Released 2021, May 26</td>\n",
       "      <td>6.53 inches, 102.9 cm2 (~85.2% screen-to-body ...</td>\n",
       "      <td>1080 x 2400 pixels, 20:9 ratio (~403 ppi density)</td>\n",
       "      <td>Android 10, Magic UI 4.0, no Google Play Services</td>\n",
       "      <td>Mediatek MT6853 Dimensity 800U (7 nm)</td>\n",
       "      <td>Unspecified</td>\n",
       "      <td>...</td>\n",
       "      <td>8</td>\n",
       "      <td>4.0</td>\n",
       "      <td>64,8,2,2</td>\n",
       "      <td>4K@30fps, 1080p@30fps, gyro-EIS</td>\n",
       "      <td>1.0</td>\n",
       "      <td>16</td>\n",
       "      <td>Yes</td>\n",
       "      <td>No</td>\n",
       "      <td>3800</td>\n",
       "      <td>About 270 EUR</td>\n",
       "    </tr>\n",
       "    <tr>\n",
       "      <th>3760</th>\n",
       "      <td>10020</td>\n",
       "      <td>REVVL V+ 5G</td>\n",
       "      <td>T-Mobile</td>\n",
       "      <td>2021, July 01</td>\n",
       "      <td>Available. Released 2021, July 12</td>\n",
       "      <td>6.82 inches, 112.3 cm2 (~83.4% screen-to-body ...</td>\n",
       "      <td>720 x 1640 pixels, 20:9 ratio (~257 ppi density)</td>\n",
       "      <td>Android 11</td>\n",
       "      <td>Mediatek MT6833 Dimensity 700 (7 nm)</td>\n",
       "      <td>Unspecified</td>\n",
       "      <td>...</td>\n",
       "      <td>4.0</td>\n",
       "      <td>3.0</td>\n",
       "      <td>16,5,2</td>\n",
       "      <td>1080p@30fps</td>\n",
       "      <td>1.0</td>\n",
       "      <td>16</td>\n",
       "      <td>Yes</td>\n",
       "      <td>Yes</td>\n",
       "      <td>5000.0</td>\n",
       "      <td>About 170 EUR</td>\n",
       "    </tr>\n",
       "    <tr>\n",
       "      <th>3831</th>\n",
       "      <td>10156</td>\n",
       "      <td>Pova 5G</td>\n",
       "      <td>Tecno</td>\n",
       "      <td>2021, December 27</td>\n",
       "      <td>Available. Released 2021, December 27</td>\n",
       "      <td>6.9 inches, 113.1 cm2 (~83.7% screen-to-body r...</td>\n",
       "      <td>1080 x 2460 pixels (~389 ppi density)</td>\n",
       "      <td>Android 11, HIOS 8.0</td>\n",
       "      <td>Mediatek MT6877 Dimensity 900 (6 nm)</td>\n",
       "      <td>Unspecified</td>\n",
       "      <td>...</td>\n",
       "      <td>8.0</td>\n",
       "      <td>3.0</td>\n",
       "      <td>50,2</td>\n",
       "      <td>1080p@30fps</td>\n",
       "      <td>1.0</td>\n",
       "      <td>16</td>\n",
       "      <td>Yes</td>\n",
       "      <td>Yes</td>\n",
       "      <td>6000.0</td>\n",
       "      <td>About 270 EUR</td>\n",
       "    </tr>\n",
       "    <tr>\n",
       "      <th>3833</th>\n",
       "      <td>10158</td>\n",
       "      <td>Camon 18T</td>\n",
       "      <td>Tecno</td>\n",
       "      <td>2021, November 30</td>\n",
       "      <td>Available. Released 2021, November 30</td>\n",
       "      <td>6.8 inches, 109.8 cm2 (~84.8% screen-to-body r...</td>\n",
       "      <td>1080 x 2460 pixels (~395 ppi density)</td>\n",
       "      <td>Android 11, HIOS 8.0</td>\n",
       "      <td>Mediatek MT6769Z Helio G85 (12nm)</td>\n",
       "      <td>Unspecified</td>\n",
       "      <td>...</td>\n",
       "      <td>4.0</td>\n",
       "      <td>3.0</td>\n",
       "      <td>48,2,2</td>\n",
       "      <td>1080p@30fps</td>\n",
       "      <td>1.0</td>\n",
       "      <td>48</td>\n",
       "      <td>Yes</td>\n",
       "      <td>Yes</td>\n",
       "      <td>5000.0</td>\n",
       "      <td>About 150 EUR</td>\n",
       "    </tr>\n",
       "    <tr>\n",
       "      <th>3836</th>\n",
       "      <td>10161</td>\n",
       "      <td>Camon 18i</td>\n",
       "      <td>Tecno</td>\n",
       "      <td>2021, November 01</td>\n",
       "      <td>Available. Released 2021, November 01</td>\n",
       "      <td>6.6 inches, 103.4 cm2 (~82.2% screen-to-body r...</td>\n",
       "      <td>720 x 1640 pixels (~271 ppi density)</td>\n",
       "      <td>Android 11, HIOS 7.6</td>\n",
       "      <td>Mediatek MT6769Z Helio G85 (12nm)</td>\n",
       "      <td>Unspecified</td>\n",
       "      <td>...</td>\n",
       "      <td>4.0</td>\n",
       "      <td>3.0</td>\n",
       "      <td>48</td>\n",
       "      <td>1080p@30fps</td>\n",
       "      <td>1.0</td>\n",
       "      <td>16</td>\n",
       "      <td>Yes</td>\n",
       "      <td>Yes</td>\n",
       "      <td>5000.0</td>\n",
       "      <td>About 150 EUR</td>\n",
       "    </tr>\n",
       "    <tr>\n",
       "      <th>3839</th>\n",
       "      <td>10164</td>\n",
       "      <td>Camon 18 P</td>\n",
       "      <td>Tecno</td>\n",
       "      <td>2021, October 04</td>\n",
       "      <td>Available. Released 2021, December 14</td>\n",
       "      <td>6.8 inches, 109.8 cm2 (~84.8% screen-to-body r...</td>\n",
       "      <td>1080 x 2460 pixels (~395 ppi density)</td>\n",
       "      <td>Android 11, HIOS 8.0</td>\n",
       "      <td>Mediatek Helio G96 (12 nm)</td>\n",
       "      <td>Unspecified</td>\n",
       "      <td>...</td>\n",
       "      <td>8.0</td>\n",
       "      <td>3.0</td>\n",
       "      <td>48,13,2</td>\n",
       "      <td>Yes</td>\n",
       "      <td>1.0</td>\n",
       "      <td>16</td>\n",
       "      <td>Yes</td>\n",
       "      <td>Yes</td>\n",
       "      <td>5000.0</td>\n",
       "      <td>About 200 EUR</td>\n",
       "    </tr>\n",
       "    <tr>\n",
       "      <th>3840</th>\n",
       "      <td>10165</td>\n",
       "      <td>Camon 18</td>\n",
       "      <td>Tecno</td>\n",
       "      <td>2021, October 04</td>\n",
       "      <td>Available. Released 2021, November 23</td>\n",
       "      <td>6.8 inches, 109.8 cm2 (~84.8% screen-to-body r...</td>\n",
       "      <td>1080 x 2460 pixels (~395 ppi density)</td>\n",
       "      <td>Android 11, HIOS 8.0</td>\n",
       "      <td>Mediatek Helio G88 (12nm)</td>\n",
       "      <td>Unspecified</td>\n",
       "      <td>...</td>\n",
       "      <td>4.0</td>\n",
       "      <td>3.0</td>\n",
       "      <td>48,2,2</td>\n",
       "      <td>1080p@30fps</td>\n",
       "      <td>1.0</td>\n",
       "      <td>16</td>\n",
       "      <td>Yes</td>\n",
       "      <td>Yes</td>\n",
       "      <td>5000.0</td>\n",
       "      <td>About 170 EUR</td>\n",
       "    </tr>\n",
       "    <tr>\n",
       "      <th>3846</th>\n",
       "      <td>10173</td>\n",
       "      <td>Camon 17P</td>\n",
       "      <td>Tecno</td>\n",
       "      <td>2021, May 08</td>\n",
       "      <td>Available. Released 2021, May 28</td>\n",
       "      <td>6.8 inches, 109.8 cm2 (~85.2% screen-to-body r...</td>\n",
       "      <td>1080 x 2460 pixels (~395 ppi density)</td>\n",
       "      <td>Android 11, HIOS 7.6</td>\n",
       "      <td>Mediatek MT6769Z Helio G85 (12nm)</td>\n",
       "      <td>Unspecified</td>\n",
       "      <td>...</td>\n",
       "      <td>6.0</td>\n",
       "      <td>4.0</td>\n",
       "      <td>64,2,2</td>\n",
       "      <td>1080p@30fps</td>\n",
       "      <td>1.0</td>\n",
       "      <td>16</td>\n",
       "      <td>Yes</td>\n",
       "      <td>Yes</td>\n",
       "      <td>5000.0</td>\n",
       "      <td>About 210 EUR</td>\n",
       "    </tr>\n",
       "    <tr>\n",
       "      <th>3847</th>\n",
       "      <td>10174</td>\n",
       "      <td>Camon 17</td>\n",
       "      <td>Tecno</td>\n",
       "      <td>2021, May 08</td>\n",
       "      <td>Available. Released 2021, May 22</td>\n",
       "      <td>6.6 inches, 105.2 cm2 (~83.6% screen-to-body r...</td>\n",
       "      <td>720 x 1600 pixels, 20:9 ratio (~266 ppi density)</td>\n",
       "      <td>Android 11, HIOS 7.6</td>\n",
       "      <td>Mediatek MT6769Z Helio G85 (12nm)</td>\n",
       "      <td>Unspecified</td>\n",
       "      <td>...</td>\n",
       "      <td>4.0</td>\n",
       "      <td>3.0</td>\n",
       "      <td>48,2</td>\n",
       "      <td>1080p@30fps</td>\n",
       "      <td>1.0</td>\n",
       "      <td>16</td>\n",
       "      <td>Yes</td>\n",
       "      <td>Yes</td>\n",
       "      <td>5000.0</td>\n",
       "      <td>About 160 EUR</td>\n",
       "    </tr>\n",
       "    <tr>\n",
       "      <th>3850</th>\n",
       "      <td>10178</td>\n",
       "      <td>Camon 16 Pro</td>\n",
       "      <td>Tecno</td>\n",
       "      <td>2020, September 04</td>\n",
       "      <td>Available. Released 2020, September</td>\n",
       "      <td>6.8 inches, 109.8 cm2 (~83.2% screen-to-body r...</td>\n",
       "      <td>720 x 1640 pixels (~263 ppi density)</td>\n",
       "      <td>Android 10, HIOS 7.0</td>\n",
       "      <td>Mediatek Helio G70 (12 nm)</td>\n",
       "      <td>Unspecified</td>\n",
       "      <td>...</td>\n",
       "      <td>4.0</td>\n",
       "      <td>4.0</td>\n",
       "      <td>64,8,2</td>\n",
       "      <td>1080p@30fps</td>\n",
       "      <td>2.0</td>\n",
       "      <td>16</td>\n",
       "      <td>Yes</td>\n",
       "      <td>Yes</td>\n",
       "      <td>5000.0</td>\n",
       "      <td>About 150 EUR</td>\n",
       "    </tr>\n",
       "    <tr>\n",
       "      <th>3851</th>\n",
       "      <td>10179</td>\n",
       "      <td>Camon 16 S</td>\n",
       "      <td>Tecno</td>\n",
       "      <td>2020, November 05</td>\n",
       "      <td>Available. Released 2020, November 05</td>\n",
       "      <td>6.6 inches, 105.2 cm2 (~83.6% screen-to-body r...</td>\n",
       "      <td>720 x 1600 pixels, 20:9 ratio (~266 ppi density)</td>\n",
       "      <td>Android 10, HIOS 6.2</td>\n",
       "      <td>Mediatek MT6762 Helio P22 (12 nm)</td>\n",
       "      <td>Unspecified</td>\n",
       "      <td>...</td>\n",
       "      <td>4.0</td>\n",
       "      <td>4.0</td>\n",
       "      <td>48,2,2</td>\n",
       "      <td>1080p@30fps</td>\n",
       "      <td>1.0</td>\n",
       "      <td>8</td>\n",
       "      <td>Yes</td>\n",
       "      <td>Yes</td>\n",
       "      <td>5000.0</td>\n",
       "      <td>About 130 EUR</td>\n",
       "    </tr>\n",
       "    <tr>\n",
       "      <th>4025</th>\n",
       "      <td>10672</td>\n",
       "      <td>Y71t</td>\n",
       "      <td>vivo</td>\n",
       "      <td>2021, October 21</td>\n",
       "      <td>Available. Released 2021, November 01</td>\n",
       "      <td>6.44 inches, 100.1 cm2 (~84.4% screen-to-body ...</td>\n",
       "      <td>1080 x 2400 pixels, 20:9 ratio (~409 ppi density)</td>\n",
       "      <td>Android 11, OriginOS 1.0</td>\n",
       "      <td>Mediatek MT6833P Dimensity 810 (6 nm)</td>\n",
       "      <td>Unspecified</td>\n",
       "      <td>...</td>\n",
       "      <td>8.0</td>\n",
       "      <td>2.0</td>\n",
       "      <td>64,8</td>\n",
       "      <td>1080p@30fps, gyro-EIS</td>\n",
       "      <td>1.0</td>\n",
       "      <td>16</td>\n",
       "      <td>Yes</td>\n",
       "      <td>Yes</td>\n",
       "      <td>4000.0</td>\n",
       "      <td>About 240 EUR</td>\n",
       "    </tr>\n",
       "  </tbody>\n",
       "</table>\n",
       "<p>21 rows × 21 columns</p>\n",
       "</div>"
      ],
      "text/plain": [
       "         ID          Name     Brand           Announced  \\\n",
       "1253   3365       Bold N2       BLU     2022, August 11   \n",
       "1390   4007           C12     Nokia    2023, January 18   \n",
       "1562   4689           A97      Oppo       2022, July 12   \n",
       "1600   4727          A54s      Oppo    2021, October 27   \n",
       "1968   5751           Q3t    Realme   2021, November 10   \n",
       "2023   5812            V3    Realme  2020, September 01   \n",
       "2138   6092           V11    Doogee       2022, July 15   \n",
       "2148   6105           V10    Doogee     2021, August 02   \n",
       "2207   6338       G13 Pro    Gionee    2022, January 28   \n",
       "2341   6572      Play5 5G     Honor        2021, May 18   \n",
       "3760  10020   REVVL V+ 5G  T-Mobile       2021, July 01   \n",
       "3831  10156       Pova 5G     Tecno   2021, December 27   \n",
       "3833  10158     Camon 18T     Tecno   2021, November 30   \n",
       "3836  10161     Camon 18i     Tecno   2021, November 01   \n",
       "3839  10164    Camon 18 P     Tecno    2021, October 04   \n",
       "3840  10165      Camon 18     Tecno    2021, October 04   \n",
       "3846  10173     Camon 17P     Tecno        2021, May 08   \n",
       "3847  10174      Camon 17     Tecno        2021, May 08   \n",
       "3850  10178  Camon 16 Pro     Tecno  2020, September 04   \n",
       "3851  10179    Camon 16 S     Tecno   2020, November 05   \n",
       "4025  10672          Y71t      vivo    2021, October 21   \n",
       "\n",
       "                                      Status  \\\n",
       "1253     Available. Released 2022, August 11   \n",
       "1390   Available. Released 2023, February 02   \n",
       "1562       Available. Released 2022, July 15   \n",
       "1600   Available. Released 2021, November 18   \n",
       "1968   Available. Released 2021, November 15   \n",
       "2023  Available. Released 2020, September 10   \n",
       "2138          Available. Released 2022, July   \n",
       "2148        Available. Released 2021, August   \n",
       "2207    Available. Released 2022, January 30   \n",
       "2341        Available. Released 2021, May 26   \n",
       "3760       Available. Released 2021, July 12   \n",
       "3831   Available. Released 2021, December 27   \n",
       "3833   Available. Released 2021, November 30   \n",
       "3836   Available. Released 2021, November 01   \n",
       "3839   Available. Released 2021, December 14   \n",
       "3840   Available. Released 2021, November 23   \n",
       "3846        Available. Released 2021, May 28   \n",
       "3847        Available. Released 2021, May 22   \n",
       "3850     Available. Released 2020, September   \n",
       "3851   Available. Released 2020, November 05   \n",
       "4025   Available. Released 2021, November 01   \n",
       "\n",
       "                                                   Size  \\\n",
       "1253  6.6 inches, 106.9 cm2 (~90.9% screen-to-body r...   \n",
       "1390  6.3 inches, 95.8 cm2 (~80.3% screen-to-body ra...   \n",
       "1562                              6.6 inches, 104.9 cm2   \n",
       "1600  6.52 inches, 102.6 cm2 (~82.9% screen-to-body ...   \n",
       "1968                              6.6 inches, 104.8 cm2   \n",
       "2023  6.5 inches, 102.0 cm2 (~81.6% screen-to-body r...   \n",
       "2138  6.39 inches, 100.2 cm2 (~72.9% screen-to-body ...   \n",
       "2148  6.39 inches, 100.2 cm2 (~72.9% screen-to-body ...   \n",
       "2207  6.26 inches, 94.6 cm2 (~78.8% screen-to-body r...   \n",
       "2341  6.53 inches, 102.9 cm2 (~85.2% screen-to-body ...   \n",
       "3760  6.82 inches, 112.3 cm2 (~83.4% screen-to-body ...   \n",
       "3831  6.9 inches, 113.1 cm2 (~83.7% screen-to-body r...   \n",
       "3833  6.8 inches, 109.8 cm2 (~84.8% screen-to-body r...   \n",
       "3836  6.6 inches, 103.4 cm2 (~82.2% screen-to-body r...   \n",
       "3839  6.8 inches, 109.8 cm2 (~84.8% screen-to-body r...   \n",
       "3840  6.8 inches, 109.8 cm2 (~84.8% screen-to-body r...   \n",
       "3846  6.8 inches, 109.8 cm2 (~85.2% screen-to-body r...   \n",
       "3847  6.6 inches, 105.2 cm2 (~83.6% screen-to-body r...   \n",
       "3850  6.8 inches, 109.8 cm2 (~83.2% screen-to-body r...   \n",
       "3851  6.6 inches, 105.2 cm2 (~83.6% screen-to-body r...   \n",
       "4025  6.44 inches, 100.1 cm2 (~84.4% screen-to-body ...   \n",
       "\n",
       "                                             Resolution  \\\n",
       "1253  1080 x 2340 pixels, 19.5:9 ratio (~390 ppi den...   \n",
       "1390   720 x 1600 pixels, 20:9 ratio (~278 ppi density)   \n",
       "1562  1080 x 2408 pixels, 20:9 ratio (~400 ppi density)   \n",
       "1600   720 x 1600 pixels, 20:9 ratio (~269 ppi density)   \n",
       "1968  1080 x 2412 pixels, 20:9 ratio (~400 ppi density)   \n",
       "2023   720 x 1600 pixels, 20:9 ratio (~270 ppi density)   \n",
       "2138  720 x 1560 pixels, 19.5:9 ratio (~269 ppi dens...   \n",
       "2148  720 x 1560 pixels, 19.5:9 ratio (~269 ppi dens...   \n",
       "2207   720 x 1600 pixels, 20:9 ratio (~280 ppi density)   \n",
       "2341  1080 x 2400 pixels, 20:9 ratio (~403 ppi density)   \n",
       "3760   720 x 1640 pixels, 20:9 ratio (~257 ppi density)   \n",
       "3831              1080 x 2460 pixels (~389 ppi density)   \n",
       "3833              1080 x 2460 pixels (~395 ppi density)   \n",
       "3836               720 x 1640 pixels (~271 ppi density)   \n",
       "3839              1080 x 2460 pixels (~395 ppi density)   \n",
       "3840              1080 x 2460 pixels (~395 ppi density)   \n",
       "3846              1080 x 2460 pixels (~395 ppi density)   \n",
       "3847   720 x 1600 pixels, 20:9 ratio (~266 ppi density)   \n",
       "3850               720 x 1640 pixels (~263 ppi density)   \n",
       "3851   720 x 1600 pixels, 20:9 ratio (~266 ppi density)   \n",
       "4025  1080 x 2400 pixels, 20:9 ratio (~409 ppi density)   \n",
       "\n",
       "                                                     OS  \\\n",
       "1253                                         Android 11   \n",
       "1390                            Android 12 (Go edition)   \n",
       "1562                             Android 12, ColorOS 12   \n",
       "1600                           Android 11, ColorOS 11.1   \n",
       "1968                          Android 11, Realme UI 2.0   \n",
       "2023                              Android 10, Realme UI   \n",
       "2138                                         Android 11   \n",
       "2148                                         Android 11   \n",
       "2207                                          HarmonyOS   \n",
       "2341  Android 10, Magic UI 4.0, no Google Play Services   \n",
       "3760                                         Android 11   \n",
       "3831                               Android 11, HIOS 8.0   \n",
       "3833                               Android 11, HIOS 8.0   \n",
       "3836                               Android 11, HIOS 7.6   \n",
       "3839                               Android 11, HIOS 8.0   \n",
       "3840                               Android 11, HIOS 8.0   \n",
       "3846                               Android 11, HIOS 7.6   \n",
       "3847                               Android 11, HIOS 7.6   \n",
       "3850                               Android 10, HIOS 7.0   \n",
       "3851                               Android 10, HIOS 6.2   \n",
       "4025                           Android 11, OriginOS 1.0   \n",
       "\n",
       "                                        Chipset    Card slot  ...   RAM  \\\n",
       "1253      Mediatek MT6833P Dimensity 810 (6 nm)  Unspecified  ...   8.0   \n",
       "1390                     Unisoc SC9863A1 (28nm)  Unspecified  ...   2.0   \n",
       "1562      Mediatek MT6833P Dimensity 810 (6 nm)  Unspecified  ...  12.0   \n",
       "1600         Mediatek MT6765G Helio G35 (12 nm)  Unspecified  ...   4.0   \n",
       "1968  Qualcomm SM7325 Snapdragon 778G 5G (6 nm)  Unspecified  ...   8.0   \n",
       "2023      Mediatek MT6853V Dimensity 720 (7 nm)  Unspecified  ...   6.0   \n",
       "2138       Mediatek MT6833 Dimensity 700 (7 nm)  Unspecified  ...     8   \n",
       "2148       Mediatek MT6833 Dimensity 700 (7 nm)  Unspecified  ...     8   \n",
       "2207                   Unisoc Tiger T310 (12nm)  Unspecified  ...     4   \n",
       "2341      Mediatek MT6853 Dimensity 800U (7 nm)  Unspecified  ...     8   \n",
       "3760       Mediatek MT6833 Dimensity 700 (7 nm)  Unspecified  ...   4.0   \n",
       "3831       Mediatek MT6877 Dimensity 900 (6 nm)  Unspecified  ...   8.0   \n",
       "3833          Mediatek MT6769Z Helio G85 (12nm)  Unspecified  ...   4.0   \n",
       "3836          Mediatek MT6769Z Helio G85 (12nm)  Unspecified  ...   4.0   \n",
       "3839                 Mediatek Helio G96 (12 nm)  Unspecified  ...   8.0   \n",
       "3840                  Mediatek Helio G88 (12nm)  Unspecified  ...   4.0   \n",
       "3846          Mediatek MT6769Z Helio G85 (12nm)  Unspecified  ...   6.0   \n",
       "3847          Mediatek MT6769Z Helio G85 (12nm)  Unspecified  ...   4.0   \n",
       "3850                 Mediatek Helio G70 (12 nm)  Unspecified  ...   4.0   \n",
       "3851          Mediatek MT6762 Helio P22 (12 nm)  Unspecified  ...   4.0   \n",
       "4025      Mediatek MT6833P Dimensity 810 (6 nm)  Unspecified  ...   8.0   \n",
       "\n",
       "     Num of MC    Pic MC                         Video MC Num of SC Pic SC  \\\n",
       "1253       4.0  64,5,2,2                      1080p@30fps       2.0   16,2   \n",
       "1390       1.0         8                              Yes       1.0    5.0   \n",
       "1562       2.0      48,2                      1080p@30fps       1.0     12   \n",
       "1600       3.0    50,2,2                      1080p@30fps       1.0      8   \n",
       "1968       3.0    48,2,2         4K@30fps, 1080p@30/60fps       1.0     16   \n",
       "2023       3.0    13,2,2      4K@30/60fps, 1080p@30/60fps       1.0      8   \n",
       "2138       3.0    48,8,2                     1440p, 1080p       1.0     16   \n",
       "2148       3.0    48,8,2                     1440p, 1080p       1.0     16   \n",
       "2207       2.0      13,2                      1080p@30fps       1.0      5   \n",
       "2341       4.0  64,8,2,2  4K@30fps, 1080p@30fps, gyro-EIS       1.0     16   \n",
       "3760       3.0    16,5,2                      1080p@30fps       1.0     16   \n",
       "3831       3.0      50,2                      1080p@30fps       1.0     16   \n",
       "3833       3.0    48,2,2                      1080p@30fps       1.0     48   \n",
       "3836       3.0        48                      1080p@30fps       1.0     16   \n",
       "3839       3.0   48,13,2                              Yes       1.0     16   \n",
       "3840       3.0    48,2,2                      1080p@30fps       1.0     16   \n",
       "3846       4.0    64,2,2                      1080p@30fps       1.0     16   \n",
       "3847       3.0      48,2                      1080p@30fps       1.0     16   \n",
       "3850       4.0    64,8,2                      1080p@30fps       2.0     16   \n",
       "3851       4.0    48,2,2                      1080p@30fps       1.0      8   \n",
       "4025       2.0      64,8            1080p@30fps, gyro-EIS       1.0     16   \n",
       "\n",
       "                    Loudspeaker 3.5mm jack Battery  \\\n",
       "1253                        Yes         No  4200.0   \n",
       "1390                        Yes        Yes  3000.0   \n",
       "1562  Yes, with stereo speakers        Yes  5000.0   \n",
       "1600                        Yes        Yes  5000.0   \n",
       "1968                        Yes        Yes  5000.0   \n",
       "2023                        Yes        Yes  5000.0   \n",
       "2138                        Yes         No    8500   \n",
       "2148                        Yes         No    8500   \n",
       "2207                        Yes        Yes    3500   \n",
       "2341                        Yes         No    3800   \n",
       "3760                        Yes        Yes  5000.0   \n",
       "3831                        Yes        Yes  6000.0   \n",
       "3833                        Yes        Yes  5000.0   \n",
       "3836                        Yes        Yes  5000.0   \n",
       "3839                        Yes        Yes  5000.0   \n",
       "3840                        Yes        Yes  5000.0   \n",
       "3846                        Yes        Yes  5000.0   \n",
       "3847                        Yes        Yes  5000.0   \n",
       "3850                        Yes        Yes  5000.0   \n",
       "3851                        Yes        Yes  5000.0   \n",
       "4025                        Yes        Yes  4000.0   \n",
       "\n",
       "                                           Price  \n",
       "1253                               About 230 EUR  \n",
       "1390                                About 90 EUR  \n",
       "1562                               About 310 EUR  \n",
       "1600  $ 199.99 / € 186.80 / £ 199.99 / C$ 243.50  \n",
       "1968                               About 290 EUR  \n",
       "2023                               About 120 EUR  \n",
       "2138                               About 350 EUR  \n",
       "2148                               About 350 EUR  \n",
       "2207                                About 80 EUR  \n",
       "2341                               About 270 EUR  \n",
       "3760                               About 170 EUR  \n",
       "3831                               About 270 EUR  \n",
       "3833                               About 150 EUR  \n",
       "3836                               About 150 EUR  \n",
       "3839                               About 200 EUR  \n",
       "3840                               About 170 EUR  \n",
       "3846                               About 210 EUR  \n",
       "3847                               About 160 EUR  \n",
       "3850                               About 150 EUR  \n",
       "3851                               About 130 EUR  \n",
       "4025                               About 240 EUR  \n",
       "\n",
       "[21 rows x 21 columns]"
      ]
     },
     "execution_count": 17,
     "metadata": {},
     "output_type": "execute_result"
    }
   ],
   "source": [
    "df[df['Card slot'] =='Unspecified']"
   ]
  },
  {
   "cell_type": "markdown",
   "id": "956c4ebe",
   "metadata": {},
   "source": [
    "Có thể thấy đa phần là các sản phẩm trong những năm gần đây. Trong khi gần đây các hãng điện thoại cũng bỏ dần khe cắm thẻ nhớ. Vì vậy sẽ replace giá trị này thành No"
   ]
  },
  {
   "cell_type": "code",
   "execution_count": 18,
   "id": "36d45de0",
   "metadata": {},
   "outputs": [
    {
     "data": {
      "text/html": [
       "<div>\n",
       "<style scoped>\n",
       "    .dataframe tbody tr th:only-of-type {\n",
       "        vertical-align: middle;\n",
       "    }\n",
       "\n",
       "    .dataframe tbody tr th {\n",
       "        vertical-align: top;\n",
       "    }\n",
       "\n",
       "    .dataframe thead th {\n",
       "        text-align: right;\n",
       "    }\n",
       "</style>\n",
       "<table border=\"1\" class=\"dataframe\">\n",
       "  <thead>\n",
       "    <tr style=\"text-align: right;\">\n",
       "      <th></th>\n",
       "      <th>ID</th>\n",
       "      <th>Name</th>\n",
       "      <th>Brand</th>\n",
       "      <th>Announced</th>\n",
       "      <th>Status</th>\n",
       "      <th>Size</th>\n",
       "      <th>Resolution</th>\n",
       "      <th>OS</th>\n",
       "      <th>Chipset</th>\n",
       "      <th>Card slot</th>\n",
       "      <th>...</th>\n",
       "      <th>RAM</th>\n",
       "      <th>Num of MC</th>\n",
       "      <th>Pic MC</th>\n",
       "      <th>Video MC</th>\n",
       "      <th>Num of SC</th>\n",
       "      <th>Pic SC</th>\n",
       "      <th>Loudspeaker</th>\n",
       "      <th>3.5mm jack</th>\n",
       "      <th>Battery</th>\n",
       "      <th>Price</th>\n",
       "    </tr>\n",
       "  </thead>\n",
       "  <tbody>\n",
       "    <tr>\n",
       "      <th>3510</th>\n",
       "      <td>9304</td>\n",
       "      <td>Ascend Mate</td>\n",
       "      <td>Huawei</td>\n",
       "      <td>2013, January. Released 2013, March</td>\n",
       "      <td>Discontinued</td>\n",
       "      <td>6.1 inches, 102.6 cm2 (~73.2% screen-to-body r...</td>\n",
       "      <td>720 x 1280 pixels, 16:9 ratio (~241 ppi density)</td>\n",
       "      <td>Android 4.1 (Jelly Bean), upgradable to 4.2.2 ...</td>\n",
       "      <td>Huawei K3V2</td>\n",
       "      <td>Yes, up to 64 GB (dedicated slot)</td>\n",
       "      <td>...</td>\n",
       "      <td>2.0</td>\n",
       "      <td>1.0</td>\n",
       "      <td>8</td>\n",
       "      <td>1080p@30fps</td>\n",
       "      <td>1.0</td>\n",
       "      <td>1</td>\n",
       "      <td>Yes</td>\n",
       "      <td>Yes</td>\n",
       "      <td>4050.0</td>\n",
       "      <td>About 230 EUR</td>\n",
       "    </tr>\n",
       "  </tbody>\n",
       "</table>\n",
       "<p>1 rows × 21 columns</p>\n",
       "</div>"
      ],
      "text/plain": [
       "        ID         Name   Brand                            Announced  \\\n",
       "3510  9304  Ascend Mate  Huawei  2013, January. Released 2013, March   \n",
       "\n",
       "            Status                                               Size  \\\n",
       "3510  Discontinued  6.1 inches, 102.6 cm2 (~73.2% screen-to-body r...   \n",
       "\n",
       "                                            Resolution  \\\n",
       "3510  720 x 1280 pixels, 16:9 ratio (~241 ppi density)   \n",
       "\n",
       "                                                     OS      Chipset  \\\n",
       "3510  Android 4.1 (Jelly Bean), upgradable to 4.2.2 ...  Huawei K3V2   \n",
       "\n",
       "                              Card slot  ...  RAM Num of MC Pic MC  \\\n",
       "3510  Yes, up to 64 GB (dedicated slot)  ...  2.0       1.0      8   \n",
       "\n",
       "         Video MC Num of SC Pic SC Loudspeaker 3.5mm jack Battery  \\\n",
       "3510  1080p@30fps       1.0      1         Yes        Yes  4050.0   \n",
       "\n",
       "              Price  \n",
       "3510  About 230 EUR  \n",
       "\n",
       "[1 rows x 21 columns]"
      ]
     },
     "execution_count": 18,
     "metadata": {},
     "output_type": "execute_result"
    }
   ],
   "source": [
    "df[df['Card slot'] =='Yes, up to 64 GB (dedicated slot)']"
   ]
  },
  {
   "cell_type": "markdown",
   "id": "0ccacdfc",
   "metadata": {},
   "source": [
    "Loại thẻ nhớ mà điện thoại này hỗ trợ là microSD "
   ]
  },
  {
   "cell_type": "markdown",
   "id": "272631be",
   "metadata": {},
   "source": [
    "Vậy cần giảm bớt thông tin chi tiết của loại thẻ nhớ hỗ trợ"
   ]
  },
  {
   "cell_type": "markdown",
   "id": "4da96d5c",
   "metadata": {},
   "source": [
    "### OS"
   ]
  },
  {
   "cell_type": "code",
   "execution_count": 19,
   "id": "e609a07a",
   "metadata": {},
   "outputs": [
    {
     "data": {
      "text/plain": [
       "Android 4.4.2 (KitKat)                                                 171\n",
       "Android 10                                                             138\n",
       "Android 11                                                             116\n",
       "Android 4.2 (Jelly Bean)                                               115\n",
       "Android 6.0 (Marshmallow)                                              109\n",
       "                                                                      ... \n",
       "Android 4.4.4 (KitKat), EMUI 2.3                                         1\n",
       "Android 4.2.2 (Jelly Bean), EMUI Lite 2                                  1\n",
       "Android 4.2.2 (Jelly Bean), EMUI 1.6                                     1\n",
       "HP webOS 2.2                                                             1\n",
       "Android 2.3.6 (Gingerbread), upgradable to 4.0 (Ice Cream Sandwich)      1\n",
       "Name: OS, Length: 1194, dtype: int64"
      ]
     },
     "execution_count": 19,
     "metadata": {},
     "output_type": "execute_result"
    }
   ],
   "source": [
    "df.OS.value_counts()"
   ]
  },
  {
   "cell_type": "markdown",
   "id": "fbc96010",
   "metadata": {},
   "source": [
    "Có 1194 phiên bản hệ điều hành khác nhau"
   ]
  },
  {
   "cell_type": "code",
   "execution_count": 20,
   "id": "b5e9825a",
   "metadata": {},
   "outputs": [
    {
     "data": {
      "text/plain": [
       "(4655, 97, 47, 21, 64)"
      ]
     },
     "execution_count": 20,
     "metadata": {},
     "output_type": "execute_result"
    }
   ],
   "source": [
    "os = df.OS.unique()\n",
    "lst_apk = []\n",
    "lst_mcs = []\n",
    "lst_padOS = []\n",
    "lst_ios = []\n",
    "lst_not_apk=[]\n",
    "idx = 0\n",
    "for o in df.OS:\n",
    "    s = o.lower()\n",
    "    if 'android' in s:\n",
    "        lst_apk.append(idx)\n",
    "    elif 'microsoft' in s: \n",
    "        lst_mcs.append(idx)\n",
    "    elif 'ipados' in s:\n",
    "        lst_padOS.append(idx)\n",
    "    elif 'ios' in s:\n",
    "        lst_ios.append(idx)\n",
    "    else:\n",
    "        lst_not_apk.append(idx)\n",
    "    idx += 1\n",
    "len(lst_apk), len(lst_mcs),len(lst_ios), len(lst_padOS), len(lst_not_apk)"
   ]
  },
  {
   "cell_type": "markdown",
   "id": "3f5bf65c",
   "metadata": {},
   "source": [
    "Đa phần đều là điện thoại hệ điều hành Android, sau đó là Microsoft, IOS, ipadOS,..."
   ]
  },
  {
   "cell_type": "code",
   "execution_count": 21,
   "id": "863f7a2f",
   "metadata": {
    "scrolled": true
   },
   "outputs": [
    {
     "data": {
      "text/plain": [
       "HarmonyOS 2.0                                                                11\n",
       "HarmonyOS 3.0                                                                 4\n",
       "HarmonyOS 2.0 (China), EMUI 12 (Europe), no Google Play Services              4\n",
       "BlackBerry OS 10, upgradable to 10.3.1                                        2\n",
       "EMUI 13 (International); HarmonyOS 3.0 (China)                                2\n",
       "HarmonyOS                                                                     2\n",
       "Symbian OS 9.2, Series 60 v3.1 UI                                             2\n",
       "EMUI 12, no Google Play Services                                              2\n",
       "BlackBerry OS 10.2, upgradable to 10.3.1                                      2\n",
       "Tizen 2.4                                                                     2\n",
       "Sailfish 2.0                                                                  2\n",
       "EMUI 12                                                                       1\n",
       "Tizen 2.3, upgradable to 2.4                                                  1\n",
       "EMUI 12, no Google Play Services (International); HarmonyOS 2.0 (China)       1\n",
       "HarmonyOS 2.0 (China), EMUI 10.1 (International), no Google Play Services     1\n",
       "Symbian 9.2, Series 60 rel. 3.0                                               1\n",
       "Bada, upgradable to 2.0, TouchWiz UI 3                                        1\n",
       "bada OS                                                                       1\n",
       "Sailfish 1, upgradable to 2.0                                                 1\n",
       "bada 1.2, TouchWiz UI 3                                                       1\n",
       "Tizen 2.3                                                                     1\n",
       "Firefox OS 1.3                                                                1\n",
       "OS                                                                            1\n",
       "Chrome OS                                                                     1\n",
       "BlackBerry OS 10.2.1, upgradable to 10.3.1                                    1\n",
       "Symbian 9.2, UIQ 3.2                                                          1\n",
       "Symbian 9.2, UIQ 3.1                                                          1\n",
       "BlackBerry OS 10.3.1                                                          1\n",
       "BlackBerry OS 10.3, upgradable to 10.3.1                                      1\n",
       "BlackBerry OS 10.3, upgradable to 10.3.2                                      1\n",
       "BlackBerry OS 10.3.1, upgradable to 10.3.2                                    1\n",
       "BlackBerry OS 10.2, upgradable to 10.2.1                                      1\n",
       "HP webOS 2.2                                                                  1\n",
       "BlackBerry Tablet OS                                                          1\n",
       "Symbian Anna OS                                                               1\n",
       "MeeGo 1.2 Harmattan                                                           1\n",
       "Maemo 5                                                                       1\n",
       "Symbian OS 8.1a , Series 60 UI                                                1\n",
       "Symbian OS 8.0a , Series 60 UI                                                1\n",
       "MIUI 13                                                                       1\n",
       "Name: OS, dtype: int64"
      ]
     },
     "execution_count": 21,
     "metadata": {},
     "output_type": "execute_result"
    }
   ],
   "source": [
    "df.OS.loc[lst_not_apk].value_counts()"
   ]
  },
  {
   "cell_type": "markdown",
   "id": "b7fe7952",
   "metadata": {},
   "source": [
    " Có thêm các hệ điều hành: \n",
    "- HarmonyOS, EMUI (hãng Huawei)\n",
    "- MIUI 13 (Xiaomi, dựa trên Android 12)\n",
    "- BlackBerry OS (BlackBerry)\n",
    "- Symbian, Maemo  (Nokia, đã dừng phát triển)\n",
    "- Sailfish, Firefox, MeeGo, Chrome  (dựa trên Linux)\n",
    "- Bada (đã dừng phát triển, thay thế bởi Tizen)"
   ]
  },
  {
   "cell_type": "markdown",
   "id": "1d14a65c",
   "metadata": {},
   "source": [
    "Cần sửa về format: <tên hệ điều hành> <phiên bản>\n",
    "\n",
    "Lược bớt 1 vài thông tin chi tiết"
   ]
  },
  {
   "cell_type": "markdown",
   "id": "3e35f83c",
   "metadata": {},
   "source": [
    "### Chipset"
   ]
  },
  {
   "cell_type": "code",
   "execution_count": 22,
   "id": "bf4ce2c4",
   "metadata": {},
   "outputs": [
    {
     "data": {
      "text/plain": [
       "Qualcomm MSM8916 Snapdragon 410 (28 nm)                                         94\n",
       "Mediatek MT6833 Dimensity 700 (7 nm)                                            76\n",
       "Mediatek MT6762 Helio P22 (12 nm)                                               75\n",
       "Mediatek MT6582 (28 nm)                                                         65\n",
       "Qualcomm MSM8939 Snapdragon 615 (28 nm)                                         59\n",
       "                                                                                ..\n",
       "Qualcomm MSM8270                                                                 1\n",
       "Qualcomm MSM8936 Snapdragon 610 (28 nm)                                          1\n",
       "Mediatek MT6582 - 3G modelQualcomm MSM8916 Snapdragon 410 (28 nm) - 4G model     1\n",
       "Mediatek MT6755 (28 nm) or MTK7650 (28 nm)                                       1\n",
       "Nvidia Tegra 2                                                                   1\n",
       "Name: Chipset, Length: 703, dtype: int64"
      ]
     },
     "execution_count": 22,
     "metadata": {},
     "output_type": "execute_result"
    }
   ],
   "source": [
    "df.Chipset.value_counts()"
   ]
  },
  {
   "cell_type": "markdown",
   "id": "520dd88b",
   "metadata": {},
   "source": [
    "Chipset mang thông tin hãng, mã sản phẩm, loại, phiên bản, tiến trình xử lý\n",
    "\n",
    "Một số hãng chip như: Mediatek, Qualcomm, Samsung (Exynos tiền thân là hummingbird), HiSilicon (kirin), Apple (apple), unisoc(tiger,Spreadtrum), Intel(intel), nvidia(tegra), Texas Instruments (OMAP)"
   ]
  },
  {
   "cell_type": "code",
   "execution_count": 23,
   "id": "58e67544",
   "metadata": {},
   "outputs": [
    {
     "name": "stdout",
     "output_type": "stream",
     "text": [
      "Mediatek: 1827\n",
      "Qualcomm: 2185\n",
      "Samsung: 181\n",
      "HiSilicon: 185\n",
      "Apple: 65\n",
      "Unisoc: 191\n",
      "Nvidia: 58\n",
      "Intel: 67\n",
      "TI OMAP: 62\n",
      "Other: 63\n"
     ]
    }
   ],
   "source": [
    "mt=[]\n",
    "qc=[]\n",
    "ss=[]\n",
    "his=[]\n",
    "ap=[]\n",
    "uni =[]\n",
    "nvidia=[]\n",
    "intel=[]\n",
    "ti =[]\n",
    "other = []\n",
    "i = 0\n",
    "for c in df.Chipset:\n",
    "    s = c.lower()\n",
    "    if 'mediatek' in s: mt.append(i)\n",
    "    elif 'qualcomm' in s : qc.append(i)\n",
    "    elif 'exynos' in s or 'hummingbird' in s: ss.append(i)\n",
    "    elif 'apple' in s: ap.append(i)\n",
    "    elif 'kirin' in s or 'hisilicon' in s: his.append(i)\n",
    "    elif 'unisoc' in s or 'spreadtrum' in s or 'tiger' in s: uni.append(i)\n",
    "    elif 'tegra' in s : nvidia.append(i)\n",
    "    elif 'intel' in s: intel.append(i)\n",
    "    elif 'omap' in s: ti.append(i)\n",
    "    else: other.append(i)\n",
    "    i += 1\n",
    "print('Mediatek:',len(mt))\n",
    "print('Qualcomm:',len(qc))\n",
    "print('Samsung:',len(ss))\n",
    "print('HiSilicon:',len(his))\n",
    "print('Apple:',len(ap))\n",
    "print('Unisoc:',len(uni))\n",
    "print('Nvidia:',len(nvidia))\n",
    "print('Intel:',len(intel))\n",
    "print('TI OMAP:',len(ti))\n",
    "print('Other:',len(other))"
   ]
  },
  {
   "cell_type": "markdown",
   "id": "d7986262",
   "metadata": {},
   "source": [
    "Ngoài ra còn một vài chip điện tử khác"
   ]
  },
  {
   "cell_type": "code",
   "execution_count": 24,
   "id": "0b69f77c",
   "metadata": {
    "scrolled": false
   },
   "outputs": [
    {
     "data": {
      "text/plain": [
       "Huawei K3V2                10\n",
       "NovaThor U8500              6\n",
       "Broadcom BCM23550           5\n",
       "Marvell PXA1088             5\n",
       "Google Tensor (5 nm)        3\n",
       "Marvell PXA986              3\n",
       "NovaThor U8420              2\n",
       "Rockchip RK3399             2\n",
       "Allwinner A31               2\n",
       "Rockchip 3066               2\n",
       "Rockchip RK3188             2\n",
       "BCM23550                    2\n",
       "Google Tensor G2 (5 nm)     2\n",
       "Huawei K3V2E                1\n",
       "Broadcom BC28155            1\n",
       "Leadcore L1860C             1\n",
       "Xiaomi Surge S1             1\n",
       "JLQ JR510 (11 nm)           1\n",
       "Nvidia SL460N               1\n",
       "Marvell 88sv331             1\n",
       "Unspecified                 1\n",
       "Pega-Dual +XMM6262          1\n",
       "LG Nuclun                   1\n",
       "BCM 28145/28155             1\n",
       "Marvell Armada PXA1908      1\n",
       "Chipset                     1\n",
       "ATI Graphic Chip W2284      1\n",
       "Rockchip RK101              1\n",
       "Broadcom BCM2727            1\n",
       "Allwinner A133              1\n",
       "Name: Chipset, dtype: int64"
      ]
     },
     "execution_count": 24,
     "metadata": {},
     "output_type": "execute_result"
    }
   ],
   "source": [
    "df.Chipset.loc[other].value_counts()"
   ]
  },
  {
   "cell_type": "markdown",
   "id": "36926e04",
   "metadata": {},
   "source": [
    "### Pic MC, SC"
   ]
  },
  {
   "cell_type": "code",
   "execution_count": 25,
   "id": "c6c323ec",
   "metadata": {},
   "outputs": [
    {
     "data": {
      "text/plain": [
       "8              773\n",
       "13             757\n",
       "5              605\n",
       "13,2           201\n",
       "16             167\n",
       "              ... \n",
       "50,64,64,64      1\n",
       "50,64,64,13      1\n",
       "40,8             1\n",
       "40,8,2           1\n",
       "24,5             1\n",
       "Name: Pic MC, Length: 369, dtype: int64"
      ]
     },
     "execution_count": 25,
     "metadata": {},
     "output_type": "execute_result"
    }
   ],
   "source": [
    "df['Pic MC'].value_counts()"
   ]
  },
  {
   "cell_type": "code",
   "execution_count": 26,
   "id": "38ab1842",
   "metadata": {},
   "outputs": [
    {
     "data": {
      "text/plain": [
       "5         959\n",
       "8         868\n",
       "16        600\n",
       "2         529\n",
       "0.3       508\n",
       "         ... \n",
       "2,3         1\n",
       "13,4        1\n",
       "4,13        1\n",
       "Pic SC      1\n",
       "2,1         1\n",
       "Name: Pic SC, Length: 95, dtype: int64"
      ]
     },
     "execution_count": 26,
     "metadata": {},
     "output_type": "execute_result"
    }
   ],
   "source": [
    "df['Pic SC'].value_counts()"
   ]
  },
  {
   "cell_type": "markdown",
   "id": "8556660e",
   "metadata": {},
   "source": [
    "Có thể có nhiều camera nên có nhiều giá trị trong một bản ghi. Kiểm tra thêm trong phần Logic"
   ]
  },
  {
   "cell_type": "markdown",
   "id": "b65d0bbd",
   "metadata": {},
   "source": [
    "### Video MC"
   ]
  },
  {
   "cell_type": "code",
   "execution_count": 27,
   "id": "db625b68",
   "metadata": {},
   "outputs": [
    {
     "data": {
      "text/plain": [
       "1080p@30fps                                              2178\n",
       "720p@30fps                                                358\n",
       "Yes                                                       350\n",
       "4K@30fps, 1080p@30fps                                     218\n",
       "720p                                                      134\n",
       "                                                         ... \n",
       "4K@30fps, 1080p@30/60/120fps (gyro-EIS)                     1\n",
       "4K@30fps, 1080p@60/120fps, 720p@240fps                      1\n",
       "4K@15fps, 1080p@30fps                                       1\n",
       "4K@30/60fps, 1080p@30/30/60/120fps, stereo sound rec.       1\n",
       "352x288                                                     1\n",
       "Name: Video MC, Length: 434, dtype: int64"
      ]
     },
     "execution_count": 27,
     "metadata": {},
     "output_type": "execute_result"
    }
   ],
   "source": [
    "df['Video MC'].value_counts()"
   ]
  },
  {
   "cell_type": "markdown",
   "id": "3b900df9",
   "metadata": {},
   "source": [
    "Có nhiều chất lượng video và tốc độ khung hình mỗi giây khác nhau. Ưu tiên chọn độ phân giải quay video cao nhất và tốc độ khung hình quay cao nhất. Tuy nhiên cần tách thành 2 bảng khác nhau do 2 thuộc tính cao nhất này không cùng chế độ quay"
   ]
  },
  {
   "cell_type": "code",
   "execution_count": 28,
   "id": "0f27a2c8",
   "metadata": {},
   "outputs": [
    {
     "data": {
      "text/plain": [
       "(4534, 4534, 4884)"
      ]
     },
     "execution_count": 28,
     "metadata": {},
     "output_type": "execute_result"
    }
   ],
   "source": [
    "video = df['Video MC']\n",
    "res = []\n",
    "fps = []\n",
    "i=-1\n",
    "for s in video:\n",
    "    i+=1\n",
    "    if s == 'Yes':\n",
    "        continue\n",
    "    lst = s.split(', ')\n",
    "    best_res = lst[0].split('@')[0]\n",
    "    max_fps = 0\n",
    "    for q in lst:\n",
    "        lst_tmp = q.split('@')\n",
    "        if len(lst_tmp) > 1:\n",
    "            ss = lst_tmp[1]\n",
    "            if 'fps' in ss:\n",
    "                ss = ss[:-3]\n",
    "            max_fps = max(max_fps, np.max(np.array(re.findall(\"\\d+\", ss)).astype(int)))\n",
    "    res.append(best_res)\n",
    "    fps.append(max_fps)\n",
    "len(res), len(fps), len(df)"
   ]
  },
  {
   "cell_type": "markdown",
   "id": "2f076164",
   "metadata": {},
   "source": [
    "Còn 350 giá trị Yes"
   ]
  },
  {
   "cell_type": "code",
   "execution_count": 29,
   "id": "9af79b48",
   "metadata": {},
   "outputs": [
    {
     "data": {
      "text/plain": [
       "5           141\n",
       "8            96\n",
       "2            38\n",
       "15           29\n",
       "13           24\n",
       "16            4\n",
       "0.3           3\n",
       "5,8           3\n",
       "12            2\n",
       "5,2           2\n",
       "3             2\n",
       "48,5,2,2      1\n",
       "12,2          1\n",
       "8,2           1\n",
       "48,13,2       1\n",
       "21            1\n",
       "64,8,50       1\n",
       "Name: Pic MC, dtype: int64"
      ]
     },
     "execution_count": 29,
     "metadata": {},
     "output_type": "execute_result"
    }
   ],
   "source": [
    "df['Pic MC'][df['Video MC']=='Yes'].value_counts()"
   ]
  },
  {
   "cell_type": "code",
   "execution_count": 30,
   "id": "b48663c3",
   "metadata": {},
   "outputs": [
    {
     "data": {
      "text/html": [
       "<div>\n",
       "<style scoped>\n",
       "    .dataframe tbody tr th:only-of-type {\n",
       "        vertical-align: middle;\n",
       "    }\n",
       "\n",
       "    .dataframe tbody tr th {\n",
       "        vertical-align: top;\n",
       "    }\n",
       "\n",
       "    .dataframe thead th {\n",
       "        text-align: right;\n",
       "    }\n",
       "</style>\n",
       "<table border=\"1\" class=\"dataframe\">\n",
       "  <thead>\n",
       "    <tr style=\"text-align: right;\">\n",
       "      <th></th>\n",
       "      <th>ID</th>\n",
       "      <th>Name</th>\n",
       "      <th>Brand</th>\n",
       "      <th>Announced</th>\n",
       "      <th>Status</th>\n",
       "      <th>Size</th>\n",
       "      <th>Resolution</th>\n",
       "      <th>OS</th>\n",
       "      <th>Chipset</th>\n",
       "      <th>Card slot</th>\n",
       "      <th>...</th>\n",
       "      <th>RAM</th>\n",
       "      <th>Num of MC</th>\n",
       "      <th>Pic MC</th>\n",
       "      <th>Video MC</th>\n",
       "      <th>Num of SC</th>\n",
       "      <th>Pic SC</th>\n",
       "      <th>Loudspeaker</th>\n",
       "      <th>3.5mm jack</th>\n",
       "      <th>Battery</th>\n",
       "      <th>Price</th>\n",
       "    </tr>\n",
       "  </thead>\n",
       "  <tbody>\n",
       "    <tr>\n",
       "      <th>4697</th>\n",
       "      <td>11685</td>\n",
       "      <td>nubia Z40 Pro</td>\n",
       "      <td>ZTE</td>\n",
       "      <td>2022, February 25</td>\n",
       "      <td>Available. Released 2022, March 02</td>\n",
       "      <td>6.67 inches, 107.4 cm2 (~91.0% screen-to-body ...</td>\n",
       "      <td>1080 x 2400 pixels, 20:9 ratio (~395 ppi density)</td>\n",
       "      <td>Android 12, MyOS 12</td>\n",
       "      <td>Qualcomm SM8450 Snapdragon 8 Gen 1 (4 nm)</td>\n",
       "      <td>No</td>\n",
       "      <td>...</td>\n",
       "      <td>8.0</td>\n",
       "      <td>3.0</td>\n",
       "      <td>64,8,50</td>\n",
       "      <td>Yes</td>\n",
       "      <td>1.0</td>\n",
       "      <td>16</td>\n",
       "      <td>Yes, with stereo speakers</td>\n",
       "      <td>No</td>\n",
       "      <td>5000.0</td>\n",
       "      <td>About 500 EUR</td>\n",
       "    </tr>\n",
       "  </tbody>\n",
       "</table>\n",
       "<p>1 rows × 21 columns</p>\n",
       "</div>"
      ],
      "text/plain": [
       "         ID           Name Brand          Announced  \\\n",
       "4697  11685  nubia Z40 Pro   ZTE  2022, February 25   \n",
       "\n",
       "                                  Status  \\\n",
       "4697  Available. Released 2022, March 02   \n",
       "\n",
       "                                                   Size  \\\n",
       "4697  6.67 inches, 107.4 cm2 (~91.0% screen-to-body ...   \n",
       "\n",
       "                                             Resolution                   OS  \\\n",
       "4697  1080 x 2400 pixels, 20:9 ratio (~395 ppi density)  Android 12, MyOS 12   \n",
       "\n",
       "                                        Chipset Card slot  ...  RAM Num of MC  \\\n",
       "4697  Qualcomm SM8450 Snapdragon 8 Gen 1 (4 nm)        No  ...  8.0       3.0   \n",
       "\n",
       "       Pic MC Video MC Num of SC Pic SC                Loudspeaker 3.5mm jack  \\\n",
       "4697  64,8,50      Yes       1.0     16  Yes, with stereo speakers         No   \n",
       "\n",
       "     Battery          Price  \n",
       "4697  5000.0  About 500 EUR  \n",
       "\n",
       "[1 rows x 21 columns]"
      ]
     },
     "execution_count": 30,
     "metadata": {},
     "output_type": "execute_result"
    }
   ],
   "source": [
    "df[(df['Video MC']=='Yes') & (df['Pic MC'] == '64,8,50')]"
   ]
  },
  {
   "cell_type": "markdown",
   "id": "9392db2b",
   "metadata": {},
   "source": [
    "- Có những dòng máy cao cấp nhưng không có thông tin chất lượng video.\n",
    "- Chất lượng video cũng phụ thuộc chủ yếu vào chất lượng chụp ảnh.\n",
    "- Có thể thấy các máy có Pic of MC cao sẽ có chất lượng quay phim 8k\n",
    "- Các máy 0.3MP"
   ]
  },
  {
   "cell_type": "markdown",
   "id": "919472b7",
   "metadata": {},
   "source": [
    "### Ram, rom"
   ]
  },
  {
   "cell_type": "code",
   "execution_count": 31,
   "id": "5191a49b",
   "metadata": {},
   "outputs": [
    {
     "data": {
      "text/plain": [
       "1.0     688\n",
       "4.0     682\n",
       "2.0     660\n",
       "8.0     480\n",
       "3.0     454\n",
       "6.0     407\n",
       "0.0     231\n",
       "2       196\n",
       "1       195\n",
       "4       186\n",
       "3       177\n",
       "6       121\n",
       "0       120\n",
       "8        96\n",
       "5        53\n",
       "12.0     45\n",
       "5.0      28\n",
       "12       23\n",
       "16.0      9\n",
       "11        5\n",
       "10.0      3\n",
       "18.0      3\n",
       "9.0       3\n",
       "32        2\n",
       "13        2\n",
       "13.0      2\n",
       "26        1\n",
       "RAM       1\n",
       "14        1\n",
       "9         1\n",
       "26.0      1\n",
       "16        1\n",
       "45.0      1\n",
       "77.0      1\n",
       "22.0      1\n",
       "25.0      1\n",
       "85.0      1\n",
       "32.0      1\n",
       "7.0       1\n",
       "Name: RAM, dtype: int64"
      ]
     },
     "execution_count": 31,
     "metadata": {},
     "output_type": "execute_result"
    }
   ],
   "source": [
    "df.RAM.value_counts()"
   ]
  },
  {
   "cell_type": "code",
   "execution_count": 32,
   "id": "b047b892",
   "metadata": {},
   "outputs": [
    {
     "data": {
      "text/html": [
       "<div>\n",
       "<style scoped>\n",
       "    .dataframe tbody tr th:only-of-type {\n",
       "        vertical-align: middle;\n",
       "    }\n",
       "\n",
       "    .dataframe tbody tr th {\n",
       "        vertical-align: top;\n",
       "    }\n",
       "\n",
       "    .dataframe thead th {\n",
       "        text-align: right;\n",
       "    }\n",
       "</style>\n",
       "<table border=\"1\" class=\"dataframe\">\n",
       "  <thead>\n",
       "    <tr style=\"text-align: right;\">\n",
       "      <th></th>\n",
       "      <th>ID</th>\n",
       "      <th>Name</th>\n",
       "      <th>Brand</th>\n",
       "      <th>Announced</th>\n",
       "      <th>Status</th>\n",
       "      <th>Size</th>\n",
       "      <th>Resolution</th>\n",
       "      <th>OS</th>\n",
       "      <th>Chipset</th>\n",
       "      <th>Card slot</th>\n",
       "      <th>...</th>\n",
       "      <th>RAM</th>\n",
       "      <th>Num of MC</th>\n",
       "      <th>Pic MC</th>\n",
       "      <th>Video MC</th>\n",
       "      <th>Num of SC</th>\n",
       "      <th>Pic SC</th>\n",
       "      <th>Loudspeaker</th>\n",
       "      <th>3.5mm jack</th>\n",
       "      <th>Battery</th>\n",
       "      <th>Price</th>\n",
       "    </tr>\n",
       "  </thead>\n",
       "  <tbody>\n",
       "    <tr>\n",
       "      <th>494</th>\n",
       "      <td>1117</td>\n",
       "      <td>P700i</td>\n",
       "      <td>Lenovo</td>\n",
       "      <td>2012. Released 2013, January</td>\n",
       "      <td>Discontinued</td>\n",
       "      <td>4.0 inches, 45.5 cm2 (~56.1% screen-to-body ra...</td>\n",
       "      <td>480 x 800 pixels, 5:3 ratio (~233 ppi density)</td>\n",
       "      <td>Android 4.0.4 (Ice Cream Sandwich)</td>\n",
       "      <td>Mediatek MT6577 (40 nm)</td>\n",
       "      <td>microSDHC (dedicated slot), 2 GB included</td>\n",
       "      <td>...</td>\n",
       "      <td>85.0</td>\n",
       "      <td>1.0</td>\n",
       "      <td>5</td>\n",
       "      <td>720p@30fps</td>\n",
       "      <td>1.0</td>\n",
       "      <td>0.3</td>\n",
       "      <td>Yes</td>\n",
       "      <td>Yes</td>\n",
       "      <td>2500.0</td>\n",
       "      <td>About 140 EUR</td>\n",
       "    </tr>\n",
       "  </tbody>\n",
       "</table>\n",
       "<p>1 rows × 21 columns</p>\n",
       "</div>"
      ],
      "text/plain": [
       "       ID   Name   Brand                     Announced        Status  \\\n",
       "494  1117  P700i  Lenovo  2012. Released 2013, January  Discontinued   \n",
       "\n",
       "                                                  Size  \\\n",
       "494  4.0 inches, 45.5 cm2 (~56.1% screen-to-body ra...   \n",
       "\n",
       "                                         Resolution  \\\n",
       "494  480 x 800 pixels, 5:3 ratio (~233 ppi density)   \n",
       "\n",
       "                                     OS                  Chipset  \\\n",
       "494  Android 4.0.4 (Ice Cream Sandwich)  Mediatek MT6577 (40 nm)   \n",
       "\n",
       "                                     Card slot  ...   RAM Num of MC Pic MC  \\\n",
       "494  microSDHC (dedicated slot), 2 GB included  ...  85.0       1.0      5   \n",
       "\n",
       "       Video MC Num of SC Pic SC Loudspeaker 3.5mm jack Battery          Price  \n",
       "494  720p@30fps       1.0    0.3         Yes        Yes  2500.0  About 140 EUR  \n",
       "\n",
       "[1 rows x 21 columns]"
      ]
     },
     "execution_count": 32,
     "metadata": {},
     "output_type": "execute_result"
    }
   ],
   "source": [
    "df[df.RAM=='85.0']"
   ]
  },
  {
   "cell_type": "markdown",
   "id": "c7e3a483",
   "metadata": {},
   "source": [
    "- Ram xuất hiện nhiều giá trị bất thường, không đúng so với thông tin của máy\n",
    "- Xuất hiện 351 giá trị bằng 0."
   ]
  },
  {
   "cell_type": "code",
   "execution_count": 33,
   "id": "9c44549d",
   "metadata": {},
   "outputs": [
    {
     "data": {
      "text/plain": [
       "128.0    822\n",
       "16.0     679\n",
       "64.0     671\n",
       "32.0     596\n",
       "8.0      390\n",
       "16       292\n",
       "0.0      231\n",
       "32       210\n",
       "128      180\n",
       "4.0      178\n",
       "64       172\n",
       "8        127\n",
       "256.0    121\n",
       "0        120\n",
       "256       40\n",
       "4         29\n",
       "512.0     12\n",
       "512        7\n",
       "2.0        2\n",
       "258.0      1\n",
       "1          1\n",
       "ROM        1\n",
       "11         1\n",
       "2          1\n",
       "Name: ROM, dtype: int64"
      ]
     },
     "execution_count": 33,
     "metadata": {},
     "output_type": "execute_result"
    }
   ],
   "source": [
    "df.ROM.value_counts()"
   ]
  },
  {
   "cell_type": "code",
   "execution_count": 34,
   "id": "6e1ab285",
   "metadata": {},
   "outputs": [
    {
     "data": {
      "text/html": [
       "<div>\n",
       "<style scoped>\n",
       "    .dataframe tbody tr th:only-of-type {\n",
       "        vertical-align: middle;\n",
       "    }\n",
       "\n",
       "    .dataframe tbody tr th {\n",
       "        vertical-align: top;\n",
       "    }\n",
       "\n",
       "    .dataframe thead th {\n",
       "        text-align: right;\n",
       "    }\n",
       "</style>\n",
       "<table border=\"1\" class=\"dataframe\">\n",
       "  <thead>\n",
       "    <tr style=\"text-align: right;\">\n",
       "      <th></th>\n",
       "      <th>ID</th>\n",
       "      <th>Name</th>\n",
       "      <th>Brand</th>\n",
       "      <th>Announced</th>\n",
       "      <th>Status</th>\n",
       "      <th>Size</th>\n",
       "      <th>Resolution</th>\n",
       "      <th>OS</th>\n",
       "      <th>Chipset</th>\n",
       "      <th>Card slot</th>\n",
       "      <th>...</th>\n",
       "      <th>RAM</th>\n",
       "      <th>Num of MC</th>\n",
       "      <th>Pic MC</th>\n",
       "      <th>Video MC</th>\n",
       "      <th>Num of SC</th>\n",
       "      <th>Pic SC</th>\n",
       "      <th>Loudspeaker</th>\n",
       "      <th>3.5mm jack</th>\n",
       "      <th>Battery</th>\n",
       "      <th>Price</th>\n",
       "    </tr>\n",
       "  </thead>\n",
       "  <tbody>\n",
       "    <tr>\n",
       "      <th>3237</th>\n",
       "      <td>8674</td>\n",
       "      <td>Xperia acro HD SO-03D</td>\n",
       "      <td>Sony</td>\n",
       "      <td>2012, May. Released 2012, September</td>\n",
       "      <td>Discontinued</td>\n",
       "      <td>4.3 inches, 51.0 cm2 (~61.3% screen-to-body ra...</td>\n",
       "      <td>720 x 1280 pixels, 16:9 ratio (~342 ppi density)</td>\n",
       "      <td>Android 2.3 (Gingerbread)</td>\n",
       "      <td>Qualcomm MSM8260 Snapdragon S3</td>\n",
       "      <td>microSDHC (dedicated slot)</td>\n",
       "      <td>...</td>\n",
       "      <td>1</td>\n",
       "      <td>1.0</td>\n",
       "      <td>12</td>\n",
       "      <td>1080p@30fps</td>\n",
       "      <td>1.0</td>\n",
       "      <td>3</td>\n",
       "      <td>Yes</td>\n",
       "      <td>Yes</td>\n",
       "      <td>1910</td>\n",
       "      <td>About 290 EUR</td>\n",
       "    </tr>\n",
       "  </tbody>\n",
       "</table>\n",
       "<p>1 rows × 21 columns</p>\n",
       "</div>"
      ],
      "text/plain": [
       "        ID                   Name Brand                            Announced  \\\n",
       "3237  8674  Xperia acro HD SO-03D  Sony  2012, May. Released 2012, September   \n",
       "\n",
       "            Status                                               Size  \\\n",
       "3237  Discontinued  4.3 inches, 51.0 cm2 (~61.3% screen-to-body ra...   \n",
       "\n",
       "                                            Resolution  \\\n",
       "3237  720 x 1280 pixels, 16:9 ratio (~342 ppi density)   \n",
       "\n",
       "                             OS                         Chipset  \\\n",
       "3237  Android 2.3 (Gingerbread)  Qualcomm MSM8260 Snapdragon S3   \n",
       "\n",
       "                       Card slot  ... RAM Num of MC Pic MC     Video MC  \\\n",
       "3237  microSDHC (dedicated slot)  ...   1       1.0     12  1080p@30fps   \n",
       "\n",
       "     Num of SC Pic SC Loudspeaker 3.5mm jack Battery          Price  \n",
       "3237       1.0      3         Yes        Yes    1910  About 290 EUR  \n",
       "\n",
       "[1 rows x 21 columns]"
      ]
     },
     "execution_count": 34,
     "metadata": {},
     "output_type": "execute_result"
    }
   ],
   "source": [
    "df[df.ROM=='11']"
   ]
  },
  {
   "cell_type": "markdown",
   "id": "67f44159",
   "metadata": {},
   "source": [
    "- Các giá trị của ROM chính xác hơn RAM, ngoài ra cũng xuất hiện 351 giá trị 0"
   ]
  },
  {
   "cell_type": "markdown",
   "id": "7d728a0a",
   "metadata": {},
   "source": [
    "RAM và ROM có thể cần cào lại để thay thế 351 giá trị 0. Tuy nhiên một số máy có thông tin của ROM nhưng không có thông tin của RAM, vì vậy có thể đã mặc định gán cả 2 đều bằng 0. Vậy nên các giá trị này có thể loại bỏ do thiếu thông tin của RAM. Chỉ cần cào lại giá trị chính xác của RAM (giá trị khác 0)"
   ]
  },
  {
   "cell_type": "markdown",
   "id": "2b952879",
   "metadata": {},
   "source": [
    "### Loudspeaker"
   ]
  },
  {
   "cell_type": "code",
   "execution_count": 35,
   "id": "049c9586",
   "metadata": {},
   "outputs": [
    {
     "data": {
      "text/plain": [
       "Yes                                                                 3778\n",
       "Yes, with stereo speakers                                            901\n",
       "Yes, with dual speakers                                               71\n",
       "Yes, with stereo speakers (4 speakers)                                70\n",
       "Yes, dual speakers                                                    24\n",
       "Yes, with stereo speakers (2 amplifiers)                               8\n",
       "Yes, with DTS:X stereo speakers (2 dedicated amplifiers)               6\n",
       "Yes, with stereo speakers (8 speakers)                                 4\n",
       "Yes, dual mono speakers                                                3\n",
       "Yes, built-in amplifier                                                2\n",
       "Yes, with Dolby Atmos stereo speakers (THX-certified amplifiers)       2\n",
       "Yes, with Dolby Atmos stereo speakers (2 dedicated amplifiers)         2\n",
       "Yes, (unconfirmed stereo speakers)                                     1\n",
       "Loudspeaker                                                            1\n",
       "No                                                                     1\n",
       "Yes, with front stereo speakers                                        1\n",
       "Yes, with stereo speakers (6 speakers)                                 1\n",
       "Yes (122-decibel)                                                      1\n",
       "Yes, with stereo speakers (Dolby support)                              1\n",
       "Yes, with stereo speakers (Dolby Atmos)                                1\n",
       "Yes, with stereo speakers (closed type)                                1\n",
       "Yes, with stereo speakers (3G models only)                             1\n",
       "Yes, with stereo speakers (1.5 Watt)                                   1\n",
       "Yes, with multiple speakers                                            1\n",
       "Yes, with dual speakers (closed type)                                  1\n",
       "Name: Loudspeaker, dtype: int64"
      ]
     },
     "execution_count": 35,
     "metadata": {},
     "output_type": "execute_result"
    }
   ],
   "source": [
    "df.Loudspeaker.value_counts()"
   ]
  },
  {
   "cell_type": "code",
   "execution_count": 36,
   "id": "1b75ad9d",
   "metadata": {},
   "outputs": [
    {
     "data": {
      "text/html": [
       "<div>\n",
       "<style scoped>\n",
       "    .dataframe tbody tr th:only-of-type {\n",
       "        vertical-align: middle;\n",
       "    }\n",
       "\n",
       "    .dataframe tbody tr th {\n",
       "        vertical-align: top;\n",
       "    }\n",
       "\n",
       "    .dataframe thead th {\n",
       "        text-align: right;\n",
       "    }\n",
       "</style>\n",
       "<table border=\"1\" class=\"dataframe\">\n",
       "  <thead>\n",
       "    <tr style=\"text-align: right;\">\n",
       "      <th></th>\n",
       "      <th>ID</th>\n",
       "      <th>Name</th>\n",
       "      <th>Brand</th>\n",
       "      <th>Announced</th>\n",
       "      <th>Status</th>\n",
       "      <th>Size</th>\n",
       "      <th>Resolution</th>\n",
       "      <th>OS</th>\n",
       "      <th>Chipset</th>\n",
       "      <th>Card slot</th>\n",
       "      <th>...</th>\n",
       "      <th>RAM</th>\n",
       "      <th>Num of MC</th>\n",
       "      <th>Pic MC</th>\n",
       "      <th>Video MC</th>\n",
       "      <th>Num of SC</th>\n",
       "      <th>Pic SC</th>\n",
       "      <th>Loudspeaker</th>\n",
       "      <th>3.5mm jack</th>\n",
       "      <th>Battery</th>\n",
       "      <th>Price</th>\n",
       "    </tr>\n",
       "  </thead>\n",
       "  <tbody>\n",
       "    <tr>\n",
       "      <th>3870</th>\n",
       "      <td>10296</td>\n",
       "      <td>G910 / G920</td>\n",
       "      <td>Toshiba</td>\n",
       "      <td>2008, January. Released 2008, June</td>\n",
       "      <td>Discontinued</td>\n",
       "      <td>3.0 inches, 25.6 cm2 (~34.2% screen-to-body ra...</td>\n",
       "      <td>800 x 480 pixels (Wide-VGA), 5:3 ratio (~311 p...</td>\n",
       "      <td>Microsoft Windows Mobile 6 Professional</td>\n",
       "      <td>Qualcomm MSM7200</td>\n",
       "      <td>microSD (dedicated slot)</td>\n",
       "      <td>...</td>\n",
       "      <td>0.0</td>\n",
       "      <td>1.0</td>\n",
       "      <td>2</td>\n",
       "      <td>Yes</td>\n",
       "      <td>1.0</td>\n",
       "      <td>0.3</td>\n",
       "      <td>No</td>\n",
       "      <td>No</td>\n",
       "      <td>1320.0</td>\n",
       "      <td>About 190 EUR</td>\n",
       "    </tr>\n",
       "  </tbody>\n",
       "</table>\n",
       "<p>1 rows × 21 columns</p>\n",
       "</div>"
      ],
      "text/plain": [
       "         ID         Name    Brand                           Announced  \\\n",
       "3870  10296  G910 / G920  Toshiba  2008, January. Released 2008, June   \n",
       "\n",
       "            Status                                               Size  \\\n",
       "3870  Discontinued  3.0 inches, 25.6 cm2 (~34.2% screen-to-body ra...   \n",
       "\n",
       "                                             Resolution  \\\n",
       "3870  800 x 480 pixels (Wide-VGA), 5:3 ratio (~311 p...   \n",
       "\n",
       "                                           OS           Chipset  \\\n",
       "3870  Microsoft Windows Mobile 6 Professional  Qualcomm MSM7200   \n",
       "\n",
       "                     Card slot  ...  RAM Num of MC Pic MC Video MC Num of SC  \\\n",
       "3870  microSD (dedicated slot)  ...  0.0       1.0      2      Yes       1.0   \n",
       "\n",
       "     Pic SC Loudspeaker 3.5mm jack Battery          Price  \n",
       "3870    0.3          No         No  1320.0  About 190 EUR  \n",
       "\n",
       "[1 rows x 21 columns]"
      ]
     },
     "execution_count": 36,
     "metadata": {},
     "output_type": "execute_result"
    }
   ],
   "source": [
    "df[df.Loudspeaker=='No']"
   ]
  },
  {
   "cell_type": "markdown",
   "id": "6c151f9a",
   "metadata": {},
   "source": [
    "Trừ giá trị là *No* và 1 giá trị bất thường, còn lại đều là *Yes*? Có thể loại bỏ cột này và 2 bản ghi có giá trị khác *Yes*"
   ]
  },
  {
   "cell_type": "markdown",
   "id": "c770c6f7",
   "metadata": {},
   "source": [
    "### 3.5mm jack"
   ]
  },
  {
   "cell_type": "code",
   "execution_count": 37,
   "id": "67f236b3",
   "metadata": {},
   "outputs": [
    {
     "data": {
      "text/plain": [
       "Yes                               4181\n",
       "No                                 695\n",
       "Unspecified                          6\n",
       "No, included adaptor for 3.5mm       1\n",
       "3.5mm jack                           1\n",
       "Name: 3.5mm jack, dtype: int64"
      ]
     },
     "execution_count": 37,
     "metadata": {},
     "output_type": "execute_result"
    }
   ],
   "source": [
    "df['3.5mm jack'].value_counts()"
   ]
  },
  {
   "cell_type": "markdown",
   "id": "80daeb76",
   "metadata": {},
   "source": [
    "Thuộc tính này thể hiện thiết bị có jack cắm tai nghe 3.5mm hay không. \n",
    "\n",
    "Có một bản ghi là không có jack 3.5mm nhưng lại đi kèm bộ chuyển đổi vì thế ta sẽ coi như thực thể này có jack cắm 3.5mm\n",
    "\n",
    "Ngoài ra có một bản ghi là '3.5mm jack' có thể do khi nối các bản dữ liệu khi cào bị như vậy vì thế ta sẽ xóa bản ghi này đi"
   ]
  },
  {
   "cell_type": "code",
   "execution_count": 38,
   "id": "732d1bef",
   "metadata": {},
   "outputs": [
    {
     "data": {
      "text/plain": [
       "array(['2023, January 03', '2022, May 27', '2022, March 18',\n",
       "       '2021, November 27', '2021, July 06', '2021, April'], dtype=object)"
      ]
     },
     "execution_count": 38,
     "metadata": {},
     "output_type": "execute_result"
    }
   ],
   "source": [
    "df.Announced[df['3.5mm jack'] == 'Unspecified'].unique()"
   ]
  },
  {
   "cell_type": "markdown",
   "id": "25265baf",
   "metadata": {},
   "source": [
    "Các máy đều là các mẫu điện thoại trong những năm gần đây. Mà gần đây các mẫu điện thoại dần loại bỏ jack tai nghe 3.5mm. Vì vậy có thể thay thế giá trị này thành No"
   ]
  },
  {
   "cell_type": "markdown",
   "id": "4ae1783a",
   "metadata": {},
   "source": [
    "### Price"
   ]
  },
  {
   "cell_type": "code",
   "execution_count": 39,
   "id": "97a55f0e",
   "metadata": {},
   "outputs": [
    {
     "data": {
      "text/plain": [
       "About 200 EUR      235\n",
       "About 150 EUR      210\n",
       "About 130 EUR      195\n",
       "About 100 EUR      182\n",
       "About 120 EUR      176\n",
       "                  ... \n",
       "$ 1,190.00           1\n",
       "₹ 12,490             1\n",
       "About 11000 INR      1\n",
       "About 1350 EUR       1\n",
       "$ 890.00             1\n",
       "Name: Price, Length: 759, dtype: int64"
      ]
     },
     "execution_count": 39,
     "metadata": {},
     "output_type": "execute_result"
    }
   ],
   "source": [
    "df.Price.value_counts()"
   ]
  },
  {
   "cell_type": "markdown",
   "id": "696788cb",
   "metadata": {},
   "source": [
    "Có nhiều đơn vị tiền tệ và format khác nhau"
   ]
  },
  {
   "cell_type": "code",
   "execution_count": 40,
   "id": "2ef26ea3",
   "metadata": {},
   "outputs": [
    {
     "name": "stdout",
     "output_type": "stream",
     "text": [
      "$ 939.95 / € 1,275.99 / £ 1,020.00 / ₹ 127,999\n",
      "$ 999.99 / € 1,164.99 / £ 1,039.00 / ₹ 120,900\n",
      "$ 719.99 / € 1,004.00 / £ 894.00 / ₹ 80,999\n",
      "$ 769.00 / € 879.01 / £ 699.00 / ₹ 71,999\n",
      "$ 198.99 / € 489.00 / £ 449.00 / ₹ 43,900\n",
      "$ 959.00 / € 1,505.34 / £ 1,299.00 / Rp 23,681,736\n",
      "$ 892.00 / € 1,430.44 / £ 1,249.00 / ₹ 142,999 / Rp 19,390,000\n",
      "$ 729.99 / € 793.94 / £ 599.00 / ₹ 60,900 / C$ 919.00 / Rp 16,614,000\n",
      "$ 634.95 / € 719.00 / £ 596.96 / ₹ 89,999 / Rp 14,566,220\n",
      "$ 468.04 / Rp 20,299,000\n",
      "$ 575.00 / € 1,575.39 / ₹ 60,800 / C$ 1,104.45\n",
      "$ 394.95 / € 699.00 / £ 599.00 / ₹ 50,900 / Rp 12,275,000\n",
      "$ 325.00 / € 700.28 / £ 499.00 / Rp 10,285,000\n",
      "$ 164.38 / € 189.00 / £ 279.99\n",
      "$ 424.80 / C$ 755.00\n",
      "$ 449.19 / € 418.90 / £ 939.00 / Rp 9,999,000\n",
      "$ 260.00 / € 499.99 / £ 257.00 / Rp 4,809,000\n",
      "$ 655.30 / € 1,349.00 / £ 1,238.00 / C$ 2,099.99\n",
      "$ 698.99 / £ 809.99 / C$ 1,499.99\n",
      "$ 1,099.99 / € 1,299.00\n",
      "$ 999.99 / € 1,457.26 / £ 1,099.99\n",
      "$ 599.99 / € 749.00 / £ 709.99\n",
      "$ 1,480.00\n",
      "$ 627.99 / € 1,061.00 / £ 829.99 / C$ 1,499.99\n",
      "$ 430.56 / € 1,036.88 / £ 498.00\n",
      "$ 520.00 / € 799.00 / £ 579.20\n",
      "$ 429.00 / € 539.99 / £ 419.99 / C$ 702.69\n",
      "$ 698.00 / € 699.00 / £ 659.20\n",
      "$ 649.00\n",
      "₹ 6,899\n",
      "About 10000 INR\n",
      "About 9000 INR\n",
      "About 5400 INR\n",
      "About 4400 INR\n",
      "About 7000 INR\n",
      "About 8500 INR\n",
      "About 8000 INR\n",
      "About 7200 INR\n",
      "About 5700 INR\n",
      "About 14000 INR\n",
      "About 2900 INR\n",
      "About 19000 INR\n",
      "About 12000 INR\n",
      "About 5000 INR\n",
      "About 4500 INR\n",
      "About 10000 INR\n",
      "About 10000 INR\n",
      "About 10000 INR\n",
      "About 7000 INR\n",
      "About 12000 INR\n",
      "$ 240.00 / £ 349.00\n",
      "£ 310.40\n",
      "$ 363.07 / £ 237.66\n",
      "$ 238.93 / € 179.99\n",
      "$ 161.14 / € 124.82 / ₹ 7,999\n",
      "$ 1,138.00 / € 1,099.00 / £ 895.00\n",
      "$ 519.00\n",
      "$ 149.99\n",
      "$ 279.99 / € 221.40 / £ 329.00\n",
      "$ 214.43 / € 98.90\n",
      "$ 285.00 / € 104.96\n",
      "$ 715.00 / € 879.00 / £ 819.58 / ₹ 57,499 / C$ 1,545.00\n",
      "$ 669.00 / € 499.99 / £ 538.82 / ₹ 41,790\n",
      "$ 539.00 / € 305.96 / £ 299.99\n",
      "$ 350.00\n",
      "$ 1,029.96 / € 1,099.00 / £ 749.99 / C$ 1,590.00\n",
      "₹ 17,290\n",
      "$ 349.23 / € 222.89 / £ 164.99\n",
      "$ 175.00 / € 199.99\n",
      "$ 166.00 / € 169.99 / £ 245.15\n",
      "$ 114.00 / € 119.99 / £ 116.66 / ₹ 7,499\n",
      "$ 276.00 / € 285.44 / £ 313.90 / C$ 399.99\n",
      "$ 399.00 / € 399.00 / ₹ 23,490\n",
      "$ 179.99 / £ 478.31\n",
      "$ 148.00 / £ 384.39\n",
      "$ 356.00 / € 209.99\n",
      "$ 153.00 / € 130.68 / £ 139.00 / ₹ 9,799 / C$ 244.55\n",
      "$ 623.00 / € 671.75 / £ 685.11 / ₹ 29,999\n",
      "$ 179.99 / € 51.36\n",
      "$ 559.99 / € 349.00 / £ 422.05\n",
      "$ 239.99 / € 276.49 / £ 399.00 / ₹ 17,129\n",
      "$ 173.00 / € 211.22 / £ 204.95\n",
      "$ 195.00 / € 191.90\n",
      "$ 149.50 / € 156.90 / £ 135.00\n",
      "$ 89.00 / C$ 189.00\n",
      "$ 308.70 / € 118.07 / £ 104.99\n",
      "$ 53.00\n",
      "$ 137.99 / € 139.00 / £ 150.16\n",
      "$ 350.00 / £ 299.99\n",
      "$ 98.00 / € 94.90 / £ 85.99\n",
      "$ 253.66 / € 199.99\n",
      "$ 254.95\n",
      "$ 144.99 / € 218.00 / £ 287.88 / C$ 299.90\n",
      "$ 344.00 / € 819.46 / £ 488.65 / ₹ 26,999\n",
      "$ 439.00 / € 303.49 / £ 279.99\n",
      "$ 269.99 / € 239.21 / £ 249.94\n",
      "$ 207.00 / € 179.89 / £ 179.99\n",
      "$ 129.98 / C$ 229.99\n",
      "$ 172.00 / € 159.99\n",
      "₹ 18,300\n",
      "$ 675.00 / € 389.99 / £ 403.28\n",
      "$ 219.99 / £ 241.00 / C$ 322.72\n",
      "$ 199.99 / € 137.00\n",
      "$ 88.00 / £ 194.71\n",
      "$ 135.00 / C$ 402.53\n",
      "$ 69.88\n",
      "$ 79.00\n",
      "$ 89.00 / C$ 209.00\n",
      "$ 149.99 / £ 260.61\n",
      "$ 549.95 / € 1,049.00 / £ 617.40 / C$ 826.47\n",
      "$ 152.37 / £ 194.92\n",
      "$ 92.00 / C$ 207.89\n",
      "$ 74.95 / C$ 375.00\n",
      "$ 269.99 / € 327.39 / C$ 895.00\n",
      "€ 669.00 / C$ 1,299.00\n",
      "$ 209.99 / € 705.58\n",
      "$ 89.00 / C$ 329.99\n",
      "$ 339.99 / € 717.90 / £ 900.00\n",
      "$ 179.95 / € 439.32 / £ 347.21\n",
      "$ 249.99 / € 203.00 / £ 179.99 / ₹ 12,999\n",
      "$ 119.99\n",
      "$ 272.68 / € 205.82 / £ 210.00 / C$ 299.00\n",
      "$ 556.68 / € 569.16 / £ 549.00 / C$ 795.00\n",
      "$ 440.80 / € 413.00 / £ 399.99\n",
      "$ 281.24 / € 271.46 / £ 249.99\n",
      "$ 104.00\n",
      "$ 197.23 / £ 241.45\n",
      "$ 138.64\n",
      "$ 59.99 / £ 53.16\n",
      "$ 56.99\n",
      "$ 244.02 / € 158.36 / £ 99.99 / ₹ 9,990\n",
      "$ 79.00 / € 127.07\n",
      "$ 124.50 / € 129.00 / £ 94.95 / ₹ 9,499\n",
      "$ 170.05 / € 160.85 / £ 118.00 / ₹ 12,499\n",
      "$ 79.00 / £ 103.34\n",
      "$ 235.41 / € 219.90 / £ 144.99\n",
      "$ 489.97 / € 299.00 / £ 304.43\n",
      "$ 75.70 / € 81.18 / £ 67.79 / ₹ 5,049\n",
      "$ 220.20 / € 299.99 / £ 299.99\n",
      "$ 199.40 / € 204.96 / £ 159.99 / C$ 593.39\n",
      "$ 122.10 / € 322.99 / £ 142.80 / ₹ 12,098\n",
      "€ 129.74 / £ 124.99 / Rp 1,935,000\n",
      "$ 89.50 / £ 92.58\n",
      "$ 109.99 / € 253.99 / £ 109.99\n",
      "$ 169.99 / € 220.00 / £ 249.99 / ₹ 12,699 / Rp 2,549,000\n",
      "$ 149.84 / € 249.90 / £ 137.29 / ₹ 10,990\n",
      "$ 455.00 / € 199.90 / £ 205.00\n",
      "$ 409.00 / ₹ 5,299\n",
      "$ 518.99 / € 442.47 / £ 395.00 / ₹ 28,260\n",
      "$ 699.00 / € 819.00 / £ 729.00 / ₹ 56,999 / C$ 1,099.00\n",
      "$ 119.00 / £ 189.94 / ₹ 13,500 / C$ 295.35\n",
      "$ 454.57 / € 579.00 / £ 565.00 / ₹ 39,999 / C$ 1,100.25\n",
      "$ 309.00 / € 349.00 / £ 304.00 / ₹ 28,999 / C$ 597.15\n",
      "$ 209.99 / £ 312.59\n",
      "$ 335.00\n",
      "₹ 34,999\n",
      "$ 205.00 / € 228.00 / £ 262.71 / ₹ 18,999 / C$ 448.00\n",
      "$ 489.00 / € 679.89 / £ 573.56 / ₹ 47,999 / C$ 849.99\n",
      "$ 209.00 / € 255.38 / C$ 446.00\n",
      "$ 418.00 / ₹ 34,999\n",
      "$ 335.49 / € 339.00 / £ 299.00 / ₹ 28,599 / C$ 477.08\n",
      "$ 99.95\n",
      "$ 244.00 / € 269.42 / £ 299.00 / ₹ 22,899\n",
      "$ 441.00 / € 682.00 / £ 470.81 / ₹ 46,309\n",
      "$ 298.00 / € 600.00 / £ 479.00 / ₹ 33,250 / C$ 649.96\n",
      "$ 369.60 / ₹ 29,999\n",
      "$ 127.00 / £ 228.56 / C$ 319.99\n",
      "$ 125.00 / £ 290.00 / C$ 885.00\n",
      "$ 294.80 / € 603.43 / £ 599.99 / ₹ 30,899 / C$ 459.99\n",
      "$ 299.00 / € 369.99 / £ 259.00 / ₹ 22,899 / C$ 875.00\n",
      "$ 403.20 / C$ 780.05\n",
      "$ 399.99 / £ 619.00\n",
      "$ 274.99 / € 629.95 / ₹ 21,995\n",
      "$ 999.00 / € 1,327.82 / £ 849.00\n",
      "$ 649.00\n",
      "$ 419.00\n",
      "$ 319.00\n",
      "$ 319.00 / € 157.50 / £ 150.36 / ₹ 12,499\n",
      "$ 728.00 / € 558.00 / £ 499.00 / ₹ 46,500\n",
      "$ 499.00 / € 315.00 / £ 307.99 / ₹ 27,999\n",
      "€ 320.00 / £ 259.00\n",
      "₹ 18,609\n",
      "$ 267.00 / € 195.00 / £ 169.99\n",
      "$ 229.00 / ₹ 10,999\n",
      "$ 313.42 / £ 231.57 / ₹ 26,090\n",
      "₹ 15,750\n",
      "$ 222.82 / € 249.65 / £ 270.00 / ₹ 20,999\n",
      "$ 607.05 / € 893.15 / £ 799.00\n",
      "$ 445.00 / € 539.00 / £ 552.34\n",
      "$ 368.94 / € 346.27 / £ 270.96\n",
      "$ 168.86 / € 184.99 / £ 139.88 / C$ 234.93\n",
      "$ 359.00\n",
      "$ 455.42 / ₹ 34,899\n",
      "$ 103.99 / € 156.34 / £ 128.88 / ₹ 9,490\n",
      "$ 199.99 / € 186.80 / £ 199.99 / C$ 243.50\n",
      "₹ 12,398 / Rp 2,499,000\n",
      "₹ 16,999\n",
      "$ 443.53 / € 419.00 / Rp 10,499,000\n",
      "Rp 5,199,000\n",
      "$ 345.00 / € 155.08 / £ 119.99\n",
      "$ 139.00 / € 138.69 / £ 104.99 / ₹ 12,175 / Rp 1,999,000\n",
      "$ 323.00 / Rp 10,499,000\n",
      "$ 305.69 / € 301.45 / £ 436.64 / ₹ 26,500 / C$ 425.32 / Rp 7,999,000\n",
      "€ 333.36 / £ 199.97\n",
      "$ 385.00 / € 166.40 / £ 148.99\n",
      "$ 252.57 / € 223.99 / £ 239.99 / ₹ 15,490 / Rp 3,999,000\n",
      "$ 252.57 / £ 192.99 / Rp 3,399,000\n",
      "₹ 14,999\n",
      "₹ 12,999 / Rp 2,686,000\n",
      "$ 579.98 / £ 569.00\n",
      "$ 549.00 / € 454.00 / £ 354.99\n",
      "$ 295.00 / € 280.00 / £ 195.00\n",
      "₹ 17,999\n",
      "₹ 18,980\n",
      "$ 405.00 / £ 194.99\n",
      "₹ 11,490 / Rp 2,199,000\n",
      "$ 739.00 / € 500.99 / £ 419.00\n",
      "$ 445.00 / £ 168.99 / Rp 1,699,000\n",
      "$ 509.00 / € 199.00 / £ 189.00\n",
      "₹ 21,489\n",
      "$ 218.99 / € 137.90 / £ 139.00 / Rp 2,470,000\n",
      "$ 539.00 / € 288.46 / £ 415.00\n",
      "$ 585.00 / € 399.00 / £ 389.00\n",
      "Rp 3,199,000\n",
      "$ 515.00 / Rp 1,550,000\n",
      "$ 433.36 / € 465.99 / £ 199.99\n",
      "$ 827.00 / € 599.99 / £ 669.71\n",
      "$ 1,190.00\n",
      "₹ 12,490\n",
      "₹ 29,999\n",
      "About 11000 INR\n",
      "$ 499.00 / ₹ 60,990\n",
      "About 7000 INR\n",
      "About 8000 INR\n",
      "About 6000 INR\n",
      "About 5000 INR\n",
      "About 6500 INR\n",
      "About 9000 INR\n",
      "About 7000 INR\n",
      "About 5300 INR\n",
      "About 6500 INR\n",
      "About 6500 INR\n",
      "About 12500 INR\n",
      "About 8300 INR\n",
      "About 7200 INR\n",
      "About 12800 INR\n",
      "About 11300 INR\n",
      "About 8500 INR\n",
      "About 11500 INR\n",
      "About 27500 INR\n",
      "About 15500 INR\n",
      "About 18000 INR\n",
      "About 29500 INR\n",
      "About 16500 INR\n",
      "About 18500 INR\n",
      "$ 269.00 / ₹ 22,890\n",
      "$ 249.00 / ₹ 20,199\n",
      "$ 189.00 / ₹ 14,493\n",
      "₹ 8,499\n",
      "₹ 14,830\n",
      "$ 471.62\n",
      "€ 119.00\n",
      "₹ 5,999\n",
      "$ 445.00 / € 399.99 / £ 576.00\n",
      "₹ 16,999\n",
      "$ 329.00 / ₹ 12,999\n",
      "€ 256.99 / £ 200.49\n",
      "$ 264.99 / € 246.31 / £ 318.79 / ₹ 16,997\n",
      "$ 190.00 / € 129.08 / £ 135.35 / ₹ 8,848\n",
      "$ 348.00 / € 595.58 / £ 549.90\n",
      "$ 319.00 / € 721.15 / £ 664.00 / ₹ 34,999\n",
      "$ 173.58 / € 132.95 / £ 192.13 / ₹ 9,799\n",
      "₹ 15,470\n",
      "$ 335.00 / ₹ 15,499\n",
      "$ 390.00 / € 319.70 / £ 525.18 / ₹ 25,299\n",
      "$ 228.80 / € 267.73 / £ 410.92 / ₹ 18,720\n",
      "$ 137.00 / € 184.79 / £ 193.81 / ₹ 11,750\n",
      "$ 165.53 / € 184.99 / £ 245.15 / ₹ 13,345\n",
      "$ 439.00 / € 549.99 / £ 625.00 / ₹ 32,999\n",
      "$ 349.80 / € 400.92 / £ 435.13 / ₹ 33,750\n",
      "₹ 11,499 / Rp 1,539,300\n",
      "$ 279.00 / € 345.00 / £ 399.00\n",
      "₹ 10,780\n",
      "₹ 17,890\n",
      "$ 192.99 / € 179.99 / £ 194.90 / ₹ 14,300\n",
      "$ 290.13 / € 349.90 / Rp 4,709,000\n",
      "₹ 6,949 / Rp 1,649,000\n",
      "€ 249.95 / ₹ 10,000 / Rp 2,399,000\n",
      "$ 221.00 / ₹ 16,999\n",
      "$ 429.00\n",
      "$ 389.00 / Rp 3,269,000\n",
      "$ 535.00 / € 169.00\n",
      "$ 275.00 / € 136.86 / £ 139.99 / ₹ 7,990 / Rp 1,552,000\n",
      "$ 287.83 / € 349.00 / £ 380.00 / ₹ 32,499 / Rp 4,799,000\n",
      "$ 335.00 / Rp 1,574,300\n",
      "€ 207.01\n",
      "$ 365.00 / € 250.20 / £ 213.99\n",
      "₹ 14,999\n",
      "₹ 13,475 / Rp 2,950,000\n",
      "Rp 3,498,000\n",
      "₹ 8,990 / Rp 1,999,000\n",
      "$ 299.00 / € 118.49 / £ 147.23 / ₹ 6,949\n",
      "$ 495.00 / £ 366.90 / ₹ 14,999 / Rp 3,399,000\n",
      "€ 377.99\n",
      "Rp 2,239,300\n",
      "About 8000 INR\n",
      "About 6000 INR\n",
      "About 9000 INR\n",
      "About 7500 INR\n",
      "$ 1,095.00 / € 1,259.00 / £ 1,149.00 / ₹ 124,999 / C$ 1,649.98\n",
      "$ 859.99 / € 1,138.89 / £ 1,049.00 / ₹ 94,999 / C$ 1,399.99\n",
      "$ 778.00 / € 870.00 / £ 749.00 / ₹ 79,999 / C$ 1,097.99\n",
      "$ 129.00 / ₹ 16,499 / C$ 329.99\n",
      "₹ 8,999\n",
      "$ 108.97 / ₹ 9,299\n",
      "$ 126.00 / € 129.00 / £ 128.04 / ₹ 13,499\n",
      "$ 950.00 / € 1,318.90 / £ 1,499.00 / ₹ 125,999 / C$ 1,949.99\n",
      "$ 644.00 / € 749.98 / £ 704.99 / ₹ 77,990 / C$ 999.99\n",
      "$ 299.99 / € 244.48 / £ 199.00 / ₹ 22,990\n",
      "₹ 11,999\n",
      "₹ 10,999\n",
      "$ 157.00 / € 171.00\n",
      "About 8000 INR\n",
      "About 6000 INR\n",
      "About 7000 INR\n",
      "About 9000 INR\n",
      "About 15000 INR\n",
      "About 10300 INR\n",
      "$ 89.99 / € 129.99 / £ 101.99\n",
      "$ 89.98 / £ 76.49\n",
      "$ 199.49 / € 339.72 / £ 269.00 / ₹ 37,500\n",
      "$ 349.59 / ₹ 51,500\n",
      "$ 302.24 / € 549.99 / £ 399.00 / ₹ 48,850\n",
      "$ 236.99 / € 349.99 / £ 289.00\n",
      "$ 229.49 / € 322.99 / £ 339.99\n",
      "$ 329.00 / € 462.99 / £ 455.55\n",
      "$ 639.00 / € 559.71 / £ 499.00\n",
      "About 13000 INR\n",
      "About 9000 INR\n",
      "About 15000 INR\n",
      "$ 709.00 / € 772.99 / £ 708.00 / ₹ 70,890 / C$ 1,079.99\n",
      "$ 459.99 / € 585.00 / £ 488.00 / ₹ 50,640 / C$ 649.99\n",
      "$ 274.95 / € 322.90 / £ 269.80 / ₹ 29,590 / C$ 430.00\n",
      "$ 308.90 / € 565.99 / £ 509.99 / ₹ 48,179 / C$ 669.99\n",
      "$ 278.98 / € 455.00 / £ 434.99 / ₹ 37,500 / C$ 428.90\n",
      "$ 329.99 / C$ 743.36\n",
      "$ 325.92 / € 274.90 / £ 590.00 / ₹ 28,470\n",
      "$ 234.64 / € 393.47 / £ 206.00 / C$ 499.00\n",
      "$ 210.00 / € 320.00 / £ 400.00 / ₹ 22,999\n",
      "$ 273.99 / € 323.90 / £ 289.99 / ₹ 30,400 / C$ 529.99 / Rp 6,299,000\n",
      "$ 149.95 / € 199.99 / £ 249.99 / ₹ 19,900 / C$ 247.72\n",
      "$ 126.00 / € 289.95 / £ 195.00 / ₹ 1,599 / C$ 280.73\n",
      "$ 99.99 / € 259.00 / £ 179.99 / ₹ 15,490 / C$ 199.99\n",
      "€ 484.46 / £ 329.99\n",
      "$ 344.99\n",
      "$ 519.00\n",
      "$ 369.59\n",
      "€ 167.78\n",
      "$ 419.00 / € 219.61 / £ 179.99\n",
      "$ 565.00 / € 436.00 / £ 344.99\n",
      "$ 445.00 / € 238.23 / £ 449.57\n",
      "$ 203.07 / € 209.99 / £ 169.99\n",
      "$ 1,085.00 / € 791.25 / £ 699.99\n",
      "$ 389.59\n",
      "$ 459.99\n",
      "$ 455.00 / € 555.79 / £ 350.00\n",
      "About BTC 0.15/ETH 4.78(crypto curr)\n",
      "Price\n",
      "$ 589.00 / € 472.00 / £ 494.99\n",
      "₹ 10,750\n",
      "€ 156.00 / £ 129.00\n",
      "€ 354.99 / ₹ 23,999\n",
      "$ 396.00 / £ 431.31 / ₹ 37,850\n",
      "$ 313.00 / € 338.81 / £ 491.80 / C$ 436.99\n",
      "$ 250.00 / € 273.00 / £ 253.69 / ₹ 23,800 / C$ 336.51\n",
      "₹ 13,750\n",
      "$ 299.00 / € 263.24 / £ 249.99 / ₹ 15,990\n",
      "€ 227.19\n",
      "$ 149.99 / € 216.45 / £ 239.99 / ₹ 16,499 / C$ 259.94\n",
      "$ 120.00 / € 138.88 / £ 119.24 / ₹ 12,800 / C$ 207.23\n",
      "$ 850.00 / € 937.99 / £ 789.00 / ₹ 95,900 / C$ 1,042.48\n",
      "$ 629.95 / € 849.99 / £ 729.99 / C$ 799.99\n",
      "$ 333.94 / € 604.00 / £ 518.00 / ₹ 51,990 / C$ 799.99\n",
      "$ 211.32 / € 474.00 / £ 396.99 / ₹ 36,490 / C$ 836.60\n",
      "$ 99.88 / € 183.63 / £ 153.90 / C$ 289.99\n",
      "$ 97.99 / € 140.00 / £ 96.74 / ₹ 7,990\n",
      "$ 89.00 / € 107.00 / £ 79.90 / ₹ 6,700 / C$ 130.75\n",
      "€ 319.89 / £ 280.00 / Rp 5,150,000\n",
      "€ 282.98 / Rp 1,854,650\n",
      "$ 71.00 / € 135.00 / £ 105.50 / ₹ 8,899 / C$ 555.00 / Rp 1,752,000\n",
      "$ 369.99 / € 345.00 / £ 259.00 / C$ 895.00 / Rp 4,979,000\n",
      "$ 665.98 / € 999.00 / £ 625.00 / ₹ 90,999 / Rp 24,999,000\n",
      "$ 399.95 / € 537.00 / £ 526.67 / ₹ 49,999 / C$ 1,099.00 / Rp 14,820,000\n",
      "₹ 14,990\n",
      "$ 162.00 / € 249.00 / £ 219.99\n",
      "$ 259.99 / € 242.00 / £ 239.99 / ₹ 12,999\n",
      "$ 175.00 / € 229.00 / £ 189.99 / ₹ 19,249 / C$ 249.50 / Rp 3,188,000\n",
      "$ 177.97 / € 228.50 / £ 189.99 / ₹ 17,990 / C$ 649.00 / Rp 2,850,000\n",
      "$ 133.00\n",
      "$ 192.50 / € 197.22 / £ 140.00 / Rp 1,799,000\n",
      "$ 372.40 / € 525.00 / £ 549.89 / ₹ 31,999 / C$ 990.00\n",
      "$ 181.54 / € 399.99 / £ 338.00 / Rp 6,499,000\n",
      "$ 297.00 / € 349.00 / £ 290.00 / ₹ 24,990 / C$ 699.00 / Rp 4,862,000\n",
      "€ 216.00 / £ 229.00 / C$ 342.96\n",
      "$ 199.00 / € 242.00 / £ 229.99 / ₹ 21,999 / C$ 362.49 / Rp 3,599,000\n",
      "$ 399.00 / € 672.00 / £ 849.00 / ₹ 79,999 / C$ 1,624.51 / Rp 18,999,000\n",
      "$ 294.96 / € 699.99 / £ 599.99\n",
      "$ 269.00 / € 525.00 / £ 434.99 / C$ 699.99 / Rp 12,999,000\n",
      "$ 139.99 / € 292.48 / £ 211.75 / Rp 3,950,000\n",
      "$ 104.79 / € 179.00 / £ 134.90 / ₹ 12,990 / Rp 2,299,000\n",
      "₹ 8,999\n",
      "$ 129.99 / € 169.00 / £ 114.95 / Rp 1,505,000\n",
      "$ 75.00 / € 179.00 / £ 132.00 / C$ 485.00 / Rp 1,599,000\n",
      "₹ 16,999\n",
      "$ 268.45 / € 399.00 / £ 364.99 / ₹ 29,490 / Rp 6,899,000\n",
      "$ 345.80 / € 405.00 / £ 349.99 / ₹ 32,700 / C$ 779.97 / Rp 6,999,000\n",
      "$ 289.99 / C$ 919.00\n",
      "$ 444.08 / € 829.00 / £ 719.99 / Rp 16,999,000\n",
      "$ 325.78 / £ 450.00\n",
      "€ 165.89 / £ 94.99\n",
      "$ 175.50 / € 229.03 / £ 259.95 / C$ 759.00 / Rp 2,745,000\n",
      "$ 259.88\n",
      "$ 162.99 / £ 272.79\n",
      "$ 115.20 / € 249.99 / ₹ 1,299 / C$ 259.00\n",
      "€ 204.99 / £ 129.00 / Rp 1,549,000\n",
      "$ 220.50 / € 312.64 / £ 209.99 / ₹ 16,999\n",
      "$ 200.25 / € 289.00 / £ 349.99\n",
      "€ 189.99 / £ 279.99 / Rp 2,698,900\n",
      "C$ 889.00 / Rp 3,450,000\n",
      "$ 373.10 / € 679.98 / £ 849.99 / C$ 579.97\n",
      "$ 600.00 / € 685.99 / Rp 11,999,000\n",
      "$ 341.25 / € 539.99 / £ 299.99 / C$ 540.00\n",
      "$ 400.90 / € 529.00 / £ 649.00 / C$ 977.98 / Rp 11,198,900\n",
      "$ 214.00 / € 597.46 / £ 894.99 / C$ 499.00 / Rp 5,950,000\n",
      "$ 249.97 / € 499.99 / £ 360.00 / ₹ 41,949 / C$ 374.99\n",
      "$ 84.99 / € 355.42 / £ 349.00 / C$ 828.00\n",
      "€ 375.00 / ₹ 36,000\n",
      "$ 69.00 / € 198.89 / £ 179.99 / C$ 465.00 / Rp 1,675,000\n",
      "$ 249.99 / € 359.90 / C$ 669.99 / Rp 6,999,000\n",
      "$ 211.50 / € 294.84 / ₹ 20,990 / C$ 450.00\n",
      "$ 139.50 / € 230.00 / £ 199.99 / Rp 2,135,888\n",
      "Rp 3,499,000\n",
      "$ 161.50 / £ 200.00 / Rp 2,131,500\n",
      "$ 134.32 / € 214.98 / £ 144.99 / ₹ 10,290 / C$ 370.00 / Rp 1,650,000\n",
      "$ 89.82 / £ 104.00\n",
      "$ 227.63 / € 410.00 / £ 449.00 / C$ 779.97\n",
      "$ 195.00 / € 289.00 / £ 999.00 / C$ 879.99\n",
      "$ 204.34 / € 302.00 / £ 198.94 / C$ 379.99 / Rp 3,985,000\n",
      "$ 149.90 / € 315.00 / £ 289.99 / C$ 279.00 / Rp 2,659,300\n",
      "€ 399.99 / Rp 2,150,000\n",
      "$ 171.00 / € 278.00 / £ 235.00 / C$ 274.99\n",
      "$ 144.00 / € 233.85 / £ 209.00\n",
      "$ 120.60 / £ 131.95 / Rp 2,999,000\n",
      "$ 99.00 / € 213.28 / £ 158.99\n",
      "$ 114.03\n",
      "$ 122.17 / € 195.00 / £ 120.99 / C$ 551.00\n",
      "$ 732.00 / £ 767.79\n",
      "$ 788.00 / € 999.00 / £ 809.80\n",
      "$ 329.00 / € 319.00 / £ 310.35\n",
      "$ 949.99 / € 1,199.00 / £ 1,399.00\n",
      "$ 601.20 / € 773.10 / £ 680.00\n",
      "$ 649.99 / € 649.00 / £ 679.00\n",
      "$ 746.00 / € 355.00 / £ 464.50\n",
      "$ 1,998.00\n",
      "$ 351.99 / € 699.90 / £ 505.30\n",
      "$ 355.09 / £ 849.00\n",
      "$ 172.19 / € 580.89 / £ 449.99\n",
      "About 14000 INR\n",
      "$ 589.00 / € 355.97\n",
      "$ 1,015.99 / € 1,181.27 / C$ 2,345.00\n",
      "$ 509.00 / € 204.12 / C$ 779.00\n",
      "$ 1,599.98 / € 1,832.80 / C$ 2,965.00\n",
      "$ 445.00 / € 234.36 / C$ 675.00\n",
      "$ 279.99 / € 301.28 / £ 179.00\n",
      "$ 1,329.59 / € 760.00 / £ 1,095.13\n",
      "$ 279.99 / € 317.42 / £ 352.72 / C$ 959.00\n",
      "$ 737.00 / € 735.00 / £ 699.99\n",
      "$ 220.00 / € 241.74 / £ 229.00\n",
      "$ 314.39 / € 294.99 / £ 269.99 / C$ 319.99\n",
      "$ 699.99 / € 671.55 / £ 949.99 / C$ 950.00 / Rp 9,999,000\n",
      "$ 299.99 / € 223.09 / £ 219.99 / C$ 319.99\n",
      "$ 399.99 / € 449.00 / £ 259.99\n",
      "$ 229.97 / ₹ 16,800\n",
      "₹ 12,999\n",
      "₹ 9,900 / Rp 2,099,000\n",
      "Rp 1,799,000\n",
      "Rp 4,599,000\n",
      "Rp 2,596,000\n",
      "Rp 1,902,000\n",
      "Rp 1,718,000\n",
      "₹ 8,709 / Rp 1,570,000\n",
      "₹ 13,000\n",
      "Rp 1,525,000\n",
      "About 7000 INR\n",
      "About 7000 INR\n",
      "₹ 7,250\n",
      "₹ 6,999\n",
      "About 3500 INR\n",
      "About 4950 INR\n",
      "About 5700 INR\n",
      "About 9000 INR\n",
      "About 10000 INR\n",
      "About 4400 INR\n",
      "About 10750 INR\n",
      "About 9000 INR\n",
      "About 6500 INR\n",
      "About 7700 INR\n",
      "About 5400 INR\n",
      "About 6099 INR\n",
      "€ 114.40\n",
      "₹ 49,999\n",
      "₹ 39,999\n",
      "₹ 7,999\n",
      "₹ 9,799\n",
      "₹ 9,999\n",
      "₹ 8,599\n",
      "₹ 10,999\n",
      "₹ 7,790\n",
      "About 10000 INR\n",
      "About 15000 INR\n",
      "About 7600 INR\n",
      "About 6700 INR\n",
      "$ 329.99 / € 399.99 / £ 369.99 / C$ 599.99\n",
      "$ 196.00 / € 229.49 / £ 186.99 / C$ 329.99\n",
      "₹ 19,790\n",
      "₹ 24,999\n",
      "$ 439.00 / ₹ 29,999\n",
      "$ 800.17\n",
      "$ 647.52 / ₹ 59,999\n",
      "$ 1,029.00\n",
      "$ 800.17\n",
      "$ 589.00\n",
      "₹ 9,999\n",
      "₹ 31,000\n",
      "₹ 27,018\n",
      "€ 259.00 / £ 279.00 / ₹ 14,999\n",
      "₹ 49,999\n",
      "$ 869.00\n",
      "$ 566.58\n",
      "₹ 29,999\n",
      "₹ 18,295\n",
      "₹ 22,999\n",
      "₹ 13,999\n",
      "$ 748.78\n",
      "$ 538.63 / ₹ 46,999\n",
      "₹ 12,479\n",
      "₹ 14,999\n",
      "₹ 42,990\n",
      "₹ 30,999\n",
      "$ 629.99 / ₹ 42,999\n",
      "₹ 17,490\n",
      "₹ 37,990\n",
      "€ 459.11 / £ 439.00 / ₹ 28,740\n",
      "₹ 16,689\n",
      "₹ 15,290\n",
      "$ 79.95 / € 319.00 / £ 319.00\n",
      "₹ 7,999 / Rp 1,825,000\n",
      "$ 659.99\n",
      "₹ 14,999 / Rp 3,180,000\n",
      "₹ 12,289 / Rp 2,211,000\n",
      "₹ 17,949\n",
      "₹ 17,980 / Rp 3,599,000\n",
      "₹ 23,690\n",
      "€ 299.00 / £ 252.00 / ₹ 25,990 / Rp 5,326,000\n",
      "₹ 24,990\n",
      "€ 1,045.99 / Rp 5,599,300\n",
      "₹ 35,090 / Rp 6,999,000\n",
      "₹ 16,990 / Rp 1,799,000\n",
      "$ 809.00 / £ 709.00\n",
      "€ 269.00 / Rp 2,760,000\n",
      "₹ 23,190 / Rp 4,399,000\n",
      "₹ 13,990 / Rp 2,099,000\n",
      "Rp 5,876,500\n",
      "₹ 14,690 / Rp 1,800,000\n",
      "₹ 19,000 / Rp 3,100,000\n",
      "₹ 22,500 / Rp 2,600,000\n",
      "₹ 9,450 / Rp 1,898,900\n",
      "₹ 28,990 / Rp 2,449,930\n",
      "₹ 15,999 / Rp 3,050,000\n",
      "€ 72.54 / ₹ 6,540 / Rp 1,511,300\n",
      "₹ 11,000\n",
      "₹ 8,990 / Rp 1,999,000\n",
      "About 8000 INR\n",
      "About 9000 INR\n",
      "About 9500 INR\n",
      "$ 269.00 / € 299.90\n",
      "$ 254.00 / € 269.00\n",
      "€ 228.68 / £ 312.05 / ₹ 17,999\n",
      "€ 1,299.90\n",
      "€ 999.90\n",
      "$ 469.99 / € 498.48 / £ 483.57\n",
      "$ 368.99 / € 397.87 / £ 393.76 / ₹ 24,986\n",
      "$ 550.00 / € 561.62 / £ 633.51\n",
      "$ 404.00 / € 489.00 / £ 459.09\n",
      "€ 86.07 / £ 91.52 / ₹ 7,175\n",
      "₹ 12,999\n",
      "$ 76.00 / € 81.83 / £ 99.95 / ₹ 5,799\n",
      "$ 169.00 / € 184.14 / £ 201.83\n",
      "$ 140.00 / € 173.41 / £ 139.00\n",
      "₹ 10,799\n",
      "₹ 14,000\n",
      "$ 165.00 / € 221.93\n",
      "₹ 19,949\n",
      "$ 359.00 / € 360.77\n",
      "$ 947.00\n",
      "$ 321.00 / € 340.60 / £ 514.49 / ₹ 24,950\n",
      "$ 306.00 / € 368.02\n",
      "$ 105.00 / € 114.31 / £ 162.13\n",
      "₹ 12,799\n",
      "$ 379.00 / € 489.00 / £ 670.00\n",
      "₹ 11,999\n",
      "£ 537.75\n",
      "$ 91.35 / € 100.60 / £ 124.24\n",
      "$ 254.99 / € 253.97 / £ 282.00\n",
      "$ 179.78 / € 167.99\n",
      "$ 320.00 / € 363.45\n",
      "$ 543.31 / € 819.00 / £ 799.00\n",
      "$ 510.00 / € 495.70 / £ 604.99\n",
      "$ 456.48 / € 453.00\n",
      "₹ 9,299\n",
      "$ 125.00 / € 125.00 / £ 129.99\n",
      "$ 262.00 / € 311.38 / £ 288.89 / ₹ 17,879\n",
      "$ 190.71 / € 257.99 / £ 244.99\n",
      "$ 157.00 / € 138.99 / £ 179.99\n",
      "$ 233.00 / € 285.00 / £ 289.99\n",
      "$ 241.00 / € 245.00 / £ 268.00\n",
      "$ 201.00 / € 194.00 / £ 230.00\n",
      "$ 154.99 / € 167.90 / £ 166.99 / ₹ 12,090\n",
      "₹ 23,490\n",
      "₹ 16,999\n",
      "$ 157.99 / £ 169.00\n",
      "$ 176.47 / € 208.50 / £ 278.33 / ₹ 12,585\n",
      "$ 172.80\n",
      "₹ 13,870\n",
      "₹ 7,499\n",
      "$ 1,099.99 / ₹ 6,499\n",
      "₹ 7,590\n",
      "$ 400.00 / € 409.00 / £ 490.99 / ₹ 36,999\n",
      "$ 297.00 / € 340.61 / £ 362.40\n",
      "$ 259.00 / € 308.88 / £ 299.99 / ₹ 25,999\n",
      "$ 91.35 / € 148.70 / £ 139.99\n",
      "€ 344.71 / Rp 4,230,000\n",
      "₹ 20,999\n",
      "$ 216.79 / € 189.00 / £ 184.99\n",
      "$ 155.00 / € 215.00\n",
      "₹ 36,999\n",
      "₹ 27,999\n",
      "$ 571.50 / £ 529.99\n",
      "$ 397.50 / € 344.05 / £ 423.96\n",
      "$ 299.99 / € 307.37 / £ 294.99\n",
      "$ 289.50 / € 366.45 / £ 299.95 / ₹ 18,499 / Rp 3,650,000\n",
      "$ 374.53 / € 499.00 / £ 519.18\n",
      "$ 355.00 / € 399.00 / Rp 5,876,500\n",
      "€ 297.00 / ₹ 19,999 / Rp 3,441,000\n",
      "$ 212.44 / € 325.00 / £ 358.05 / Rp 4,750,000\n",
      "$ 189.99 / € 207.00 / £ 214.99 / Rp 3,549,995\n",
      "$ 129.19 / € 179.00 / £ 169.95 / Rp 2,745,000\n",
      "$ 161.00 / € 187.17 / £ 189.97 / ₹ 12,999 / Rp 2,999,000\n",
      "$ 193.50 / Rp 3,899,000\n",
      "€ 219.75 / £ 219.99\n",
      "$ 153.00 / € 232.75 / £ 175.66 / Rp 1,525,300\n",
      "£ 439.00\n",
      "$ 187.00 / € 199.99 / £ 179.95 / ₹ 11,499 / Rp 2,299,000\n",
      "₹ 6,999\n",
      "$ 385.00 / € 427.91 / £ 799.00 / ₹ 34,990 / Rp 5,926,578\n",
      "€ 429.99 / £ 399.99 / ₹ 22,429 / Rp 5,725,000\n",
      "$ 279.98 / € 239.03\n",
      "€ 88.00 / £ 79.99\n",
      "₹ 7,789\n",
      "₹ 10,499\n",
      "₹ 13,499 / Rp 3,399,000\n",
      "€ 399.90 / Rp 2,800,000\n",
      "$ 84.69 / € 83.00 / £ 94.00 / ₹ 7,390 / Rp 1,515,000\n",
      "$ 89.28 / € 107.91 / £ 123.98 / C$ 217.33 / Rp 1,650,000\n",
      "$ 118.80 / € 189.00 / £ 196.62\n",
      "€ 483.45 / £ 594.72 / Rp 6,700,000\n",
      "$ 208.99 / € 215.00 / £ 202.00 / Rp 2,450,000\n",
      "$ 126.00 / € 167.17 / £ 194.99 / ₹ 12,900 / Rp 1,915,000\n",
      "$ 229.99 / € 200.31 / £ 348.00\n",
      "€ 245.90 / £ 312.99\n",
      "€ 189.00 / £ 234.99\n",
      "₹ 14,499\n",
      "€ 238.90 / £ 367.25 / ₹ 54,999\n",
      "₹ 13,900\n",
      "€ 418.42\n",
      "About 10000 INR\n",
      "About 6000 INR\n",
      "About 12000 INR\n",
      "About 6000 INR\n",
      "About 9000 INR\n",
      "$ 669.04\n",
      "€ 139.00\n",
      "$ 439.58\n",
      "$ 758.84\n",
      "$ 90.00 / € 123.99 / £ 105.00\n",
      "$ 422.40 / € 1,026.53\n",
      "$ 890.00 / € 444.00\n",
      "$ 890.00\n"
     ]
    }
   ],
   "source": [
    "for s in df.Price:\n",
    "    l = s.split(' ')\n",
    "    if len(l) == 3:\n",
    "        if l[0].lower() == 'about' and l[-1].lower() == 'eur':\n",
    "            continue\n",
    "    print(s)"
   ]
  },
  {
   "cell_type": "markdown",
   "id": "89a37ef6",
   "metadata": {},
   "source": [
    "Có thể thấy còn đơn vị INR, Rp và một vài đơn vị tiền tệ khác bị xen lẫn, cần đổi các giá trị này sang cùng 1 đơn vị tiền tệ là Euro"
   ]
  },
  {
   "cell_type": "markdown",
   "id": "4fe84607",
   "metadata": {},
   "source": [
    "<font size = '3'> **Vì các giá trị đang là object và đang chưa nhiều thông tin nhiễu nên chưa thể kiểm tra toàn bộ vấn đề về outliers và Logic** <font>"
   ]
  },
  {
   "cell_type": "markdown",
   "id": "1f356be8",
   "metadata": {},
   "source": [
    "## Giá trị bất thường"
   ]
  },
  {
   "cell_type": "markdown",
   "id": "cc6e91db",
   "metadata": {},
   "source": [
    "### Rom, Ram\n",
    "Xuất hiện các giá trị bằng 0"
   ]
  },
  {
   "cell_type": "code",
   "execution_count": 41,
   "id": "fa96ff6c",
   "metadata": {},
   "outputs": [
    {
     "data": {
      "text/plain": [
       "(231, 231, 120, 120)"
      ]
     },
     "execution_count": 41,
     "metadata": {},
     "output_type": "execute_result"
    }
   ],
   "source": [
    "len(df[df.ROM == '0.0']), len(df[df.RAM == '0.0']), len(df[df.ROM == '0']), len(df[df.RAM == '0'])"
   ]
  },
  {
   "cell_type": "markdown",
   "id": "88c40cd6",
   "metadata": {},
   "source": [
    "Có thể trên cùng bản ghi"
   ]
  },
  {
   "cell_type": "code",
   "execution_count": 42,
   "id": "faeb3545",
   "metadata": {},
   "outputs": [
    {
     "data": {
      "text/plain": [
       "351"
      ]
     },
     "execution_count": 42,
     "metadata": {},
     "output_type": "execute_result"
    }
   ],
   "source": [
    "df_RR = df[((df.ROM == '0.0')|(df.ROM == '0')) & ((df.RAM == '0.0')|(df.RAM == '0'))]\n",
    "len(df_RR)"
   ]
  },
  {
   "cell_type": "markdown",
   "id": "e2d9a212",
   "metadata": {},
   "source": [
    "- Nguyên nhân do không có giá trị RAM nên mặc định chuyển cả 2 giá trị đều thành 0"
   ]
  },
  {
   "cell_type": "markdown",
   "id": "18f0089b",
   "metadata": {},
   "source": [
    "## Logic"
   ]
  },
  {
   "cell_type": "markdown",
   "id": "c67a0a0f",
   "metadata": {},
   "source": [
    "### Num of MC/SC và Pic of MC/SC\n",
    "Số camera và độ phân giải tương ứng của từng camera. Số giá trị độ phân giải phải bằng số camera"
   ]
  },
  {
   "cell_type": "markdown",
   "id": "ac189838",
   "metadata": {},
   "source": [
    "#### MC"
   ]
  },
  {
   "cell_type": "code",
   "execution_count": 43,
   "id": "c3358a2f",
   "metadata": {},
   "outputs": [
    {
     "data": {
      "text/plain": [
       "8              773\n",
       "13             757\n",
       "5              605\n",
       "13,2           201\n",
       "16             167\n",
       "              ... \n",
       "50,64,64,64      1\n",
       "50,64,64,13      1\n",
       "40,8             1\n",
       "40,8,2           1\n",
       "24,5             1\n",
       "Name: Pic MC, Length: 369, dtype: int64"
      ]
     },
     "execution_count": 43,
     "metadata": {},
     "output_type": "execute_result"
    }
   ],
   "source": [
    "df['Pic MC'].value_counts()"
   ]
  },
  {
   "cell_type": "code",
   "execution_count": 44,
   "id": "61b12fc6",
   "metadata": {},
   "outputs": [
    {
     "data": {
      "text/plain": [
       "1.0          2730\n",
       "3.0           966\n",
       "2.0           748\n",
       "4.0           439\n",
       "Num of MC       1\n",
       "Name: Num of MC, dtype: int64"
      ]
     },
     "execution_count": 44,
     "metadata": {},
     "output_type": "execute_result"
    }
   ],
   "source": [
    "df['Num of MC'].value_counts()"
   ]
  },
  {
   "cell_type": "code",
   "execution_count": 45,
   "id": "448e5f2e",
   "metadata": {},
   "outputs": [
    {
     "data": {
      "text/plain": [
       "281"
      ]
     },
     "execution_count": 45,
     "metadata": {},
     "output_type": "execute_result"
    }
   ],
   "source": [
    "error =[]\n",
    "for i in range(len(df)):\n",
    "    lst_pic = df.at[i,'Pic MC'].split(',')\n",
    "    n = df.at[i,'Num of MC']\n",
    "    if n == 'Num of MC':\n",
    "        continue\n",
    "    n = int(n[:-2])\n",
    "    if len(lst_pic) != n:\n",
    "        error.append(i)\n",
    "len(error)"
   ]
  },
  {
   "cell_type": "code",
   "execution_count": 46,
   "id": "6bf1f3e0",
   "metadata": {},
   "outputs": [
    {
     "data": {
      "text/plain": [
       "3.0    91\n",
       "1.0    82\n",
       "2.0    74\n",
       "4.0    34\n",
       "Name: Num of MC, dtype: int64"
      ]
     },
     "execution_count": 46,
     "metadata": {},
     "output_type": "execute_result"
    }
   ],
   "source": [
    "df['Num of MC'].loc[error].value_counts()"
   ]
  },
  {
   "cell_type": "code",
   "execution_count": 47,
   "id": "71408b03",
   "metadata": {},
   "outputs": [
    {
     "data": {
      "text/html": [
       "<div>\n",
       "<style scoped>\n",
       "    .dataframe tbody tr th:only-of-type {\n",
       "        vertical-align: middle;\n",
       "    }\n",
       "\n",
       "    .dataframe tbody tr th {\n",
       "        vertical-align: top;\n",
       "    }\n",
       "\n",
       "    .dataframe thead th {\n",
       "        text-align: right;\n",
       "    }\n",
       "</style>\n",
       "<table border=\"1\" class=\"dataframe\">\n",
       "  <thead>\n",
       "    <tr style=\"text-align: right;\">\n",
       "      <th></th>\n",
       "      <th>ID</th>\n",
       "      <th>Name</th>\n",
       "      <th>Brand</th>\n",
       "      <th>Announced</th>\n",
       "      <th>Status</th>\n",
       "      <th>Size</th>\n",
       "      <th>Resolution</th>\n",
       "      <th>OS</th>\n",
       "      <th>Chipset</th>\n",
       "      <th>Card slot</th>\n",
       "      <th>...</th>\n",
       "      <th>RAM</th>\n",
       "      <th>Num of MC</th>\n",
       "      <th>Pic MC</th>\n",
       "      <th>Video MC</th>\n",
       "      <th>Num of SC</th>\n",
       "      <th>Pic SC</th>\n",
       "      <th>Loudspeaker</th>\n",
       "      <th>3.5mm jack</th>\n",
       "      <th>Battery</th>\n",
       "      <th>Price</th>\n",
       "    </tr>\n",
       "  </thead>\n",
       "  <tbody>\n",
       "    <tr>\n",
       "      <th>709</th>\n",
       "      <td>1874</td>\n",
       "      <td>18s Pro</td>\n",
       "      <td>Meizu</td>\n",
       "      <td>2021, September 22</td>\n",
       "      <td>Available. Released 2021, September 23</td>\n",
       "      <td>6.7 inches, 107.6 cm2 (~90.7% screen-to-body r...</td>\n",
       "      <td>1440 x 3200 pixels, 20:9 ratio (~526 ppi density)</td>\n",
       "      <td>Android 11, Flyme 9.2</td>\n",
       "      <td>Qualcomm SM8350 Snapdragon 888+ 5G (5 nm)</td>\n",
       "      <td>No</td>\n",
       "      <td>...</td>\n",
       "      <td>8.0</td>\n",
       "      <td>3.0</td>\n",
       "      <td>50,8,32,3</td>\n",
       "      <td>8K, 4K@30/60fps, 1080p; gyro-EIS, HDR</td>\n",
       "      <td>1.0</td>\n",
       "      <td>44</td>\n",
       "      <td>Yes, with stereo speakers</td>\n",
       "      <td>No</td>\n",
       "      <td>4500.0</td>\n",
       "      <td>About 610 EUR</td>\n",
       "    </tr>\n",
       "    <tr>\n",
       "      <th>712</th>\n",
       "      <td>1878</td>\n",
       "      <td>18 Pro</td>\n",
       "      <td>Meizu</td>\n",
       "      <td>2021, March 03</td>\n",
       "      <td>Available. Released 2021, March 08</td>\n",
       "      <td>6.7 inches, 107.6 cm2 (~90.7% screen-to-body r...</td>\n",
       "      <td>1440 x 3200 pixels, 20:9 ratio (~526 ppi density)</td>\n",
       "      <td>Android 11, Flyme 9</td>\n",
       "      <td>Qualcomm SM8350 Snapdragon 888 5G (5 nm)</td>\n",
       "      <td>No</td>\n",
       "      <td>...</td>\n",
       "      <td>8.0</td>\n",
       "      <td>3.0</td>\n",
       "      <td>50,8,32,3</td>\n",
       "      <td>8K, 4K@30/60fps, 1080p; gyro-EIS</td>\n",
       "      <td>1.0</td>\n",
       "      <td>44</td>\n",
       "      <td>Yes, with stereo speakers</td>\n",
       "      <td>No</td>\n",
       "      <td>4500.0</td>\n",
       "      <td>About 640 EUR</td>\n",
       "    </tr>\n",
       "    <tr>\n",
       "      <th>714</th>\n",
       "      <td>1880</td>\n",
       "      <td>17 Pro</td>\n",
       "      <td>Meizu</td>\n",
       "      <td>2020, May 08</td>\n",
       "      <td>Available. Released 2020, May 11</td>\n",
       "      <td>6.6 inches, 106.9 cm2 (~86.6% screen-to-body r...</td>\n",
       "      <td>1080 x 2340 pixels, 19.5:9 ratio (~390 ppi den...</td>\n",
       "      <td>Android 10, Flyme 8.1</td>\n",
       "      <td>Qualcomm SM8250 Snapdragon 865 5G (7 nm+)</td>\n",
       "      <td>No</td>\n",
       "      <td>...</td>\n",
       "      <td>8.0</td>\n",
       "      <td>3.0</td>\n",
       "      <td>64,8,32,3</td>\n",
       "      <td>4K@30/60fps, 1080p; gyro-EIS</td>\n",
       "      <td>1.0</td>\n",
       "      <td>20</td>\n",
       "      <td>Yes, with stereo speakers</td>\n",
       "      <td>No</td>\n",
       "      <td>4500.0</td>\n",
       "      <td>About 560 EUR</td>\n",
       "    </tr>\n",
       "    <tr>\n",
       "      <th>718</th>\n",
       "      <td>1884</td>\n",
       "      <td>16s Pro</td>\n",
       "      <td>Meizu</td>\n",
       "      <td>2019, August</td>\n",
       "      <td>Available. Released 2019, August</td>\n",
       "      <td>6.2 inches, 95.8 cm2 (~85.9% screen-to-body ra...</td>\n",
       "      <td>1080 x 2232 pixels, 18.5:9 ratio (~403 ppi den...</td>\n",
       "      <td>Android 9.0 (Pie), Flyme 8</td>\n",
       "      <td>Qualcomm SM8150 Snapdragon 855+ (7 nm)</td>\n",
       "      <td>No</td>\n",
       "      <td>...</td>\n",
       "      <td>6.0</td>\n",
       "      <td>3.0</td>\n",
       "      <td>48,16</td>\n",
       "      <td>4K@30/60fps, 1080p@30fps (gyro-EIS)</td>\n",
       "      <td>1.0</td>\n",
       "      <td>0.3</td>\n",
       "      <td>Yes</td>\n",
       "      <td>No</td>\n",
       "      <td>3600.0</td>\n",
       "      <td>About 340 EUR</td>\n",
       "    </tr>\n",
       "    <tr>\n",
       "      <th>1216</th>\n",
       "      <td>3323</td>\n",
       "      <td>A55 Pro</td>\n",
       "      <td>Blackview</td>\n",
       "      <td>2022, March 07</td>\n",
       "      <td>Available. Released 2022, March</td>\n",
       "      <td>6.53 inches, 102.9 cm2 (~81.4% screen-to-body ...</td>\n",
       "      <td>720 x 1600 pixels, 20:9 ratio (~269 ppi density)</td>\n",
       "      <td>Android 11</td>\n",
       "      <td>Mediatek MT6762V Helio P22 (12 nm)</td>\n",
       "      <td>microSDXC</td>\n",
       "      <td>...</td>\n",
       "      <td>4.0</td>\n",
       "      <td>3.0</td>\n",
       "      <td>13</td>\n",
       "      <td>1080p@30fps</td>\n",
       "      <td>1.0</td>\n",
       "      <td>5</td>\n",
       "      <td>Yes</td>\n",
       "      <td>Yes</td>\n",
       "      <td>4780.0</td>\n",
       "      <td>About 130 EUR</td>\n",
       "    </tr>\n",
       "    <tr>\n",
       "      <th>...</th>\n",
       "      <td>...</td>\n",
       "      <td>...</td>\n",
       "      <td>...</td>\n",
       "      <td>...</td>\n",
       "      <td>...</td>\n",
       "      <td>...</td>\n",
       "      <td>...</td>\n",
       "      <td>...</td>\n",
       "      <td>...</td>\n",
       "      <td>...</td>\n",
       "      <td>...</td>\n",
       "      <td>...</td>\n",
       "      <td>...</td>\n",
       "      <td>...</td>\n",
       "      <td>...</td>\n",
       "      <td>...</td>\n",
       "      <td>...</td>\n",
       "      <td>...</td>\n",
       "      <td>...</td>\n",
       "      <td>...</td>\n",
       "      <td>...</td>\n",
       "    </tr>\n",
       "    <tr>\n",
       "      <th>4276</th>\n",
       "      <td>11038</td>\n",
       "      <td>Power U20</td>\n",
       "      <td>Wiko</td>\n",
       "      <td>2021, June</td>\n",
       "      <td>Available. Released 2021, June</td>\n",
       "      <td>6.82 inches, 104.8 cm2 (~76.7% screen-to-body ...</td>\n",
       "      <td>720 x 1640 pixels (~270 ppi density)</td>\n",
       "      <td>Android 11</td>\n",
       "      <td>Mediatek MT6765G Helio G35 (12 nm)</td>\n",
       "      <td>microSDXC</td>\n",
       "      <td>...</td>\n",
       "      <td>3.0</td>\n",
       "      <td>3.0</td>\n",
       "      <td>13,2</td>\n",
       "      <td>1080p@30fps</td>\n",
       "      <td>1.0</td>\n",
       "      <td>5</td>\n",
       "      <td>Yes</td>\n",
       "      <td>Yes</td>\n",
       "      <td>6000.0</td>\n",
       "      <td>About 120 EUR</td>\n",
       "    </tr>\n",
       "    <tr>\n",
       "      <th>4371</th>\n",
       "      <td>11208</td>\n",
       "      <td>Poco X4 Pro 5G</td>\n",
       "      <td>Xiaomi</td>\n",
       "      <td>2022, February 28</td>\n",
       "      <td>Available. Released 2022, March 23</td>\n",
       "      <td>6.67 inches, 107.4 cm2 (~86.0% screen-to-body ...</td>\n",
       "      <td>1080 x 2400 pixels, 20:9 ratio (~395 ppi density)</td>\n",
       "      <td>Android 11, MIUI 13 for POCO</td>\n",
       "      <td>Qualcomm SM6375 Snapdragon 695 5G (6 nm)</td>\n",
       "      <td>microSDXC (uses shared SIM slot)</td>\n",
       "      <td>...</td>\n",
       "      <td>6.0</td>\n",
       "      <td>3.0</td>\n",
       "      <td>108,64,8,2</td>\n",
       "      <td>1080p@30fps</td>\n",
       "      <td>1.0</td>\n",
       "      <td>16</td>\n",
       "      <td>Yes, with stereo speakers</td>\n",
       "      <td>Yes</td>\n",
       "      <td>5000.0</td>\n",
       "      <td>$ 262.00 / € 311.38 / £ 288.89 / ₹ 17,879</td>\n",
       "    </tr>\n",
       "    <tr>\n",
       "      <th>4645</th>\n",
       "      <td>11537</td>\n",
       "      <td>Max 3 Plus</td>\n",
       "      <td>Yezz</td>\n",
       "      <td>2022, October</td>\n",
       "      <td>Available. Released 2023, January</td>\n",
       "      <td>6.1 inches, 93.1 cm2 (~75.4% screen-to-body ra...</td>\n",
       "      <td>480 x 1010 pixels, 19:9 ratio (~183 ppi density)</td>\n",
       "      <td>Android 12</td>\n",
       "      <td>Unisoc SC9832E (28nm)</td>\n",
       "      <td>microSDXC</td>\n",
       "      <td>...</td>\n",
       "      <td>2.0</td>\n",
       "      <td>3.0</td>\n",
       "      <td>13,3</td>\n",
       "      <td>1080p@30fps</td>\n",
       "      <td>1.0</td>\n",
       "      <td>8</td>\n",
       "      <td>Yes</td>\n",
       "      <td>Yes</td>\n",
       "      <td>3700.0</td>\n",
       "      <td>About 90 EUR</td>\n",
       "    </tr>\n",
       "    <tr>\n",
       "      <th>4646</th>\n",
       "      <td>11538</td>\n",
       "      <td>Max 3</td>\n",
       "      <td>Yezz</td>\n",
       "      <td>2022, September</td>\n",
       "      <td>Available. Released 2023, January</td>\n",
       "      <td>5.45 inches, 76.7 cm2 (~66.5% screen-to-body r...</td>\n",
       "      <td>720 x 1440 pixels, 18:9 ratio (~295 ppi density)</td>\n",
       "      <td>Android 12</td>\n",
       "      <td>Unisoc SC9832E (28nm)</td>\n",
       "      <td>microSDXC</td>\n",
       "      <td>...</td>\n",
       "      <td>2.0</td>\n",
       "      <td>3.0</td>\n",
       "      <td>13,3</td>\n",
       "      <td>1080p@30fps</td>\n",
       "      <td>1.0</td>\n",
       "      <td>8</td>\n",
       "      <td>Yes</td>\n",
       "      <td>Yes</td>\n",
       "      <td>2600.0</td>\n",
       "      <td>About 70 EUR</td>\n",
       "    </tr>\n",
       "    <tr>\n",
       "      <th>4710</th>\n",
       "      <td>11703</td>\n",
       "      <td>Blade V30</td>\n",
       "      <td>ZTE</td>\n",
       "      <td>2021, July 16</td>\n",
       "      <td>Available. Released 2021, September 01</td>\n",
       "      <td>6.67 inches, 107.4 cm2 (~83.3% screen-to-body ...</td>\n",
       "      <td>1080 x 2400 pixels, 20:9 ratio (~395 ppi density)</td>\n",
       "      <td>Android 11</td>\n",
       "      <td>Unisoc Tiger T618 (12 nm)</td>\n",
       "      <td>microSDXC</td>\n",
       "      <td>...</td>\n",
       "      <td>4.0</td>\n",
       "      <td>3.0</td>\n",
       "      <td>64,8,5,2</td>\n",
       "      <td>1080p@30fps</td>\n",
       "      <td>1.0</td>\n",
       "      <td>16</td>\n",
       "      <td>Yes</td>\n",
       "      <td>Yes</td>\n",
       "      <td>5000.0</td>\n",
       "      <td>About 200 EUR</td>\n",
       "    </tr>\n",
       "  </tbody>\n",
       "</table>\n",
       "<p>91 rows × 21 columns</p>\n",
       "</div>"
      ],
      "text/plain": [
       "         ID            Name      Brand           Announced  \\\n",
       "709    1874         18s Pro      Meizu  2021, September 22   \n",
       "712    1878          18 Pro      Meizu      2021, March 03   \n",
       "714    1880          17 Pro      Meizu        2020, May 08   \n",
       "718    1884         16s Pro      Meizu        2019, August   \n",
       "1216   3323         A55 Pro  Blackview      2022, March 07   \n",
       "...     ...             ...        ...                 ...   \n",
       "4276  11038       Power U20       Wiko          2021, June   \n",
       "4371  11208  Poco X4 Pro 5G     Xiaomi   2022, February 28   \n",
       "4645  11537      Max 3 Plus       Yezz       2022, October   \n",
       "4646  11538           Max 3       Yezz     2022, September   \n",
       "4710  11703       Blade V30        ZTE       2021, July 16   \n",
       "\n",
       "                                      Status  \\\n",
       "709   Available. Released 2021, September 23   \n",
       "712       Available. Released 2021, March 08   \n",
       "714         Available. Released 2020, May 11   \n",
       "718         Available. Released 2019, August   \n",
       "1216         Available. Released 2022, March   \n",
       "...                                      ...   \n",
       "4276          Available. Released 2021, June   \n",
       "4371      Available. Released 2022, March 23   \n",
       "4645       Available. Released 2023, January   \n",
       "4646       Available. Released 2023, January   \n",
       "4710  Available. Released 2021, September 01   \n",
       "\n",
       "                                                   Size  \\\n",
       "709   6.7 inches, 107.6 cm2 (~90.7% screen-to-body r...   \n",
       "712   6.7 inches, 107.6 cm2 (~90.7% screen-to-body r...   \n",
       "714   6.6 inches, 106.9 cm2 (~86.6% screen-to-body r...   \n",
       "718   6.2 inches, 95.8 cm2 (~85.9% screen-to-body ra...   \n",
       "1216  6.53 inches, 102.9 cm2 (~81.4% screen-to-body ...   \n",
       "...                                                 ...   \n",
       "4276  6.82 inches, 104.8 cm2 (~76.7% screen-to-body ...   \n",
       "4371  6.67 inches, 107.4 cm2 (~86.0% screen-to-body ...   \n",
       "4645  6.1 inches, 93.1 cm2 (~75.4% screen-to-body ra...   \n",
       "4646  5.45 inches, 76.7 cm2 (~66.5% screen-to-body r...   \n",
       "4710  6.67 inches, 107.4 cm2 (~83.3% screen-to-body ...   \n",
       "\n",
       "                                             Resolution  \\\n",
       "709   1440 x 3200 pixels, 20:9 ratio (~526 ppi density)   \n",
       "712   1440 x 3200 pixels, 20:9 ratio (~526 ppi density)   \n",
       "714   1080 x 2340 pixels, 19.5:9 ratio (~390 ppi den...   \n",
       "718   1080 x 2232 pixels, 18.5:9 ratio (~403 ppi den...   \n",
       "1216   720 x 1600 pixels, 20:9 ratio (~269 ppi density)   \n",
       "...                                                 ...   \n",
       "4276               720 x 1640 pixels (~270 ppi density)   \n",
       "4371  1080 x 2400 pixels, 20:9 ratio (~395 ppi density)   \n",
       "4645   480 x 1010 pixels, 19:9 ratio (~183 ppi density)   \n",
       "4646   720 x 1440 pixels, 18:9 ratio (~295 ppi density)   \n",
       "4710  1080 x 2400 pixels, 20:9 ratio (~395 ppi density)   \n",
       "\n",
       "                                OS                                    Chipset  \\\n",
       "709          Android 11, Flyme 9.2  Qualcomm SM8350 Snapdragon 888+ 5G (5 nm)   \n",
       "712            Android 11, Flyme 9   Qualcomm SM8350 Snapdragon 888 5G (5 nm)   \n",
       "714          Android 10, Flyme 8.1  Qualcomm SM8250 Snapdragon 865 5G (7 nm+)   \n",
       "718     Android 9.0 (Pie), Flyme 8     Qualcomm SM8150 Snapdragon 855+ (7 nm)   \n",
       "1216                    Android 11         Mediatek MT6762V Helio P22 (12 nm)   \n",
       "...                            ...                                        ...   \n",
       "4276                    Android 11         Mediatek MT6765G Helio G35 (12 nm)   \n",
       "4371  Android 11, MIUI 13 for POCO   Qualcomm SM6375 Snapdragon 695 5G (6 nm)   \n",
       "4645                    Android 12                      Unisoc SC9832E (28nm)   \n",
       "4646                    Android 12                      Unisoc SC9832E (28nm)   \n",
       "4710                    Android 11                  Unisoc Tiger T618 (12 nm)   \n",
       "\n",
       "                             Card slot  ...  RAM Num of MC      Pic MC  \\\n",
       "709                                 No  ...  8.0       3.0   50,8,32,3   \n",
       "712                                 No  ...  8.0       3.0   50,8,32,3   \n",
       "714                                 No  ...  8.0       3.0   64,8,32,3   \n",
       "718                                 No  ...  6.0       3.0       48,16   \n",
       "1216                         microSDXC  ...  4.0       3.0          13   \n",
       "...                                ...  ...  ...       ...         ...   \n",
       "4276                         microSDXC  ...  3.0       3.0        13,2   \n",
       "4371  microSDXC (uses shared SIM slot)  ...  6.0       3.0  108,64,8,2   \n",
       "4645                         microSDXC  ...  2.0       3.0        13,3   \n",
       "4646                         microSDXC  ...  2.0       3.0        13,3   \n",
       "4710                         microSDXC  ...  4.0       3.0    64,8,5,2   \n",
       "\n",
       "                                   Video MC Num of SC Pic SC  \\\n",
       "709   8K, 4K@30/60fps, 1080p; gyro-EIS, HDR       1.0     44   \n",
       "712        8K, 4K@30/60fps, 1080p; gyro-EIS       1.0     44   \n",
       "714            4K@30/60fps, 1080p; gyro-EIS       1.0     20   \n",
       "718     4K@30/60fps, 1080p@30fps (gyro-EIS)       1.0    0.3   \n",
       "1216                            1080p@30fps       1.0      5   \n",
       "...                                     ...       ...    ...   \n",
       "4276                            1080p@30fps       1.0      5   \n",
       "4371                            1080p@30fps       1.0     16   \n",
       "4645                            1080p@30fps       1.0      8   \n",
       "4646                            1080p@30fps       1.0      8   \n",
       "4710                            1080p@30fps       1.0     16   \n",
       "\n",
       "                    Loudspeaker 3.5mm jack Battery  \\\n",
       "709   Yes, with stereo speakers         No  4500.0   \n",
       "712   Yes, with stereo speakers         No  4500.0   \n",
       "714   Yes, with stereo speakers         No  4500.0   \n",
       "718                         Yes         No  3600.0   \n",
       "1216                        Yes        Yes  4780.0   \n",
       "...                         ...        ...     ...   \n",
       "4276                        Yes        Yes  6000.0   \n",
       "4371  Yes, with stereo speakers        Yes  5000.0   \n",
       "4645                        Yes        Yes  3700.0   \n",
       "4646                        Yes        Yes  2600.0   \n",
       "4710                        Yes        Yes  5000.0   \n",
       "\n",
       "                                          Price  \n",
       "709                               About 610 EUR  \n",
       "712                               About 640 EUR  \n",
       "714                               About 560 EUR  \n",
       "718                               About 340 EUR  \n",
       "1216                              About 130 EUR  \n",
       "...                                         ...  \n",
       "4276                              About 120 EUR  \n",
       "4371  $ 262.00 / € 311.38 / £ 288.89 / ₹ 17,879  \n",
       "4645                               About 90 EUR  \n",
       "4646                               About 70 EUR  \n",
       "4710                              About 200 EUR  \n",
       "\n",
       "[91 rows x 21 columns]"
      ]
     },
     "execution_count": 47,
     "metadata": {},
     "output_type": "execute_result"
    }
   ],
   "source": [
    "df.loc[error][df.loc[error]['Num of MC'] == '3.0']"
   ]
  },
  {
   "cell_type": "markdown",
   "id": "fa5df227",
   "metadata": {},
   "source": [
    "- Số giá trị ở Pic nhỏ hơn bởi một số camera sau phụ không có thông tin. Phương pháp xử lý có thể điền thêm giá trị cũ cho đủ thông tin \n",
    "- Số giá trị ở Pic nhiều hơn so với số camera sau vì có thêm chế độ làm độ phân giải giảm đi, chẳng hạn như việc xoá phông. Có 2 trường hợp sau: \n",
    "    + Với các trường hợp bị lặp nhưng độ phân giải giữ nguyên, ta chỉ lấy 1 độ phân giải duy nhất\n",
    "    + Bỏ đi các độ phân giải thấp hơn"
   ]
  },
  {
   "cell_type": "markdown",
   "id": "0e71b405",
   "metadata": {},
   "source": [
    "#### SC"
   ]
  },
  {
   "cell_type": "code",
   "execution_count": 48,
   "id": "2e3cb404",
   "metadata": {},
   "outputs": [
    {
     "data": {
      "text/plain": [
       "1.0          4740\n",
       "2.0           135\n",
       "3.0             8\n",
       "Num of SC       1\n",
       "Name: Num of SC, dtype: int64"
      ]
     },
     "execution_count": 48,
     "metadata": {},
     "output_type": "execute_result"
    }
   ],
   "source": [
    "df['Num of SC'].value_counts()"
   ]
  },
  {
   "cell_type": "markdown",
   "id": "25f7eda5",
   "metadata": {},
   "source": [
    "Không có sản phẩm nào có 4 camera trước. Tuy nhiên vẫn có 8 sản phẩm có 3 camera trước"
   ]
  },
  {
   "cell_type": "code",
   "execution_count": 49,
   "id": "0e7902c8",
   "metadata": {},
   "outputs": [
    {
     "data": {
      "text/plain": [
       "219       Zenfone 8 Flip\n",
       "224        Zenfone 7 Pro\n",
       "225            Zenfone 7\n",
       "2391             Magic 2\n",
       "2766          Galaxy A80\n",
       "4174    NEX Dual Display\n",
       "4489        Mi Mix Alpha\n",
       "4746           nubia Z20\n",
       "Name: Name, dtype: object"
      ]
     },
     "execution_count": 49,
     "metadata": {},
     "output_type": "execute_result"
    }
   ],
   "source": [
    "df.Name[df['Num of SC'] =='3.0']"
   ]
  },
  {
   "cell_type": "markdown",
   "id": "3f9481a3",
   "metadata": {},
   "source": [
    "Tất cả đều là sản phẩm 2 màn hình hoặc tràn viền 180% (đã trình bày)"
   ]
  },
  {
   "cell_type": "code",
   "execution_count": 50,
   "id": "013691a7",
   "metadata": {},
   "outputs": [
    {
     "data": {
      "text/plain": [
       "64"
      ]
     },
     "execution_count": 50,
     "metadata": {},
     "output_type": "execute_result"
    }
   ],
   "source": [
    "error =[]\n",
    "for i in range(len(df)):\n",
    "    lst_pic = df.at[i,'Pic SC'].split(',')\n",
    "    n = df.at[i,'Num of SC']\n",
    "    if n == 'Num of SC':\n",
    "        continue\n",
    "    n = int(n[:-2])\n",
    "    if len(lst_pic) != n:\n",
    "        error.append(i)\n",
    "len(error)"
   ]
  },
  {
   "cell_type": "code",
   "execution_count": 51,
   "id": "8b4c3e2b",
   "metadata": {},
   "outputs": [
    {
     "data": {
      "text/html": [
       "<div>\n",
       "<style scoped>\n",
       "    .dataframe tbody tr th:only-of-type {\n",
       "        vertical-align: middle;\n",
       "    }\n",
       "\n",
       "    .dataframe tbody tr th {\n",
       "        vertical-align: top;\n",
       "    }\n",
       "\n",
       "    .dataframe thead th {\n",
       "        text-align: right;\n",
       "    }\n",
       "</style>\n",
       "<table border=\"1\" class=\"dataframe\">\n",
       "  <thead>\n",
       "    <tr style=\"text-align: right;\">\n",
       "      <th></th>\n",
       "      <th>Num of SC</th>\n",
       "      <th>Pic SC</th>\n",
       "    </tr>\n",
       "  </thead>\n",
       "  <tbody>\n",
       "    <tr>\n",
       "      <th>10</th>\n",
       "      <td>1.0</td>\n",
       "      <td>5,8</td>\n",
       "    </tr>\n",
       "    <tr>\n",
       "      <th>191</th>\n",
       "      <td>1.0</td>\n",
       "      <td>5,5</td>\n",
       "    </tr>\n",
       "    <tr>\n",
       "      <th>237</th>\n",
       "      <td>1.0</td>\n",
       "      <td>8,16</td>\n",
       "    </tr>\n",
       "    <tr>\n",
       "      <th>240</th>\n",
       "      <td>2.0</td>\n",
       "      <td>20</td>\n",
       "    </tr>\n",
       "    <tr>\n",
       "      <th>241</th>\n",
       "      <td>1.0</td>\n",
       "      <td>8,13</td>\n",
       "    </tr>\n",
       "    <tr>\n",
       "      <th>...</th>\n",
       "      <td>...</td>\n",
       "      <td>...</td>\n",
       "    </tr>\n",
       "    <tr>\n",
       "      <th>4771</th>\n",
       "      <td>1.0</td>\n",
       "      <td>5,5</td>\n",
       "    </tr>\n",
       "    <tr>\n",
       "      <th>4786</th>\n",
       "      <td>1.0</td>\n",
       "      <td>8,2</td>\n",
       "    </tr>\n",
       "    <tr>\n",
       "      <th>4794</th>\n",
       "      <td>1.0</td>\n",
       "      <td>5,13</td>\n",
       "    </tr>\n",
       "    <tr>\n",
       "      <th>4834</th>\n",
       "      <td>1.0</td>\n",
       "      <td>5,2</td>\n",
       "    </tr>\n",
       "    <tr>\n",
       "      <th>4850</th>\n",
       "      <td>1.0</td>\n",
       "      <td>2,1</td>\n",
       "    </tr>\n",
       "  </tbody>\n",
       "</table>\n",
       "<p>64 rows × 2 columns</p>\n",
       "</div>"
      ],
      "text/plain": [
       "     Num of SC Pic SC\n",
       "10         1.0    5,8\n",
       "191        1.0    5,5\n",
       "237        1.0   8,16\n",
       "240        2.0     20\n",
       "241        1.0   8,13\n",
       "...        ...    ...\n",
       "4771       1.0    5,5\n",
       "4786       1.0    8,2\n",
       "4794       1.0   5,13\n",
       "4834       1.0    5,2\n",
       "4850       1.0    2,1\n",
       "\n",
       "[64 rows x 2 columns]"
      ]
     },
     "execution_count": 51,
     "metadata": {},
     "output_type": "execute_result"
    }
   ],
   "source": [
    "df[['Num of SC','Pic SC']].loc[error]"
   ]
  },
  {
   "cell_type": "markdown",
   "id": "ac39d70a",
   "metadata": {},
   "source": [
    "Vấn đề và phương pháp xử lý cũng tương tự với MC"
   ]
  },
  {
   "cell_type": "markdown",
   "id": "fd2661e3",
   "metadata": {},
   "source": [
    "# Làm sạch dữ liệu"
   ]
  },
  {
   "cell_type": "markdown",
   "id": "14f8551e",
   "metadata": {},
   "source": [
    "Xoá bỏ dòng trùng với tên cột"
   ]
  },
  {
   "cell_type": "code",
   "execution_count": 52,
   "id": "d2ffde90",
   "metadata": {},
   "outputs": [
    {
     "data": {
      "text/plain": [
       "(4883, 21)"
      ]
     },
     "execution_count": 52,
     "metadata": {},
     "output_type": "execute_result"
    }
   ],
   "source": [
    "df.drop(df[df.Name == 'Name'].index, inplace=True)\n",
    "df.shape"
   ]
  },
  {
   "cell_type": "markdown",
   "id": "05323ab2",
   "metadata": {},
   "source": [
    "Đã xoá đi 1 bản ghi bị trùng tên cột"
   ]
  },
  {
   "cell_type": "code",
   "execution_count": 53,
   "id": "4f94a9a7",
   "metadata": {},
   "outputs": [],
   "source": [
    "dfnew = df.copy()\n",
    "idf = dfnew.index"
   ]
  },
  {
   "cell_type": "markdown",
   "id": "8dbbd0f3",
   "metadata": {},
   "source": [
    "## Announced, Status\n",
    "loại bỏ các giá trị Released. Status chuyển về 2 giá trị duy nhất"
   ]
  },
  {
   "cell_type": "markdown",
   "id": "44d5cca1",
   "metadata": {},
   "source": [
    "### Status"
   ]
  },
  {
   "cell_type": "code",
   "execution_count": 54,
   "id": "2f9077af",
   "metadata": {
    "scrolled": true
   },
   "outputs": [],
   "source": [
    "for i in idf:\n",
    "    dfnew.at[i,'Status'] = dfnew.at[i,'Status'].split('.')[0]"
   ]
  },
  {
   "cell_type": "code",
   "execution_count": 55,
   "id": "73810b0e",
   "metadata": {},
   "outputs": [
    {
     "data": {
      "text/plain": [
       "Available       2710\n",
       "Discontinued    2143\n",
       "Cancelled         21\n",
       "Coming soon        9\n",
       "Name: Status, dtype: int64"
      ]
     },
     "execution_count": 55,
     "metadata": {},
     "output_type": "execute_result"
    }
   ],
   "source": [
    "dfnew.Status.value_counts()"
   ]
  },
  {
   "cell_type": "markdown",
   "id": "dd56aa12",
   "metadata": {},
   "source": [
    "Dữ liệu cột ``Status`` đã được làm sạch"
   ]
  },
  {
   "cell_type": "markdown",
   "id": "7df0d4ab",
   "metadata": {},
   "source": [
    "### Announced\n",
    "- Đưa về dạng datetime tháng/năm"
   ]
  },
  {
   "cell_type": "code",
   "execution_count": 56,
   "id": "bca83886",
   "metadata": {},
   "outputs": [],
   "source": [
    "i_not_A = []\n",
    "i_year = []\n",
    "for i in idf:\n",
    "    s = dfnew.at[i,'Announced'].split('.')[0]\n",
    "    if s == 'Not announced yet':\n",
    "        i_not_A.append(i)\n",
    "    if len(s) == 4:\n",
    "        i_year.append(i)"
   ]
  },
  {
   "cell_type": "code",
   "execution_count": 57,
   "id": "4bb8fd13",
   "metadata": {},
   "outputs": [
    {
     "name": "stdout",
     "output_type": "stream",
     "text": [
      "66 bản ghi chỉ có năm, không có tháng\n"
     ]
    }
   ],
   "source": [
    "print(len(i_year),'bản ghi chỉ có năm, không có tháng')"
   ]
  },
  {
   "cell_type": "markdown",
   "id": "05874a9a",
   "metadata": {},
   "source": [
    "Ta có thể mặc định gán một giá trị bất kì trong 12 tháng có thể là tháng 1"
   ]
  },
  {
   "cell_type": "code",
   "execution_count": 58,
   "id": "e67d5291",
   "metadata": {},
   "outputs": [
    {
     "name": "stdout",
     "output_type": "stream",
     "text": [
      "4 không phải định dạng ngày tháng\n"
     ]
    }
   ],
   "source": [
    "print(len(i_not_A),'không phải định dạng ngày tháng')"
   ]
  },
  {
   "cell_type": "code",
   "execution_count": 59,
   "id": "43b27c9f",
   "metadata": {},
   "outputs": [
    {
     "data": {
      "text/html": [
       "<div>\n",
       "<style scoped>\n",
       "    .dataframe tbody tr th:only-of-type {\n",
       "        vertical-align: middle;\n",
       "    }\n",
       "\n",
       "    .dataframe tbody tr th {\n",
       "        vertical-align: top;\n",
       "    }\n",
       "\n",
       "    .dataframe thead th {\n",
       "        text-align: right;\n",
       "    }\n",
       "</style>\n",
       "<table border=\"1\" class=\"dataframe\">\n",
       "  <thead>\n",
       "    <tr style=\"text-align: right;\">\n",
       "      <th></th>\n",
       "      <th>Brand</th>\n",
       "      <th>Name</th>\n",
       "      <th>Announced</th>\n",
       "      <th>Status</th>\n",
       "    </tr>\n",
       "  </thead>\n",
       "  <tbody>\n",
       "    <tr>\n",
       "      <th>3098</th>\n",
       "      <td>Samsung</td>\n",
       "      <td>Galaxy A72 5G</td>\n",
       "      <td>Not announced yet</td>\n",
       "      <td>Cancelled</td>\n",
       "    </tr>\n",
       "    <tr>\n",
       "      <th>4594</th>\n",
       "      <td>Xiaomi</td>\n",
       "      <td>Redmi 11</td>\n",
       "      <td>Not announced yet</td>\n",
       "      <td>Cancelled</td>\n",
       "    </tr>\n",
       "    <tr>\n",
       "      <th>4595</th>\n",
       "      <td>Xiaomi</td>\n",
       "      <td>Redmi 20X</td>\n",
       "      <td>Not announced yet</td>\n",
       "      <td>Cancelled</td>\n",
       "    </tr>\n",
       "    <tr>\n",
       "      <th>4596</th>\n",
       "      <td>Xiaomi</td>\n",
       "      <td>Mi 10 Lite Zoom</td>\n",
       "      <td>Not announced yet</td>\n",
       "      <td>Cancelled</td>\n",
       "    </tr>\n",
       "  </tbody>\n",
       "</table>\n",
       "</div>"
      ],
      "text/plain": [
       "        Brand             Name          Announced     Status\n",
       "3098  Samsung    Galaxy A72 5G  Not announced yet  Cancelled\n",
       "4594   Xiaomi         Redmi 11  Not announced yet  Cancelled\n",
       "4595   Xiaomi        Redmi 20X  Not announced yet  Cancelled\n",
       "4596   Xiaomi  Mi 10 Lite Zoom  Not announced yet  Cancelled"
      ]
     },
     "execution_count": 59,
     "metadata": {},
     "output_type": "execute_result"
    }
   ],
   "source": [
    "dfnew[['Brand','Name','Announced','Status']].loc[i_not_A]"
   ]
  },
  {
   "cell_type": "markdown",
   "id": "0a2555be",
   "metadata": {},
   "source": [
    "- Tất cả đều là chưa công bố chính thức và bị huỷ. Tuy nhiên có thể tìm kiếm thông tin và thay thế lại.\n",
    "- Samsung Galaxy A72 5G được công bố vào ngày 17 tháng 3 năm 2021\n",
    "- Xiaomi Redmi 11 được công bố vào ngày 25 tháng 8 năm 2021\n",
    "- Xiaomi Redmi 20X vẫn chưa được công bố chính thức, nhưng dự kiến ra mắt tại Ấn Độ vào 30 tháng 4 năm 2021\n",
    "- Mi 10 Lite Zoom được công bố vào ngày 27 tháng 4 năm 2020."
   ]
  },
  {
   "cell_type": "code",
   "execution_count": 60,
   "id": "e0b385e7",
   "metadata": {},
   "outputs": [],
   "source": [
    "dfnew.at[3098,'Announced'] = '2021, March'\n",
    "dfnew.at[4594,'Announced'] = '2021, August'\n",
    "dfnew.at[4595,'Announced'] = '2021, April'\n",
    "dfnew.at[4596,'Announced'] = '2020, April'"
   ]
  },
  {
   "cell_type": "code",
   "execution_count": 61,
   "id": "ff85987e",
   "metadata": {},
   "outputs": [],
   "source": [
    "month = {'january':1,'february':2,'march':3,'april':4,\n",
    "        'may':5, 'june':6, 'july':7,'august':8,\n",
    "        'september':9,'october':10,'november':11,'december':12,\n",
    "        'q1':1,'q2':4,'q3':7,'q4':10}"
   ]
  },
  {
   "cell_type": "code",
   "execution_count": 62,
   "id": "07bad214",
   "metadata": {},
   "outputs": [],
   "source": [
    "for i in idf:\n",
    "    s = dfnew.at[i,'Announced'].split('. Released')[0]\n",
    "    lst = s.split(', ')\n",
    "    y = int(re.findall(\"\\d+\", lst[0])[0])\n",
    "    m = 1\n",
    "    if len(lst) != 1:\n",
    "        ss = lst[1].lower().split(' ')[0]\n",
    "        m = month[ss]\n",
    "    # Mặc định ngày bằng 1, tuy nhiên không cần lấy thông tin ngày\n",
    "    dfnew.at[i,'Announced'] = datetime.date(y,m,1)"
   ]
  },
  {
   "cell_type": "code",
   "execution_count": 63,
   "id": "12d47845",
   "metadata": {},
   "outputs": [
    {
     "data": {
      "text/plain": [
       "2020-09-01    78\n",
       "2021-03-01    76\n",
       "2014-01-01    72\n",
       "2014-09-01    70\n",
       "2021-04-01    68\n",
       "              ..\n",
       "2005-01-01     1\n",
       "2005-04-01     1\n",
       "2009-08-01     1\n",
       "2009-03-01     1\n",
       "2008-01-01     1\n",
       "Name: Announced, Length: 178, dtype: int64"
      ]
     },
     "execution_count": 63,
     "metadata": {},
     "output_type": "execute_result"
    }
   ],
   "source": [
    "dfnew.Announced.value_counts()"
   ]
  },
  {
   "cell_type": "markdown",
   "id": "41a9bba3",
   "metadata": {},
   "source": [
    "## Size\n",
    "Có thể lấy 2 thông tin là kích thước màn hình (inches) và diện tích màn hình (area)"
   ]
  },
  {
   "cell_type": "code",
   "execution_count": 64,
   "id": "ed742f77",
   "metadata": {},
   "outputs": [],
   "source": [
    "dfnew_2 = dfnew.copy()"
   ]
  },
  {
   "cell_type": "code",
   "execution_count": 65,
   "id": "578c4799",
   "metadata": {},
   "outputs": [
    {
     "data": {
      "text/plain": [
       "4883"
      ]
     },
     "execution_count": 65,
     "metadata": {},
     "output_type": "execute_result"
    }
   ],
   "source": [
    "area = []\n",
    "for i in idf:\n",
    "    # Lấy thông tin số trong chuỗi\n",
    "    inc,s = dfnew_2.at[i,'Size'].split(' inches')\n",
    "    a = re.findall(r\"(\\d*\\.*\\d) cm2\", s)[0]\n",
    "    dfnew_2.at[i,'Size'] = float(inc)\n",
    "    area.append(float(a))\n",
    "len(area)"
   ]
  },
  {
   "cell_type": "code",
   "execution_count": 66,
   "id": "c8e1c3fb",
   "metadata": {},
   "outputs": [],
   "source": [
    "dfnew_2['ScreenArea'] = area"
   ]
  },
  {
   "cell_type": "code",
   "execution_count": 67,
   "id": "80da8d03",
   "metadata": {},
   "outputs": [],
   "source": [
    "dfnew_2['Size'] = dfnew_2['Size'].astype(float)"
   ]
  },
  {
   "cell_type": "markdown",
   "id": "d5229194",
   "metadata": {},
   "source": [
    "## Resolution"
   ]
  },
  {
   "cell_type": "code",
   "execution_count": 68,
   "id": "977c512b",
   "metadata": {},
   "outputs": [
    {
     "data": {
      "text/plain": [
       "4883"
      ]
     },
     "execution_count": 68,
     "metadata": {},
     "output_type": "execute_result"
    }
   ],
   "source": [
    "ppi = []\n",
    "for i in idf:\n",
    "    # Thay các giá trị có format khác\n",
    "    if i == 584 or i == 2412: p,x= '1080 x 1920',386\n",
    "    elif i == 864 or i == 869: p,x = '540 x 960',220\n",
    "    elif i == 888: p,x='320 x 480',156 \n",
    "    else:   \n",
    "        p,s = dfnew_2.at[i,'Resolution'].split(' pixels')\n",
    "        x = re.findall(r\"(\\d*\\.*\\d) ppi density\", s)[0]\n",
    "    dfnew_2.at[i,'Resolution'] = p\n",
    "    ppi.append(float(x))\n",
    "len(ppi)"
   ]
  },
  {
   "cell_type": "code",
   "execution_count": 69,
   "id": "e8cb8a98",
   "metadata": {},
   "outputs": [],
   "source": [
    "dfnew_2['ppi'] = ppi"
   ]
  },
  {
   "cell_type": "markdown",
   "id": "915f0a2c",
   "metadata": {},
   "source": [
    "## Card slot"
   ]
  },
  {
   "cell_type": "code",
   "execution_count": 70,
   "id": "193fa659",
   "metadata": {},
   "outputs": [],
   "source": [
    "df_3 = dfnew_2.copy()"
   ]
  },
  {
   "cell_type": "code",
   "execution_count": 71,
   "id": "09a39fbd",
   "metadata": {},
   "outputs": [
    {
     "data": {
      "text/plain": [
       "['SD', 'miniSD', 'microSD', 'microSDHC', 'microSDXC', 'NM', 'RS-DV-MMC']"
      ]
     },
     "execution_count": 71,
     "metadata": {},
     "output_type": "execute_result"
    }
   ],
   "source": [
    "lst_card = 'SD,miniSD,microSD,microSDHC,microSDXC,NM,RS-DV-MMC'.split(',')\n",
    "lst_card"
   ]
  },
  {
   "cell_type": "markdown",
   "id": "0731efee",
   "metadata": {},
   "source": [
    "Thay đổi giá trị tìm hiểu được"
   ]
  },
  {
   "cell_type": "code",
   "execution_count": 72,
   "id": "216d9944",
   "metadata": {},
   "outputs": [],
   "source": [
    "df_3.at[df_3[df_3['Card slot']=='Yes, up to 64 GB (dedicated slot)'].index[0],'Card slot'] = 'microSD'"
   ]
  },
  {
   "cell_type": "code",
   "execution_count": 73,
   "id": "03875e08",
   "metadata": {},
   "outputs": [],
   "source": [
    "df_3['Card slot'].replace(value='No', to_replace = 'Unspecified', inplace=True)"
   ]
  },
  {
   "cell_type": "code",
   "execution_count": 74,
   "id": "fae447f0",
   "metadata": {},
   "outputs": [],
   "source": [
    "for i in idf:\n",
    "    card = df_3.at[i,'Card slot']\n",
    "    card = card.translate({ord('/'): ' ', ord('.'):None,ord('('):None,ord(')'):None,ord(','):None}).split(' ')\n",
    "    for c in lst_card:\n",
    "        if c in card:\n",
    "            df_3.at[i,'Card slot'] = c\n",
    "            break"
   ]
  },
  {
   "cell_type": "code",
   "execution_count": 75,
   "id": "c2f4b00c",
   "metadata": {},
   "outputs": [
    {
     "data": {
      "text/plain": [
       "microSDXC    2774\n",
       "microSDHC    1046\n",
       "No            957\n",
       "NM             65\n",
       "microSD        34\n",
       "SD              4\n",
       "RS-DV-MMC       2\n",
       "miniSD          1\n",
       "Name: Card slot, dtype: int64"
      ]
     },
     "execution_count": 75,
     "metadata": {},
     "output_type": "execute_result"
    }
   ],
   "source": [
    "df_3['Card slot'].value_counts()"
   ]
  },
  {
   "cell_type": "code",
   "execution_count": 76,
   "id": "bf6ee666",
   "metadata": {},
   "outputs": [
    {
     "data": {
      "text/html": [
       "<div>\n",
       "<style scoped>\n",
       "    .dataframe tbody tr th:only-of-type {\n",
       "        vertical-align: middle;\n",
       "    }\n",
       "\n",
       "    .dataframe tbody tr th {\n",
       "        vertical-align: top;\n",
       "    }\n",
       "\n",
       "    .dataframe thead th {\n",
       "        text-align: right;\n",
       "    }\n",
       "</style>\n",
       "<table border=\"1\" class=\"dataframe\">\n",
       "  <thead>\n",
       "    <tr style=\"text-align: right;\">\n",
       "      <th></th>\n",
       "      <th>Resolution</th>\n",
       "      <th>OS</th>\n",
       "      <th>Chipset</th>\n",
       "      <th>Card slot</th>\n",
       "      <th>ROM</th>\n",
       "      <th>RAM</th>\n",
       "      <th>Num of MC</th>\n",
       "      <th>Pic MC</th>\n",
       "      <th>Video MC</th>\n",
       "      <th>Num of SC</th>\n",
       "      <th>Pic SC</th>\n",
       "      <th>Loudspeaker</th>\n",
       "      <th>3.5mm jack</th>\n",
       "      <th>Battery</th>\n",
       "      <th>Price</th>\n",
       "    </tr>\n",
       "  </thead>\n",
       "  <tbody>\n",
       "    <tr>\n",
       "      <th>0</th>\n",
       "      <td>600 x 1024</td>\n",
       "      <td>Android 8.1 (Oreo)</td>\n",
       "      <td>Mediatek MT8321A/D (28 nm)</td>\n",
       "      <td>microSDXC</td>\n",
       "      <td>8.0</td>\n",
       "      <td>1.0</td>\n",
       "      <td>1.0</td>\n",
       "      <td>2</td>\n",
       "      <td>720p@30fps</td>\n",
       "      <td>1.0</td>\n",
       "      <td>0.3</td>\n",
       "      <td>Yes</td>\n",
       "      <td>Yes</td>\n",
       "      <td>2580.0</td>\n",
       "      <td>About 70 EUR</td>\n",
       "    </tr>\n",
       "    <tr>\n",
       "      <th>1</th>\n",
       "      <td>1080 x 1920</td>\n",
       "      <td>Android 7.1 (Nougat)</td>\n",
       "      <td>Mediatek MT6757 Helio P20 (16 nm)</td>\n",
       "      <td>microSDXC</td>\n",
       "      <td>32.0</td>\n",
       "      <td>3.0</td>\n",
       "      <td>1.0</td>\n",
       "      <td>12</td>\n",
       "      <td>1080p@30fps</td>\n",
       "      <td>1.0</td>\n",
       "      <td>8</td>\n",
       "      <td>Yes, with stereo speakers</td>\n",
       "      <td>Yes</td>\n",
       "      <td>2850.0</td>\n",
       "      <td>About 140 EUR</td>\n",
       "    </tr>\n",
       "    <tr>\n",
       "      <th>2</th>\n",
       "      <td>1080 x 1920</td>\n",
       "      <td>Android 7.1 (Nougat)</td>\n",
       "      <td>Mediatek MT6753 (28 nm)</td>\n",
       "      <td>microSDXC</td>\n",
       "      <td>16.0</td>\n",
       "      <td>3.0</td>\n",
       "      <td>1.0</td>\n",
       "      <td>13</td>\n",
       "      <td>1080p@30fps</td>\n",
       "      <td>1.0</td>\n",
       "      <td>5</td>\n",
       "      <td>Yes</td>\n",
       "      <td>Yes</td>\n",
       "      <td>2800.0</td>\n",
       "      <td>About 120 EUR</td>\n",
       "    </tr>\n",
       "    <tr>\n",
       "      <th>3</th>\n",
       "      <td>1080 x 1920</td>\n",
       "      <td>Android 7.1 (Nougat)</td>\n",
       "      <td>Mediatek MT6750S (28 nm)</td>\n",
       "      <td>microSDHC</td>\n",
       "      <td>32.0</td>\n",
       "      <td>3.0</td>\n",
       "      <td>2.0</td>\n",
       "      <td>12,2</td>\n",
       "      <td>1080p@30fps</td>\n",
       "      <td>1.0</td>\n",
       "      <td>5</td>\n",
       "      <td>Yes</td>\n",
       "      <td>Yes</td>\n",
       "      <td>4000.0</td>\n",
       "      <td>About 260 EUR</td>\n",
       "    </tr>\n",
       "  </tbody>\n",
       "</table>\n",
       "</div>"
      ],
      "text/plain": [
       "    Resolution                    OS                            Chipset  \\\n",
       "0   600 x 1024    Android 8.1 (Oreo)         Mediatek MT8321A/D (28 nm)   \n",
       "1  1080 x 1920  Android 7.1 (Nougat)  Mediatek MT6757 Helio P20 (16 nm)   \n",
       "2  1080 x 1920  Android 7.1 (Nougat)            Mediatek MT6753 (28 nm)   \n",
       "3  1080 x 1920  Android 7.1 (Nougat)           Mediatek MT6750S (28 nm)   \n",
       "\n",
       "   Card slot   ROM  RAM Num of MC Pic MC     Video MC Num of SC Pic SC  \\\n",
       "0  microSDXC   8.0  1.0       1.0      2   720p@30fps       1.0    0.3   \n",
       "1  microSDXC  32.0  3.0       1.0     12  1080p@30fps       1.0      8   \n",
       "2  microSDXC  16.0  3.0       1.0     13  1080p@30fps       1.0      5   \n",
       "3  microSDHC  32.0  3.0       2.0   12,2  1080p@30fps       1.0      5   \n",
       "\n",
       "                 Loudspeaker 3.5mm jack Battery          Price  \n",
       "0                        Yes        Yes  2580.0   About 70 EUR  \n",
       "1  Yes, with stereo speakers        Yes  2850.0  About 140 EUR  \n",
       "2                        Yes        Yes  2800.0  About 120 EUR  \n",
       "3                        Yes        Yes  4000.0  About 260 EUR  "
      ]
     },
     "execution_count": 76,
     "metadata": {},
     "output_type": "execute_result"
    }
   ],
   "source": [
    "df_3[df.columns[6:]][:4]"
   ]
  },
  {
   "cell_type": "markdown",
   "id": "26e865e2",
   "metadata": {},
   "source": [
    "## Num of MC, Num of SC\n",
    "Chuyển sang dạng số nguyên"
   ]
  },
  {
   "cell_type": "code",
   "execution_count": 77,
   "id": "1ea9e38d",
   "metadata": {},
   "outputs": [
    {
     "data": {
      "text/plain": [
       "1.0    2730\n",
       "3.0     966\n",
       "2.0     748\n",
       "4.0     439\n",
       "Name: Num of MC, dtype: int64"
      ]
     },
     "execution_count": 77,
     "metadata": {},
     "output_type": "execute_result"
    }
   ],
   "source": [
    "df_3['Num of MC'].value_counts()"
   ]
  },
  {
   "cell_type": "code",
   "execution_count": 78,
   "id": "170158b3",
   "metadata": {},
   "outputs": [],
   "source": [
    "df_3['Num of MC'].replace(value=[1,2,3,4], to_replace=['1.0','2.0','3.0','4.0'], inplace=True)"
   ]
  },
  {
   "cell_type": "code",
   "execution_count": 79,
   "id": "437badce",
   "metadata": {},
   "outputs": [
    {
     "data": {
      "text/plain": [
       "1.0    4740\n",
       "2.0     135\n",
       "3.0       8\n",
       "Name: Num of SC, dtype: int64"
      ]
     },
     "execution_count": 79,
     "metadata": {},
     "output_type": "execute_result"
    }
   ],
   "source": [
    "df_3['Num of SC'].value_counts()"
   ]
  },
  {
   "cell_type": "code",
   "execution_count": 80,
   "id": "ca64f4bf",
   "metadata": {},
   "outputs": [],
   "source": [
    "df_3['Num of SC'].replace(value=[1,2,3], to_replace=['1.0','2.0','3.0'], inplace=True)"
   ]
  },
  {
   "cell_type": "code",
   "execution_count": 81,
   "id": "d9036d19",
   "metadata": {},
   "outputs": [
    {
     "data": {
      "text/plain": [
       "ID               int64\n",
       "Name            object\n",
       "Brand           object\n",
       "Announced       object\n",
       "Status          object\n",
       "Size           float64\n",
       "Resolution      object\n",
       "OS              object\n",
       "Chipset         object\n",
       "Card slot       object\n",
       "ROM             object\n",
       "RAM             object\n",
       "Num of MC        int64\n",
       "Pic MC          object\n",
       "Video MC        object\n",
       "Num of SC        int64\n",
       "Pic SC          object\n",
       "Loudspeaker     object\n",
       "3.5mm jack      object\n",
       "Battery         object\n",
       "Price           object\n",
       "ScreenArea     float64\n",
       "ppi            float64\n",
       "dtype: object"
      ]
     },
     "execution_count": 81,
     "metadata": {},
     "output_type": "execute_result"
    }
   ],
   "source": [
    "df_3.dtypes"
   ]
  },
  {
   "cell_type": "markdown",
   "id": "3004c33b",
   "metadata": {},
   "source": [
    "## Loudspeaker và 3.5mm jack"
   ]
  },
  {
   "cell_type": "markdown",
   "id": "62d3def8",
   "metadata": {},
   "source": [
    "### Loudspeaker\n",
    "Chuyển về *Yes/No*. Tuy nhiên ``Loudspeaker`` chỉ có 1 giá trị là *No* trong tổng số hơn 4400 dữ liệu. Vậy có thể loại bỏ hàng có giá trị No và xoá cột ``Loudspeaker``"
   ]
  },
  {
   "cell_type": "code",
   "execution_count": 82,
   "id": "6c357674",
   "metadata": {},
   "outputs": [
    {
     "name": "stdout",
     "output_type": "stream",
     "text": [
      "(4882, 22)\n"
     ]
    }
   ],
   "source": [
    "df_4 = df_3.drop(df_3[df_3.Loudspeaker =='No'].index[0]).drop(columns=['Loudspeaker'])\n",
    "idf = df_4.index\n",
    "print(df_4.shape)"
   ]
  },
  {
   "cell_type": "markdown",
   "id": "1c0f1d87",
   "metadata": {},
   "source": [
    "### jack 3.5mm \n",
    "- Thay thế các giá trị *Unspecified* thành *No* do xu thế gần đây đã dần loại bỏ và không tìm được thông tin Yes/No \n",
    "- Thay giá trị *No, included adaptor for 3.5mm* thành *Yes* vì vẫn có bộ chuyển đổi"
   ]
  },
  {
   "cell_type": "code",
   "execution_count": 83,
   "id": "182b2c3a",
   "metadata": {},
   "outputs": [
    {
     "data": {
      "text/plain": [
       "Yes                               4181\n",
       "No                                 694\n",
       "Unspecified                          6\n",
       "No, included adaptor for 3.5mm       1\n",
       "Name: 3.5mm jack, dtype: int64"
      ]
     },
     "execution_count": 83,
     "metadata": {},
     "output_type": "execute_result"
    }
   ],
   "source": [
    "df_4['3.5mm jack'].value_counts()"
   ]
  },
  {
   "cell_type": "code",
   "execution_count": 84,
   "id": "d82e9006",
   "metadata": {},
   "outputs": [],
   "source": [
    "df_4['3.5mm jack'].replace(value=['No','Yes'], to_replace=['Unspecified','No, included adaptor for 3.5mm'], inplace=True)"
   ]
  },
  {
   "cell_type": "code",
   "execution_count": 85,
   "id": "ac06fe92",
   "metadata": {},
   "outputs": [
    {
     "data": {
      "text/plain": [
       "Yes    4182\n",
       "No      700\n",
       "Name: 3.5mm jack, dtype: int64"
      ]
     },
     "execution_count": 85,
     "metadata": {},
     "output_type": "execute_result"
    }
   ],
   "source": [
    "df_4['3.5mm jack'].value_counts()"
   ]
  },
  {
   "cell_type": "markdown",
   "id": "0a946413",
   "metadata": {},
   "source": [
    "## Price\n",
    "Chuyển đổi về cùng đơn vị tiền tệ là Eur, đưa về dạng số thực"
   ]
  },
  {
   "cell_type": "code",
   "execution_count": 86,
   "id": "ded8afca",
   "metadata": {},
   "outputs": [],
   "source": [
    "data=df_4.copy()"
   ]
  },
  {
   "cell_type": "code",
   "execution_count": 87,
   "id": "feb895e6",
   "metadata": {},
   "outputs": [],
   "source": [
    "FLoat = []\n",
    "FLoat_index = []\n",
    "String = []\n",
    "String_index = []\n",
    "for i in idf:\n",
    "    if type(data.Price[i]) == float:\n",
    "        FLoat.append(data.Price[i])\n",
    "        FLoat_index.append(i)\n",
    "    else :\n",
    "        String.append(data.Price[i])\n",
    "        String_index.append(i)"
   ]
  },
  {
   "cell_type": "code",
   "execution_count": 88,
   "id": "cebb8e1b",
   "metadata": {},
   "outputs": [],
   "source": [
    "EUR = []\n",
    "EUR_index = []\n",
    "INR = []\n",
    "INR_index = []\n",
    "d = []\n",
    "d_index = []\n",
    "count = 0\n",
    "idx = 0\n",
    "for i in idf: \n",
    "    a = String[idx].split(\" \")\n",
    "    if len(a) == 3 and a[2] == 'EUR':\n",
    "        EUR.append(a[1])\n",
    "        EUR_index.append(String_index[idx])\n",
    "    elif len(a) == 3 and a[2] == 'INR': \n",
    "        INR.append(a[1])\n",
    "        INR_index.append(String_index[idx])\n",
    "    else: \n",
    "        d.append(String[idx])\n",
    "        d_index.append(String_index[idx])\n",
    "    idx+=1"
   ]
  },
  {
   "cell_type": "code",
   "execution_count": 89,
   "id": "aae17923",
   "metadata": {},
   "outputs": [],
   "source": [
    "for i in range(len(EUR_index)): # CHUYỂN DẠNG ABOUT EUR THÀNH EUR\n",
    "    data.Price.replace(to_replace=data.Price[EUR_index[i]], value= int(EUR[i]), inplace= True)"
   ]
  },
  {
   "cell_type": "code",
   "execution_count": 90,
   "id": "afe94b4b",
   "metadata": {},
   "outputs": [],
   "source": [
    "for i in range(len(INR_index)): # chuyển đổi từ INR sang eur với INR = 0.011 EUR\n",
    "    data.Price.replace(to_replace=data.Price[INR_index[i]], value= (int(INR[i])*0.011), inplace= True)"
   ]
  },
  {
   "cell_type": "code",
   "execution_count": 91,
   "id": "4a5ef609",
   "metadata": {},
   "outputs": [],
   "source": [
    "Dollar = []\n",
    "Dollar_index = []\n",
    "Rup = []\n",
    "Rup_index = []\n",
    "Rp = []\n",
    "Rp_index = []\n",
    "EUR_1 = []\n",
    "EUR_1_index = []\n",
    "Bang = []\n",
    "e = []\n",
    "for i in range(len(d)):\n",
    "    if d[i][0] == '$':\n",
    "        Dollar.append(d[i].encode(\"ascii\", \"ignore\").decode())\n",
    "        Dollar_index.append(d_index[i])\n",
    "    elif d[i][0] == '€' :\n",
    "        EUR_1.append(d[i].encode(\"ascii\", \"ignore\").decode())\n",
    "        EUR_1_index.append(d_index[i])\n",
    "    elif d[i][0] == '₹':\n",
    "        Rup.append(d[i].encode(\"ascii\", \"ignore\").decode())\n",
    "        Rup_index.append(d_index[i])\n",
    "    elif d[i][0] == '£':\n",
    "        Bang.append(d[i].encode(\"ascii\", \"ignore\").decode())\n",
    "    elif d[i][0] == 'R':\n",
    "        Rp.append(d[i].encode(\"ascii\", \"ignore\").decode())\n",
    "        Rp_index.append(d_index[i])\n",
    "    else:\n",
    "        e.append(d[i].encode(\"ascii\", \"ignore\").decode())"
   ]
  },
  {
   "cell_type": "code",
   "execution_count": 92,
   "id": "a828a4c7",
   "metadata": {},
   "outputs": [],
   "source": [
    "for i in range(len(Dollar)): # chuyển từ dollar thành eur\n",
    "    a = Dollar[i].split('/')[0].split('.')[0][1::]\n",
    "    a = a.replace(',', '')\n",
    "    data.Price.replace(to_replace= data.Price[Dollar_index[i]], value=(int(a)/(1.06)), inplace= True)"
   ]
  },
  {
   "cell_type": "code",
   "execution_count": 93,
   "id": "8dd4242c",
   "metadata": {},
   "outputs": [],
   "source": [
    "for i in range(len(EUR_1)): # chuyển nốt EUR\n",
    "    a = EUR_1[i].split('/')[0].split('.')[0]\n",
    "    a = a.replace(',','')\n",
    "    data.Price.replace(to_replace=data.Price[EUR_1_index[i]], value=int(a), inplace=True)"
   ]
  },
  {
   "cell_type": "code",
   "execution_count": 94,
   "id": "027410f4",
   "metadata": {},
   "outputs": [],
   "source": [
    "for i in range(len(Rup)): # chuyển từ RUB sang EUR với gia 1 rub thành 0.012 EUR\n",
    "    a = Rup[i].split('/')[0]\n",
    "    a = a.replace(',','')\n",
    "    data.Price.replace(to_replace=data.Price[Rup_index[i]], value= int(a)*0.012, inplace= True)"
   ]
  },
  {
   "cell_type": "code",
   "execution_count": 95,
   "id": "9420bed0",
   "metadata": {},
   "outputs": [],
   "source": [
    "for i in range(len(Rp)):\n",
    "    a = Rp[i][2::]\n",
    "    a = a.replace(',', '')\n",
    "#     print(int(a)*0.000061)\n",
    "    data.Price.replace(to_replace=data.Price[Rp_index[i]], value=int(a)*0.000061, inplace= True)"
   ]
  },
  {
   "cell_type": "code",
   "execution_count": 96,
   "id": "9ca7c20f",
   "metadata": {},
   "outputs": [],
   "source": [
    "data.Price.replace(to_replace=['£ 310.40','£ 537.75','£ 439.00'], value=[274.7,459.6,375.2], inplace= True)"
   ]
  },
  {
   "cell_type": "code",
   "execution_count": 97,
   "id": "76b03def",
   "metadata": {},
   "outputs": [
    {
     "data": {
      "text/plain": [
       "['About BTC 0.15/ETH 4.78(crypto curr)', 'C$889.00 / Rp3,450,000']"
      ]
     },
     "execution_count": 97,
     "metadata": {},
     "output_type": "execute_result"
    }
   ],
   "source": [
    "e"
   ]
  },
  {
   "cell_type": "code",
   "execution_count": 98,
   "id": "d9033464",
   "metadata": {},
   "outputs": [],
   "source": [
    "data.Price.replace(to_replace= 'About BTC 0.15/ETH 4.78(crypto curr)', value= 3151, inplace= True)\n",
    "data.Price.replace(to_replace='C$ 889.00 / Rp 3,450,000', value= 889/1.06, inplace= True)"
   ]
  },
  {
   "cell_type": "markdown",
   "id": "9237b25c",
   "metadata": {},
   "source": [
    "## Chipset\n",
    "Một số sản phẩm có 2 chip cho 2 phiên bản khác nhau. Tuy nhiên sản phẩm hiện tại chỉ là phiên bản đầu tiên, vì vậy cần loại bỏ giá trị cho phiên bản khác"
   ]
  },
  {
   "cell_type": "markdown",
   "id": "7653b7ca",
   "metadata": {},
   "source": [
    "Các giá trị chứa tên của nhiều hãng hoặc tên hãng xuất hiện 2 lần là các sản phẩm cần tìm để làm sạch"
   ]
  },
  {
   "cell_type": "code",
   "execution_count": 99,
   "id": "b46b4ef0",
   "metadata": {},
   "outputs": [],
   "source": [
    "# chip = {'Qualcom':['snapdragon'],\n",
    "#        'MediaTek':['helio','dimensity'],\n",
    "#        'Samsung':['exynos'],\n",
    "#        'Huawei':['kirin','hisilicon'],\n",
    "#        'Intel':['atom'],\n",
    "#        'Apple':['bionic','fusion'],\n",
    "#        'Nvidia':['tegra'],\n",
    "#        'TI':['omap'],\n",
    "#        'Unisoc':['spreadtrum','tiger']}"
   ]
  },
  {
   "cell_type": "code",
   "execution_count": 100,
   "id": "eebef826",
   "metadata": {},
   "outputs": [],
   "source": [
    "idf = data.index\n",
    "lst_chip_b = ['qualcom','mediatek','samsung','huawei','intel','apple','nvidia','unisoc']\n",
    "lst_chip = np.array(['hummingbird','snapdragon','helio','dimensity','exynos','kirin','hisilicon','atom','bionic','fusion','tegra','spreadtrum','omap','tiger'])"
   ]
  },
  {
   "cell_type": "code",
   "execution_count": 101,
   "id": "ef8659bb",
   "metadata": {},
   "outputs": [
    {
     "data": {
      "text/plain": [
       "(138, 63, 14)"
      ]
     },
     "execution_count": 101,
     "metadata": {},
     "output_type": "execute_result"
    }
   ],
   "source": [
    "i_contain_char = []\n",
    "i_contain_2chip = []\n",
    "i_contain_2brand = []\n",
    "for i in idf:\n",
    "    s = data.at[i,'Chipset'].lower()\n",
    "    check = ['or',',','.','/']\n",
    "    fl = False\n",
    "    for c in check:\n",
    "        if c in s:\n",
    "            i_contain_char.append(i)\n",
    "            break\n",
    "    if fl:\n",
    "        continue\n",
    "    su = 0\n",
    "    for c in lst_chip:\n",
    "        if c in s: \n",
    "            su+=1\n",
    "        if su > 1: \n",
    "            break\n",
    "    if su > 1: \n",
    "        i_contain_2chip.append(i)\n",
    "        continue\n",
    "    su = 0\n",
    "    for c in lst_chip_b:\n",
    "        if c in s: \n",
    "            su+=1\n",
    "        if su > 1: \n",
    "            break\n",
    "    if su > 1: \n",
    "        i_contain_2brand.append(i)\n",
    "len(i_contain_char), len(i_contain_2chip), len(i_contain_2brand)"
   ]
  },
  {
   "cell_type": "code",
   "execution_count": 102,
   "id": "9902a92c",
   "metadata": {},
   "outputs": [],
   "source": [
    "df_4 = data.copy()"
   ]
  },
  {
   "cell_type": "code",
   "execution_count": 103,
   "id": "a1cf2faf",
   "metadata": {},
   "outputs": [],
   "source": [
    "for i in i_contain_2chip:\n",
    "    chip = df_4.at[i,'Chipset'].split(')')[0]+')'\n",
    "    if i == 2070: chip = chip[len('Exynos 1330 - SM-A146B'):]\n",
    "    if i == 2868: chip = chip[len('Exynos 7578 '):]\n",
    "    if i == 2883 or i == 2884: chip = chip[len('Exynos 5433 - T810, T815 '):]\n",
    "    if i == 1172: chip = 'Qualcomm MSM8960 ' + chip[:13] + ' Pro'\n",
    "    if i == 2870: chip = chip[len('Spreadtrum SC9830 '):]\n",
    "#     print(i, chip, sep =': ')\n",
    "    df_4.at[i,'Chipset'] = chip"
   ]
  },
  {
   "cell_type": "code",
   "execution_count": 104,
   "id": "c205171e",
   "metadata": {
    "scrolled": true
   },
   "outputs": [],
   "source": [
    "for i in i_contain_char:\n",
    "    chip = df_4.at[i,'Chipset'].split(')')[0]+')'\n",
    "    chip = chip.split(' - ')[0]\n",
    "    if i == 0: chip = chip[:16] + chip[18:]\n",
    "    if i == 4730: chip = chip[:14]+chip[22:]\n",
    "    if i == 4860: chip = chip[:18]+chip[29:]\n",
    "    if i == 2962: chip = chip[:9]\n",
    "    if i == 1198: chip = chip[:16]\n",
    "    if i == 3215: chip = chip[:16] + chip[27:]\n",
    "    if i==474: chip='Mediatek MT8125 (28 nm)'\n",
    "    idx = chip.find('/')\n",
    "    if idx != -1:\n",
    "        chip = chip[:idx] + chip[idx+3:]\n",
    "    i1,i2 = chip.find('('), chip.find(')')\n",
    "    if i1 == -1 and i2 != -1: chip= chip[:-1]\n",
    "#     print(i, chip, sep =': ')\n",
    "    df_4.at[i,'Chipset'] = chip"
   ]
  },
  {
   "cell_type": "code",
   "execution_count": 105,
   "id": "4a99620b",
   "metadata": {},
   "outputs": [],
   "source": [
    "for i in i_contain_2brand:\n",
    "    s = df_4.at[i,'Chipset'].split(')')[0]+')'\n",
    "    if i == 567 or i == 569: s='Mediatek MT6750 (28 nm)'\n",
    "    if i == 587: s='Mediatek MT6737M (28 nm)'\n",
    "    if i ==595: s='Mediatek MT6580M (28 nm)'\n",
    "    if i==596: s=s.replace('- K120E, K130EQualcomm MSM8909 Snapdragon 210 ','')\n",
    "    if i==1746:s=s.replace('- 3G modelQualcomm MSM8916 Snapdragon 410 ','')\n",
    "    if i==2519:s=s.replace('Qualcomm Snapdragon 410 ','')\n",
    "    if i ==4807:s=s.replace(' Qualcomm MSM8939 Snapdragon 615','')\n",
    "#     print(i, s, sep =': ')\n",
    "    df_4.at[i,'Chipset'] = s"
   ]
  },
  {
   "cell_type": "code",
   "execution_count": 106,
   "id": "61232c85",
   "metadata": {},
   "outputs": [
    {
     "data": {
      "text/plain": [
       "39"
      ]
     },
     "execution_count": 106,
     "metadata": {},
     "output_type": "execute_result"
    }
   ],
   "source": [
    "i_dup_brand=[]\n",
    "for i in idf:\n",
    "    s = df_4.at[i,'Chipset'].lower()\n",
    "    for c in lst_chip_b:\n",
    "        if s.count(c) > 1:\n",
    "            i_dup_brand.append(i)\n",
    "            break\n",
    "len(i_dup_brand)"
   ]
  },
  {
   "cell_type": "code",
   "execution_count": 107,
   "id": "ade4a485",
   "metadata": {},
   "outputs": [],
   "source": [
    "for i in i_dup_brand:\n",
    "    s = df_4.at[i,'Chipset'].split(')')[0]+')'\n",
    "    s = s.split(' - ')[0]\n",
    "    if s.find('(') == -1 and 'Mediatek' in s: s+=' (28 nm)'\n",
    "    if i==4566:s='Qualcomm MSM8956 Snapdragon 650 (28 nm)'\n",
    "    if i==286 or i==300: s='Intel Atom Z3580'\n",
    "    if i==1059: s=s.replace('Mediatek Helio P15','')\n",
    "    if i==3434:s=s.replace('Mediatek MT6580M ','')\n",
    "    if i==3537:s=s.replace(' Mediatek Dimensity 920','')\n",
    "#     print(i,s,sep=': ')\n",
    "    df_4.at[i,'Chipset']=s"
   ]
  },
  {
   "cell_type": "markdown",
   "id": "abafdae7",
   "metadata": {},
   "source": [
    "## OS"
   ]
  },
  {
   "cell_type": "markdown",
   "id": "763d8bc1",
   "metadata": {},
   "source": [
    "Loại bỏ các thông tin sau dấu phảy"
   ]
  },
  {
   "cell_type": "code",
   "execution_count": 108,
   "id": "9506d954",
   "metadata": {},
   "outputs": [],
   "source": [
    "df_5=df_4.copy()"
   ]
  },
  {
   "cell_type": "code",
   "execution_count": 109,
   "id": "9593d039",
   "metadata": {},
   "outputs": [
    {
     "data": {
      "text/plain": [
       "(13, 15)"
      ]
     },
     "execution_count": 109,
     "metadata": {},
     "output_type": "execute_result"
    }
   ],
   "source": [
    "i_dup_os=[]\n",
    "i_ct_char=[]\n",
    "for i in idf:\n",
    "    os = df_5.at[i,'OS']\n",
    "    s=os.split(',')[0]\n",
    "    df_5.at[i,'OS'] = s\n",
    "    nameOs=os.split(' ')[0]\n",
    "    if s.count(nameOs) > 1:\n",
    "        i_dup_os.append(i)\n",
    "        continue\n",
    "    for ch in ['-','/',';','\\\\','or','x']:\n",
    "        if ch in s:\n",
    "            i_ct_char.append(i)\n",
    "            break\n",
    "len(i_dup_os), len(i_ct_char)"
   ]
  },
  {
   "cell_type": "code",
   "execution_count": 110,
   "id": "f3be310a",
   "metadata": {},
   "outputs": [],
   "source": [
    "for i in i_dup_os:\n",
    "    os = df_5.at[i,'OS']\n",
    "    os = os.split('/')[0].split(' - ')[0].split(' or')[0]\n",
    "    if ')' in os:\n",
    "        os=os.split(')')[0]+')'\n",
    "#     print(i,os,sep=': ')\n",
    "    df_5.at[i,'OS'] = os"
   ]
  },
  {
   "cell_type": "code",
   "execution_count": 111,
   "id": "e8a488c9",
   "metadata": {},
   "outputs": [],
   "source": [
    "for i in i_ct_char:\n",
    "    os = df_5.at[i,'OS'].split(' - ')[0]\n",
    "    if i==1078: os='Android 5.0 (Lollipop)'\n",
    "    if i==3267 or i==3269: os='Android 12'\n",
    "    if i==2474: os='Android 7.0 (Nougat)'\n",
    "    if i==2620:os='Microsoft Windows Mobile 5.0'\n",
    "    if i==1137: os='Android 2.0'\n",
    "    if i==3472: os ='Android 5.0.2 (Lollipop)'\n",
    "    if i==3757: os= 'Android 6.0 (Marshmallow)'\n",
    "    if i==3530: os='Android 2.5'\n",
    "    os=os.split('/')[0]\n",
    "    df_5.at[i,'OS'] = os"
   ]
  },
  {
   "cell_type": "markdown",
   "id": "3c8213c0",
   "metadata": {},
   "source": [
    "## Video MC"
   ]
  },
  {
   "cell_type": "code",
   "execution_count": 112,
   "id": "77ef2f07",
   "metadata": {},
   "outputs": [
    {
     "data": {
      "text/plain": [
       "Discontinued    331\n",
       "Available        18\n",
       "Name: Status, dtype: int64"
      ]
     },
     "execution_count": 112,
     "metadata": {},
     "output_type": "execute_result"
    }
   ],
   "source": [
    "df_5.Status[data['Video MC'] =='Yes'].value_counts()"
   ]
  },
  {
   "cell_type": "markdown",
   "id": "01dcf661",
   "metadata": {},
   "source": [
    "Các giá trị này đa phần đều ngừng sản xuất. Bởi có nhiều dữ liệu và khó để bổ sung từ nhiều nguồn. Vì vậy chọn phương pháp xoá"
   ]
  },
  {
   "cell_type": "code",
   "execution_count": 113,
   "id": "103077d9",
   "metadata": {},
   "outputs": [],
   "source": [
    "df_5.drop(df_5.Status[data['Video MC'] =='Yes'].index,inplace=True)"
   ]
  },
  {
   "cell_type": "code",
   "execution_count": 114,
   "id": "a0417f92",
   "metadata": {},
   "outputs": [],
   "source": [
    "idf= df_5.index"
   ]
  },
  {
   "cell_type": "markdown",
   "id": "d96842fd",
   "metadata": {},
   "source": [
    "Tách chất lượng video và khung hình video. Lấy dữ liệu về chất lượng video tốt nhất"
   ]
  },
  {
   "cell_type": "code",
   "execution_count": 115,
   "id": "85f92267",
   "metadata": {},
   "outputs": [],
   "source": [
    "for i in idf:\n",
    "    s = df_5.at[i,'Video MC']\n",
    "    lst = s.split(', ')\n",
    "    best_res = lst[0].split('@')[0]\n",
    "    max_fps = -1\n",
    "    for q in lst:\n",
    "        lst_tmp = q.split('@')\n",
    "        if len(lst_tmp) > 1:\n",
    "            ss = lst_tmp[1]\n",
    "            if 'fps' in ss:\n",
    "                ss = ss[:-3]\n",
    "            max_fps = max(max_fps, np.max(np.array(re.findall(\"\\d+\", ss)).astype(int)))\n",
    "    df_5.at[i,'Video MC'] = best_res"
   ]
  },
  {
   "cell_type": "code",
   "execution_count": 116,
   "id": "d880b7f9",
   "metadata": {},
   "outputs": [
    {
     "data": {
      "text/plain": [
       "ID              int64\n",
       "Name           object\n",
       "Brand          object\n",
       "Announced      object\n",
       "Status         object\n",
       "Size          float64\n",
       "Resolution     object\n",
       "OS             object\n",
       "Chipset        object\n",
       "Card slot      object\n",
       "ROM            object\n",
       "RAM            object\n",
       "Num of MC       int64\n",
       "Pic MC         object\n",
       "Video MC       object\n",
       "Num of SC       int64\n",
       "Pic SC         object\n",
       "3.5mm jack     object\n",
       "Battery        object\n",
       "Price         float64\n",
       "ScreenArea    float64\n",
       "ppi           float64\n",
       "dtype: object"
      ]
     },
     "execution_count": 116,
     "metadata": {},
     "output_type": "execute_result"
    }
   ],
   "source": [
    "df_5.dtypes"
   ]
  },
  {
   "cell_type": "code",
   "execution_count": 117,
   "id": "05eefaa4",
   "metadata": {},
   "outputs": [],
   "source": [
    "df_5.drop(columns=['ID']).to_csv('dataClearRaw.csv',index=False)"
   ]
  },
  {
   "cell_type": "markdown",
   "id": "a718ae89",
   "metadata": {},
   "source": [
    "## Ram, Rom\n",
    "Từ file code 'crawlRAMROM', ta thu thập lại dữ liệu thô chính xác về Ram,Rom. Dữ liệu này được lưu dưới dạng csv.\n",
    "Thứ tự trong dữ liệu này trùng với thứ tự của dữ liệu hiện tại"
   ]
  },
  {
   "cell_type": "code",
   "execution_count": 118,
   "id": "aefef3ff",
   "metadata": {},
   "outputs": [],
   "source": [
    "df = pd.read_csv('dataClearRaw.csv')\n",
    "dfrrc = pd.read_csv('ramromchip4533.csv')"
   ]
  },
  {
   "cell_type": "code",
   "execution_count": 119,
   "id": "10f509ad",
   "metadata": {},
   "outputs": [],
   "source": [
    "rom = []\n",
    "ram = []\n",
    "for i in range(len(dfrrc)):\n",
    "    l=dfrrc.at[i,'RAM']\n",
    "    romraw = l.split(',')[0]\n",
    "    ro = romraw.split('/')[0].split(' ')[0]\n",
    "    ramraw = dfrrc.at[i,'ROM']\n",
    "    ra = ramraw.split('/')[0].split('-')[0].split(' ')[0]\n",
    "    if ra.isnumeric():\n",
    "        if 'GB' in ramraw: ra += 'GB'\n",
    "        elif 'MB' in ramraw: ra += 'MB'\n",
    "    if ra == '\\xa0': ra = '-1'\n",
    "    rom.append(ro)\n",
    "    ram.append(ra)\n",
    "#     print(i,romraw, ra, sep=' -:- ')"
   ]
  },
  {
   "cell_type": "markdown",
   "id": "46994512",
   "metadata": {},
   "source": [
    "Để dễ dàng xử lý và xác nhận với nguồn thu thập, nên thêm link của sản phẩm"
   ]
  },
  {
   "cell_type": "code",
   "execution_count": 120,
   "id": "67948e04",
   "metadata": {},
   "outputs": [
    {
     "data": {
      "text/plain": [
       "4533"
      ]
     },
     "execution_count": 120,
     "metadata": {},
     "output_type": "execute_result"
    }
   ],
   "source": [
    "lst_link = []\n",
    "with open('linkdata.txt') as f:\n",
    "    lst_link = f.readlines()\n",
    "llink = []\n",
    "for v in lst_link:\n",
    "    llink.append(v.replace('\\n',''))\n",
    "len(llink)"
   ]
  },
  {
   "cell_type": "code",
   "execution_count": 121,
   "id": "4d7f0ca5",
   "metadata": {},
   "outputs": [],
   "source": [
    "df.RAM = ram\n",
    "df.ROM = rom\n",
    "df['Link'] = llink"
   ]
  },
  {
   "cell_type": "markdown",
   "id": "0ead17ec",
   "metadata": {},
   "source": [
    "Xoá các bản ghi có RAM = -1 do thiếu thông tin trên web và đa phần đều là sản phẩm cũ, không còn thông tin "
   ]
  },
  {
   "cell_type": "code",
   "execution_count": 122,
   "id": "ab66ab36",
   "metadata": {},
   "outputs": [],
   "source": [
    "df.drop(df[df.RAM =='-1'].index,inplace=True)\n",
    "df.reset_index(inplace=True,drop=True)"
   ]
  },
  {
   "cell_type": "code",
   "execution_count": 123,
   "id": "5cbd2513",
   "metadata": {},
   "outputs": [
    {
     "data": {
      "text/plain": [
       "(4505, 22)"
      ]
     },
     "execution_count": 123,
     "metadata": {},
     "output_type": "execute_result"
    }
   ],
   "source": [
    "df.shape"
   ]
  },
  {
   "cell_type": "markdown",
   "id": "9468e5e6",
   "metadata": {},
   "source": [
    "## Pic MC/SC\n",
    "Lấy giá trị cao nhất tương ứng với chất lượng chụp ảnh tốt nhất của sản phẩm"
   ]
  },
  {
   "cell_type": "code",
   "execution_count": 124,
   "id": "54c495fd",
   "metadata": {},
   "outputs": [],
   "source": [
    "for i in df.index:\n",
    "    s = df.at[i,'Pic SC']\n",
    "    l = np.array(s.split(',')).astype(float)\n",
    "    if len(l)!=1: df.at[i,'Pic SC'] = max(l)\n",
    "    s = df.at[i,'Pic MC']\n",
    "    l = np.array(s.split(',')).astype(float)\n",
    "    if len(l)!=1: df.at[i,'Pic MC'] = max(l)"
   ]
  },
  {
   "cell_type": "code",
   "execution_count": 125,
   "id": "a4b0d8b8",
   "metadata": {},
   "outputs": [],
   "source": [
    "df['Pic SC'] = df['Pic SC'].astype(float)\n",
    "df['Pic MC'] = df['Pic MC'].astype(float)"
   ]
  },
  {
   "cell_type": "code",
   "execution_count": 131,
   "id": "397ef1b9",
   "metadata": {},
   "outputs": [
    {
     "data": {
      "text/plain": [
       "Name           object\n",
       "Brand          object\n",
       "Announced      object\n",
       "Status         object\n",
       "Size          float64\n",
       "Resolution     object\n",
       "OS             object\n",
       "Chipset        object\n",
       "Card slot      object\n",
       "ROM            object\n",
       "RAM            object\n",
       "Num of MC       int64\n",
       "Pic MC        float64\n",
       "Video MC       object\n",
       "Num of SC       int64\n",
       "Pic SC        float64\n",
       "3.5mm jack     object\n",
       "Battery       float64\n",
       "Price         float64\n",
       "ScreenArea    float64\n",
       "ppi           float64\n",
       "Link           object\n",
       "dtype: object"
      ]
     },
     "execution_count": 131,
     "metadata": {},
     "output_type": "execute_result"
    }
   ],
   "source": [
    "df.dtypes"
   ]
  },
  {
   "cell_type": "markdown",
   "id": "544e7795",
   "metadata": {},
   "source": [
    "# Lưu dữ liệu đã làm sạch"
   ]
  },
  {
   "cell_type": "code",
   "execution_count": 132,
   "id": "80451ee3",
   "metadata": {},
   "outputs": [],
   "source": [
    "df.to_csv('CleanData.csv',index=False)"
   ]
  },
  {
   "cell_type": "code",
   "execution_count": 4,
   "id": "4266486a",
   "metadata": {},
   "outputs": [
    {
     "data": {
      "text/html": [
       "<div>\n",
       "<style scoped>\n",
       "    .dataframe tbody tr th:only-of-type {\n",
       "        vertical-align: middle;\n",
       "    }\n",
       "\n",
       "    .dataframe tbody tr th {\n",
       "        vertical-align: top;\n",
       "    }\n",
       "\n",
       "    .dataframe thead th {\n",
       "        text-align: right;\n",
       "    }\n",
       "</style>\n",
       "<table border=\"1\" class=\"dataframe\">\n",
       "  <thead>\n",
       "    <tr style=\"text-align: right;\">\n",
       "      <th></th>\n",
       "      <th>Name</th>\n",
       "      <th>Brand</th>\n",
       "      <th>Announced</th>\n",
       "      <th>Status</th>\n",
       "      <th>Size</th>\n",
       "      <th>Resolution</th>\n",
       "      <th>OS</th>\n",
       "      <th>Chipset</th>\n",
       "      <th>Card slot</th>\n",
       "      <th>ROM</th>\n",
       "      <th>RAM</th>\n",
       "      <th>Num of MC</th>\n",
       "    </tr>\n",
       "  </thead>\n",
       "  <tbody>\n",
       "    <tr>\n",
       "      <th>0</th>\n",
       "      <td>1T 7</td>\n",
       "      <td>alcatel</td>\n",
       "      <td>2018-02-01</td>\n",
       "      <td>Available</td>\n",
       "      <td>7.0</td>\n",
       "      <td>600 x 1024</td>\n",
       "      <td>Android 8.1 (Oreo)</td>\n",
       "      <td>Mediatek MT8321A (28 nm)</td>\n",
       "      <td>microSDXC</td>\n",
       "      <td>8GB</td>\n",
       "      <td>1GB</td>\n",
       "      <td>1</td>\n",
       "    </tr>\n",
       "    <tr>\n",
       "      <th>1</th>\n",
       "      <td>Idol 5s</td>\n",
       "      <td>alcatel</td>\n",
       "      <td>2017-09-01</td>\n",
       "      <td>Available</td>\n",
       "      <td>5.2</td>\n",
       "      <td>1080 x 1920</td>\n",
       "      <td>Android 7.1 (Nougat)</td>\n",
       "      <td>Mediatek MT6757 Helio P20 (16 nm)</td>\n",
       "      <td>microSDXC</td>\n",
       "      <td>32GB</td>\n",
       "      <td>3GB</td>\n",
       "      <td>1</td>\n",
       "    </tr>\n",
       "    <tr>\n",
       "      <th>2</th>\n",
       "      <td>Idol 5</td>\n",
       "      <td>alcatel</td>\n",
       "      <td>2017-09-01</td>\n",
       "      <td>Available</td>\n",
       "      <td>5.2</td>\n",
       "      <td>1080 x 1920</td>\n",
       "      <td>Android 7.1 (Nougat)</td>\n",
       "      <td>Mediatek MT6753 (28 nm)</td>\n",
       "      <td>microSDXC</td>\n",
       "      <td>16GB</td>\n",
       "      <td>3GB</td>\n",
       "      <td>1</td>\n",
       "    </tr>\n",
       "    <tr>\n",
       "      <th>3</th>\n",
       "      <td>A7 XL</td>\n",
       "      <td>alcatel</td>\n",
       "      <td>2017-09-01</td>\n",
       "      <td>Available</td>\n",
       "      <td>6.0</td>\n",
       "      <td>1080 x 1920</td>\n",
       "      <td>Android 7.1 (Nougat)</td>\n",
       "      <td>Mediatek MT6750S (28 nm)</td>\n",
       "      <td>microSDHC</td>\n",
       "      <td>32GB</td>\n",
       "      <td>3GB</td>\n",
       "      <td>2</td>\n",
       "    </tr>\n",
       "    <tr>\n",
       "      <th>4</th>\n",
       "      <td>A7</td>\n",
       "      <td>alcatel</td>\n",
       "      <td>2017-09-01</td>\n",
       "      <td>Available</td>\n",
       "      <td>5.5</td>\n",
       "      <td>1080 x 1920</td>\n",
       "      <td>Android 7.0 (Nougat)</td>\n",
       "      <td>Mediatek MT6750T (28 nm)</td>\n",
       "      <td>microSDXC</td>\n",
       "      <td>32GB</td>\n",
       "      <td>3GB</td>\n",
       "      <td>1</td>\n",
       "    </tr>\n",
       "  </tbody>\n",
       "</table>\n",
       "</div>"
      ],
      "text/plain": [
       "      Name    Brand   Announced     Status  Size   Resolution  \\\n",
       "0     1T 7  alcatel  2018-02-01  Available   7.0   600 x 1024   \n",
       "1  Idol 5s  alcatel  2017-09-01  Available   5.2  1080 x 1920   \n",
       "2   Idol 5  alcatel  2017-09-01  Available   5.2  1080 x 1920   \n",
       "3    A7 XL  alcatel  2017-09-01  Available   6.0  1080 x 1920   \n",
       "4       A7  alcatel  2017-09-01  Available   5.5  1080 x 1920   \n",
       "\n",
       "                     OS                            Chipset  Card slot   ROM  \\\n",
       "0    Android 8.1 (Oreo)           Mediatek MT8321A (28 nm)  microSDXC   8GB   \n",
       "1  Android 7.1 (Nougat)  Mediatek MT6757 Helio P20 (16 nm)  microSDXC  32GB   \n",
       "2  Android 7.1 (Nougat)            Mediatek MT6753 (28 nm)  microSDXC  16GB   \n",
       "3  Android 7.1 (Nougat)           Mediatek MT6750S (28 nm)  microSDHC  32GB   \n",
       "4  Android 7.0 (Nougat)           Mediatek MT6750T (28 nm)  microSDXC  32GB   \n",
       "\n",
       "   RAM  Num of MC  \n",
       "0  1GB          1  \n",
       "1  3GB          1  \n",
       "2  3GB          1  \n",
       "3  3GB          2  \n",
       "4  3GB          1  "
      ]
     },
     "execution_count": 4,
     "metadata": {},
     "output_type": "execute_result"
    }
   ],
   "source": [
    "df = pd.read_csv('CleanData.csv')\n",
    "df[df.columns[:12]].head()"
   ]
  },
  {
   "cell_type": "code",
   "execution_count": 5,
   "id": "8dad096c",
   "metadata": {},
   "outputs": [
    {
     "data": {
      "text/html": [
       "<div>\n",
       "<style scoped>\n",
       "    .dataframe tbody tr th:only-of-type {\n",
       "        vertical-align: middle;\n",
       "    }\n",
       "\n",
       "    .dataframe tbody tr th {\n",
       "        vertical-align: top;\n",
       "    }\n",
       "\n",
       "    .dataframe thead th {\n",
       "        text-align: right;\n",
       "    }\n",
       "</style>\n",
       "<table border=\"1\" class=\"dataframe\">\n",
       "  <thead>\n",
       "    <tr style=\"text-align: right;\">\n",
       "      <th></th>\n",
       "      <th>Pic MC</th>\n",
       "      <th>Video MC</th>\n",
       "      <th>Num of SC</th>\n",
       "      <th>Pic SC</th>\n",
       "      <th>3.5mm jack</th>\n",
       "      <th>Battery</th>\n",
       "      <th>Price</th>\n",
       "      <th>ScreenArea</th>\n",
       "      <th>ppi</th>\n",
       "      <th>Link</th>\n",
       "    </tr>\n",
       "  </thead>\n",
       "  <tbody>\n",
       "    <tr>\n",
       "      <th>0</th>\n",
       "      <td>2.0</td>\n",
       "      <td>720p</td>\n",
       "      <td>1</td>\n",
       "      <td>0.3</td>\n",
       "      <td>Yes</td>\n",
       "      <td>2580.0</td>\n",
       "      <td>70.0</td>\n",
       "      <td>137.9</td>\n",
       "      <td>170.0</td>\n",
       "      <td>https://www.gsmarena.com/alcatel_1t_7-9094.php</td>\n",
       "    </tr>\n",
       "    <tr>\n",
       "      <th>1</th>\n",
       "      <td>12.0</td>\n",
       "      <td>1080p</td>\n",
       "      <td>1</td>\n",
       "      <td>8.0</td>\n",
       "      <td>Yes</td>\n",
       "      <td>2850.0</td>\n",
       "      <td>140.0</td>\n",
       "      <td>74.5</td>\n",
       "      <td>424.0</td>\n",
       "      <td>https://www.gsmarena.com/alcatel_idol_5s-8844.php</td>\n",
       "    </tr>\n",
       "    <tr>\n",
       "      <th>2</th>\n",
       "      <td>13.0</td>\n",
       "      <td>1080p</td>\n",
       "      <td>1</td>\n",
       "      <td>5.0</td>\n",
       "      <td>Yes</td>\n",
       "      <td>2800.0</td>\n",
       "      <td>120.0</td>\n",
       "      <td>74.9</td>\n",
       "      <td>423.0</td>\n",
       "      <td>https://www.gsmarena.com/alcatel_idol_5-8832.php</td>\n",
       "    </tr>\n",
       "    <tr>\n",
       "      <th>3</th>\n",
       "      <td>12.0</td>\n",
       "      <td>1080p</td>\n",
       "      <td>1</td>\n",
       "      <td>5.0</td>\n",
       "      <td>Yes</td>\n",
       "      <td>4000.0</td>\n",
       "      <td>260.0</td>\n",
       "      <td>99.2</td>\n",
       "      <td>367.0</td>\n",
       "      <td>https://www.gsmarena.com/alcatel_a7_xl-8843.php</td>\n",
       "    </tr>\n",
       "    <tr>\n",
       "      <th>4</th>\n",
       "      <td>16.0</td>\n",
       "      <td>1080p</td>\n",
       "      <td>1</td>\n",
       "      <td>8.0</td>\n",
       "      <td>Yes</td>\n",
       "      <td>4000.0</td>\n",
       "      <td>190.0</td>\n",
       "      <td>83.4</td>\n",
       "      <td>401.0</td>\n",
       "      <td>https://www.gsmarena.com/alcatel_a7-8830.php</td>\n",
       "    </tr>\n",
       "  </tbody>\n",
       "</table>\n",
       "</div>"
      ],
      "text/plain": [
       "   Pic MC Video MC  Num of SC  Pic SC 3.5mm jack  Battery  Price  ScreenArea  \\\n",
       "0     2.0     720p          1     0.3        Yes   2580.0   70.0       137.9   \n",
       "1    12.0    1080p          1     8.0        Yes   2850.0  140.0        74.5   \n",
       "2    13.0    1080p          1     5.0        Yes   2800.0  120.0        74.9   \n",
       "3    12.0    1080p          1     5.0        Yes   4000.0  260.0        99.2   \n",
       "4    16.0    1080p          1     8.0        Yes   4000.0  190.0        83.4   \n",
       "\n",
       "     ppi                                               Link  \n",
       "0  170.0     https://www.gsmarena.com/alcatel_1t_7-9094.php  \n",
       "1  424.0  https://www.gsmarena.com/alcatel_idol_5s-8844.php  \n",
       "2  423.0   https://www.gsmarena.com/alcatel_idol_5-8832.php  \n",
       "3  367.0    https://www.gsmarena.com/alcatel_a7_xl-8843.php  \n",
       "4  401.0       https://www.gsmarena.com/alcatel_a7-8830.php  "
      ]
     },
     "execution_count": 5,
     "metadata": {},
     "output_type": "execute_result"
    }
   ],
   "source": [
    "df[df.columns[12:]].head()"
   ]
  },
  {
   "cell_type": "code",
   "execution_count": null,
   "id": "25bf56b0",
   "metadata": {},
   "outputs": [],
   "source": []
  }
 ],
 "metadata": {
  "kernelspec": {
   "display_name": "Python 3 (ipykernel)",
   "language": "python",
   "name": "python3"
  },
  "language_info": {
   "codemirror_mode": {
    "name": "ipython",
    "version": 3
   },
   "file_extension": ".py",
   "mimetype": "text/x-python",
   "name": "python",
   "nbconvert_exporter": "python",
   "pygments_lexer": "ipython3",
   "version": "3.9.12"
  }
 },
 "nbformat": 4,
 "nbformat_minor": 5
}
