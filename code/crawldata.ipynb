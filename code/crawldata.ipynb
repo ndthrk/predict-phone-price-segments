{
 "cells": [
  {
   "cell_type": "code",
   "execution_count": 1,
   "id": "b9459287",
   "metadata": {},
   "outputs": [],
   "source": [
    "import pandas as pd\n",
    "import numpy as np\n",
    "from selenium import webdriver\n",
    "from selenium.webdriver.common.by import By\n",
    "from selenium.webdriver.support.ui import Select\n",
    "from selenium.common.exceptions import NoSuchElementException\n",
    "from webdriver_manager.chrome import ChromeDriverManager"
   ]
  },
  {
   "cell_type": "code",
   "execution_count": 6,
   "id": "35de9e96",
   "metadata": {},
   "outputs": [],
   "source": [
    "driver = webdriver.Chrome()"
   ]
  },
  {
   "cell_type": "code",
   "execution_count": 7,
   "id": "4182b5a4",
   "metadata": {},
   "outputs": [],
   "source": [
    "main_url = 'https://www.gsmarena.com/makers.php3'"
   ]
  },
  {
   "cell_type": "code",
   "execution_count": 8,
   "id": "acf4f49c",
   "metadata": {},
   "outputs": [],
   "source": [
    "driver.get(main_url)"
   ]
  },
  {
   "cell_type": "markdown",
   "id": "68e453db",
   "metadata": {},
   "source": [
    "# Link"
   ]
  },
  {
   "cell_type": "markdown",
   "id": "82635424",
   "metadata": {},
   "source": [
    "## Các thương hiệu"
   ]
  },
  {
   "cell_type": "code",
   "execution_count": 9,
   "id": "14a56acb",
   "metadata": {},
   "outputs": [],
   "source": [
    "lst_webElement = driver.find_element(By.CLASS_NAME,'st-text').find_elements(By.TAG_NAME,'a')"
   ]
  },
  {
   "cell_type": "code",
   "execution_count": 12,
   "id": "4c67e4e9",
   "metadata": {},
   "outputs": [
    {
     "data": {
      "text/plain": [
       "<selenium.webdriver.remote.webelement.WebElement (session=\"68fe0144fd471a0f89a48bc9d71bd08b\", element=\"0bcdfc2c-7520-4bf1-8667-b13dfc90ca72\")>"
      ]
     },
     "execution_count": 12,
     "metadata": {},
     "output_type": "execute_result"
    }
   ],
   "source": [
    "lst_webElement[0]"
   ]
  },
  {
   "cell_type": "code",
   "execution_count": 7,
   "id": "ac3ebcdb",
   "metadata": {},
   "outputs": [],
   "source": [
    "lst_brand_phone = []\n",
    "lst_link_brand = []\n",
    "for br in lst_webElement:\n",
    "    lst_brand_phone.append(br.text.split('\\n')[0].lower())\n",
    "    lst_link_brand.append(br.get_attribute('href'))"
   ]
  },
  {
   "cell_type": "code",
   "execution_count": 8,
   "id": "f1026af1",
   "metadata": {},
   "outputs": [
    {
     "data": {
      "text/plain": [
       "(119, 119)"
      ]
     },
     "execution_count": 8,
     "metadata": {},
     "output_type": "execute_result"
    }
   ],
   "source": [
    "len(lst_brand_phone), len(lst_link_brand)"
   ]
  },
  {
   "cell_type": "code",
   "execution_count": 9,
   "id": "305cf510",
   "metadata": {},
   "outputs": [],
   "source": [
    "pd.DataFrame(lst_link_brand,lst_brand_phone).to_csv('link_brand.csv')"
   ]
  },
  {
   "cell_type": "markdown",
   "id": "df653ef7",
   "metadata": {},
   "source": [
    "## Các trang web sản phẩm"
   ]
  },
  {
   "cell_type": "code",
   "execution_count": 18,
   "id": "51cf76eb",
   "metadata": {},
   "outputs": [],
   "source": [
    "lst_link_brand = list(pd.read_csv('link_brand.csv')['0'])"
   ]
  },
  {
   "cell_type": "code",
   "execution_count": 19,
   "id": "7c5e95d8",
   "metadata": {},
   "outputs": [],
   "source": [
    "link_all_page = []\n",
    "for link in lst_link_brand:\n",
    "    link_all_page.append(link)\n",
    "    driver.get(link)\n",
    "    driver.implicitly_wait(0.5)\n",
    "    try:\n",
    "        link_page = driver.find_element(By.CLASS_NAME,'nav-pages').find_elements(By.TAG_NAME,'a')\n",
    "        for link_ in link_page:\n",
    "            link_all_page.append(link_.get_attribute('href'))\n",
    "    except NoSuchElementException:\n",
    "        continue"
   ]
  },
  {
   "cell_type": "code",
   "execution_count": 20,
   "id": "213d2f9c",
   "metadata": {},
   "outputs": [
    {
     "data": {
      "text/plain": [
       "359"
      ]
     },
     "execution_count": 20,
     "metadata": {},
     "output_type": "execute_result"
    }
   ],
   "source": [
    "len(link_all_page)"
   ]
  },
  {
   "cell_type": "code",
   "execution_count": 21,
   "id": "e89ec2f1",
   "metadata": {},
   "outputs": [],
   "source": [
    "with open('link_page.text','w') as f:\n",
    "    f.write('\\n'.join(link_all_page))"
   ]
  },
  {
   "cell_type": "markdown",
   "id": "bdfb9502",
   "metadata": {},
   "source": [
    "## Link tất cả sản phẩm"
   ]
  },
  {
   "cell_type": "code",
   "execution_count": 3,
   "id": "f7972f77",
   "metadata": {},
   "outputs": [
    {
     "data": {
      "text/plain": [
       "359"
      ]
     },
     "execution_count": 3,
     "metadata": {},
     "output_type": "execute_result"
    }
   ],
   "source": [
    "link_all_page = []\n",
    "with open('link_page.text') as f:\n",
    "    link_all_page = f.readlines()\n",
    "len(link_all_page)"
   ]
  },
  {
   "cell_type": "code",
   "execution_count": 10,
   "id": "f9c9d043",
   "metadata": {
    "scrolled": true
   },
   "outputs": [],
   "source": [
    "link_all_products=[]\n",
    "i=0\n",
    "for link in link_all_page:\n",
    "    i+=1\n",
    "    driver.get(link)\n",
    "#     driver.implicitly_wait(0.5)\n",
    "    time.sleep(0.5)\n",
    "    try:\n",
    "#         print(i, end = ',')\n",
    "        lst_webE_products = driver.find_element(By.CLASS_NAME,'makers').find_elements(By.TAG_NAME,'a')\n",
    "#         driver.implicitly_wait(0.5)\n",
    "        time.sleep(0.2)\n",
    "        for item in lst_webE_products:\n",
    "            link_all_products.append(item.get_attribute('href'))\n",
    "    except:\n",
    "        continue"
   ]
  },
  {
   "cell_type": "code",
   "execution_count": 11,
   "id": "febd5317",
   "metadata": {},
   "outputs": [
    {
     "name": "stdout",
     "output_type": "stream",
     "text": [
      "12012\n"
     ]
    }
   ],
   "source": [
    "print(len(link_all_products))"
   ]
  },
  {
   "cell_type": "code",
   "execution_count": 13,
   "id": "0c482ebf",
   "metadata": {},
   "outputs": [],
   "source": [
    "with open('link_smartphone.txt','w') as f:\n",
    "    f.write('\\n'.join(link_all_products))"
   ]
  },
  {
   "cell_type": "markdown",
   "id": "58e6db63",
   "metadata": {},
   "source": [
    "# Thu thập dữ liệu"
   ]
  },
  {
   "cell_type": "code",
   "execution_count": null,
   "id": "77f89bb7",
   "metadata": {},
   "outputs": [],
   "source": [
    "link_smartphone = []\n",
    "with open('link_smartphone.txt') as f:\n",
    "    link_smartphone = f.readlines()\n",
    "len(link_smartphone)"
   ]
  },
  {
   "cell_type": "code",
   "execution_count": null,
   "id": "356eb70d",
   "metadata": {},
   "outputs": [],
   "source": [
    "Thu thập dữ liệu bằng python"
   ]
  },
  {
   "cell_type": "code",
   "execution_count": null,
   "id": "9664a943",
   "metadata": {},
   "outputs": [],
   "source": [
    "lst_data = []\n",
    "type_camera = {'Single':1,'Dual':2,'Triple':3,'Quad':4}\n",
    "\n",
    "for link in link_smartphone:\n",
    "    driver.get(link)\n",
    "#     time.sleep(2)\n",
    "#     driver.implicitly_wait(3)\n",
    "    dic_tmp = dict.fromkeys(['Name','Brand','Announced','Status','Size','Resolution',\n",
    "                            'OS','Chipset','Card slot','ROM','RAM','Num of MC','Pic MC','Video MC',\n",
    "                            'Num of SC','Pic SC','Video SC','Loudspeaker','3.5mm jack','Battery','Price'])\n",
    "    try:\n",
    "        model_br = driver.find_element(By.CLASS_NAME,'specs-phone-name-title').text.split(' ')\n",
    "        dic_tmp['Brand'] = model_br[0]\n",
    "        dic_tmp['Name'] = ' '.join(model_br[1:])\n",
    "    except NoSuchElementException:\n",
    "        print('Error 429: TO MANY RQ :) in link index',i)\n",
    "        break\n",
    "    soup = BeautifulSoup(driver.page_source)\n",
    "    soup_table = soup.find_all(\"table\")\n",
    "    for table in soup_table:\n",
    "\n",
    "        df_tmp_raw = pd.DataFrame(pd.read_html(str(table))[0])\n",
    "        df = df_tmp_raw.drop(0,axis=1).dropna(how='all').set_index(1).T\n",
    "        name_table = df_tmp_raw.at[0,0].lower()\n",
    "        if name_table == 'main camera':\n",
    "            try:\n",
    "                dic_tmp['Num of MC'] = type_camera[df.columns[0]]\n",
    "                dic_tmp['Pic MC'] = ','.join(re.findall(r\"(\\d+) MP\", df.at[2,df.columns[0]]))\n",
    "                dic_tmp['Video MC'] = df.at[2,'Video']\n",
    "            except:\n",
    "                pass\n",
    "        elif name_table == 'selfie camera':\n",
    "            try:\n",
    "                dic_tmp['Num of SC'] = type_camera[df.columns[0]]\n",
    "                dic_tmp['Pic SC'] = ','.join(re.findall(r\"(\\d+) MP\", df.at[2,df.columns[0]]))\n",
    "                dic_tmp['Video SC'] = df.at[2,'Video']\n",
    "            except:\n",
    "                pass\n",
    "        elif name_table == 'display':\n",
    "            try:\n",
    "                dic_tmp['Size'] = df.at[2,'Size']\n",
    "                dic_tmp['Resolution'] = df.at[2,'Resolution']\n",
    "            except:\n",
    "                pass\n",
    "        elif name_table == 'launch':\n",
    "            try:\n",
    "                dic_tmp['Announced'] = df.at[2,'Announced']\n",
    "                dic_tmp['Status'] = df.at[2,'Status']\n",
    "            except:\n",
    "                pass\n",
    "        elif name_table == 'platform':\n",
    "            try:\n",
    "                dic_tmp['OS'] = df.at[2,'OS']\n",
    "                dic_tmp['Chipset'] = df.at[2,'Chipset']\n",
    "            except:\n",
    "                pass\n",
    "        elif name_table == 'memory':\n",
    "            try:\n",
    "                dic_tmp['Card slot'] = df.at[2,'Card slot']\n",
    "                romram = re.findall(r\"(\\d+)GB\", df.at[2,'Internal'].split(', ')[0])\n",
    "                rom = ram = 0\n",
    "                if len(romram) == 2:\n",
    "                    rom, ram = romram[0], romram[1]\n",
    "                dic_tmp['ROM'], dic_tmp['RAM'] = rom, ram\n",
    "            except:\n",
    "                pass\n",
    "        elif name_table == 'sound':\n",
    "            try:\n",
    "                dic_tmp['Loudspeaker'] = df.at[2,'Loudspeaker']\n",
    "                dic_tmp['3.5mm jack'] = df.at[2,'3.5mm jack']\n",
    "            except:\n",
    "                pass\n",
    "        elif name_table == 'battery':\n",
    "            try:\n",
    "                dic_tmp['Battery'] = re.findall(r\"(\\d+) mAh\", df.at[2,'Type'].split(',')[0])[0]\n",
    "            except:\n",
    "                pass\n",
    "        elif name_table == 'misc':\n",
    "            try:\n",
    "                dic_tmp['Price'] = df.at[2,'Price']\n",
    "            except:\n",
    "                pass\n",
    "    lst_data.append(dic_tmp)\n",
    "#     print(i, end = ',')\n",
    "    i+=1"
   ]
  },
  {
   "cell_type": "code",
   "execution_count": null,
   "id": "5d1e848e",
   "metadata": {},
   "outputs": [],
   "source": [
    "len(lst_data)"
   ]
  },
  {
   "cell_type": "code",
   "execution_count": null,
   "id": "bd078ed3",
   "metadata": {},
   "outputs": [],
   "source": [
    "pd.DataFrame(lst_data).to_csv('.\\data12012.csv')"
   ]
  }
 ],
 "metadata": {
  "kernelspec": {
   "display_name": "Python 3 (ipykernel)",
   "language": "python",
   "name": "python3"
  },
  "language_info": {
   "codemirror_mode": {
    "name": "ipython",
    "version": 3
   },
   "file_extension": ".py",
   "mimetype": "text/x-python",
   "name": "python",
   "nbconvert_exporter": "python",
   "pygments_lexer": "ipython3",
   "version": "3.11.5"
  }
 },
 "nbformat": 4,
 "nbformat_minor": 5
}
