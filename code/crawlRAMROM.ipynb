{
 "cells": [
  {
   "cell_type": "code",
   "execution_count": 1,
   "id": "f22b30c2",
   "metadata": {},
   "outputs": [],
   "source": [
    "from bs4 import BeautifulSoup\n",
    "import time\n",
    "import requests\n",
    "import pandas as pd"
   ]
  },
  {
   "cell_type": "code",
   "execution_count": 2,
   "id": "0dfa6dfd",
   "metadata": {},
   "outputs": [],
   "source": [
    "df = pd.read_csv('dataClearRaw.csv')"
   ]
  },
  {
   "cell_type": "code",
   "execution_count": 3,
   "id": "8d4e6749",
   "metadata": {},
   "outputs": [
    {
     "data": {
      "text/plain": [
       "12012"
      ]
     },
     "execution_count": 3,
     "metadata": {},
     "output_type": "execute_result"
    }
   ],
   "source": [
    "link = []\n",
    "with open('link_smartphone.txt') as f:\n",
    "    link = f.readlines()\n",
    "len(link)"
   ]
  },
  {
   "cell_type": "code",
   "execution_count": 6,
   "id": "c180a232",
   "metadata": {},
   "outputs": [],
   "source": [
    "lst_link=[]\n",
    "for i in df.index:\n",
    "    if i == 1225:\n",
    "        lst_link.append('https://www.gsmarena.com/bq__aquaris_m10-7842.php')\n",
    "        continue\n",
    "    if i == 1674:\n",
    "        lst_link.append('https://www.gsmarena.com/pantech_flex__p8010-5008.php')\n",
    "        continue\n",
    "    name = df.at[i,'Brand'].replace('-','_').lower()+'_'+df.at[i,'Name'].replace(' ','_').replace('.','_').replace('-','_').replace('/','_').replace(\"'\",'_').lower()\n",
    "    a = []\n",
    "    for l in link:\n",
    "        if name in l[25:-1]:\n",
    "            a.append(l[25:-1])\n",
    "    if len(a) != 1:\n",
    "        for v in a:\n",
    "            scheck = v[len(name)+1:-4]\n",
    "            if scheck.isnumeric():\n",
    "                ss = 'https://www.gsmarena.com/'+v\n",
    "                lst_link.append(ss)\n",
    "                break\n",
    "    else:\n",
    "        ss='https://www.gsmarena.com/'+a[0]\n",
    "        lst_link.append(ss)"
   ]
  },
  {
   "cell_type": "code",
   "execution_count": 4,
   "id": "a7a820c3",
   "metadata": {},
   "outputs": [],
   "source": [
    "lst_link = []\n",
    "with open('linkdata.txt') as f:\n",
    "    lst_link = f.readlines()"
   ]
  },
  {
   "cell_type": "code",
   "execution_count": 5,
   "id": "0a863141",
   "metadata": {},
   "outputs": [
    {
     "data": {
      "text/plain": [
       "(4533, 4533)"
      ]
     },
     "execution_count": 5,
     "metadata": {},
     "output_type": "execute_result"
    }
   ],
   "source": [
    "len(lst_link), len(df)"
   ]
  },
  {
   "cell_type": "code",
   "execution_count": 6,
   "id": "499b6a12",
   "metadata": {},
   "outputs": [
    {
     "data": {
      "text/plain": [
       "4533"
      ]
     },
     "execution_count": 6,
     "metadata": {},
     "output_type": "execute_result"
    }
   ],
   "source": [
    "len(set(lst_link))"
   ]
  },
  {
   "cell_type": "code",
   "execution_count": 52,
   "id": "15f8dd16",
   "metadata": {},
   "outputs": [],
   "source": [
    "rom = []\n",
    "ram = []\n",
    "chip = []"
   ]
  },
  {
   "cell_type": "code",
   "execution_count": 37,
   "id": "87ef5f08",
   "metadata": {},
   "outputs": [],
   "source": [
    "i = 0"
   ]
  },
  {
   "cell_type": "code",
   "execution_count": 51,
   "id": "a606150a",
   "metadata": {},
   "outputs": [],
   "source": [
    "headers = {'User-Agent': 'Mozilla/5.0 (Windows NT 10.0; Win64; x64) AppleWebKit/537.36 (KHTML, like Gecko) Chrome/88.0.4324.150 Safari/537.36'}\n",
    "for link in lst_link:\n",
    "    rt = requests.get(link[:-1], headers=headers,allow_redirects=False).text\n",
    "    time.sleep(3.14)\n",
    "    soup = BeautifulSoup(rt, 'html.parser')\n",
    "    try:\n",
    "        rom.append(soup.select_one('[data-spec=\"storage-hl\"]').text)\n",
    "        ram.append(soup.select_one('[class=\"accent accent-expansion\"]').text)\n",
    "        chip.append(soup.select_one('[data-spec=\"chipset-hl\"]').text)\n",
    "    except:\n",
    "        print('Error',i, lst_link[i])\n",
    "        break\n",
    "    i+=1"
   ]
  },
  {
   "cell_type": "code",
   "execution_count": 53,
   "id": "9e957262",
   "metadata": {},
   "outputs": [],
   "source": [
    "dff = pd.DataFrame({'RAM':ram,'ROM':rom,'Chip':chip})\n",
    "dff.to_csv('ramromchip4533.csv',index=False)"
   ]
  }
 ],
 "metadata": {
  "kernelspec": {
   "display_name": "Python 3 (ipykernel)",
   "language": "python",
   "name": "python3"
  },
  "language_info": {
   "codemirror_mode": {
    "name": "ipython",
    "version": 3
   },
   "file_extension": ".py",
   "mimetype": "text/x-python",
   "name": "python",
   "nbconvert_exporter": "python",
   "pygments_lexer": "ipython3",
   "version": "3.9.12"
  }
 },
 "nbformat": 4,
 "nbformat_minor": 5
}
